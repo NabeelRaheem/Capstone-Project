{
 "cells": [
  {
   "cell_type": "code",
   "execution_count": 1,
   "id": "b4cf9598",
   "metadata": {},
   "outputs": [
    {
     "name": "stderr",
     "output_type": "stream",
     "text": [
      "C:\\Users\\imuba\\anaconda3\\lib\\site-packages\\statsmodels\\tsa\\base\\tsa_model.py:7: FutureWarning: pandas.Int64Index is deprecated and will be removed from pandas in a future version. Use pandas.Index with the appropriate dtype instead.\n",
      "  from pandas import (to_datetime, Int64Index, DatetimeIndex, Period,\n",
      "C:\\Users\\imuba\\anaconda3\\lib\\site-packages\\statsmodels\\tsa\\base\\tsa_model.py:7: FutureWarning: pandas.Float64Index is deprecated and will be removed from pandas in a future version. Use pandas.Index with the appropriate dtype instead.\n",
      "  from pandas import (to_datetime, Int64Index, DatetimeIndex, Period,\n"
     ]
    }
   ],
   "source": [
    "import numpy as np\n",
    "import pandas as pd\n",
    "import matplotlib.pyplot as plt\n",
    "import matplotlib.ticker as ticker\n",
    "import seaborn as sn\n",
    "from datetime import date\n",
    "from scipy.stats import chi2_contingency\n",
    "from sklearn.cluster import KMeans\n",
    "from sklearn.preprocessing import StandardScaler\n",
    "from sklearn.preprocessing import OneHotEncoder\n",
    "from sklearn.preprocessing import OrdinalEncoder\n",
    "from imblearn.over_sampling import SMOTE\n",
    "from sklearn.model_selection import train_test_split\n",
    "from sklearn.linear_model import LogisticRegression\n",
    "from sklearn.metrics import accuracy_score\n",
    "from sklearn.metrics import confusion_matrix\n",
    "from sklearn.metrics import precision_score, recall_score, f1_score, roc_auc_score\n",
    "from statsmodels.tsa.seasonal import seasonal_decompose\n",
    "from statsmodels.tsa.stattools import adfuller\n",
    "from scipy.signal import find_peaks\n",
    "from statsmodels.stats.diagnostic import acorr_ljungbox"
   ]
  },
  {
   "cell_type": "code",
   "execution_count": 2,
   "id": "630eae63",
   "metadata": {},
   "outputs": [],
   "source": [
    "#reading csv file\n",
    "df= pd.read_csv(\"INVISTA_EAD_3.csv\")"
   ]
  },
  {
   "cell_type": "code",
   "execution_count": 3,
   "id": "e13b3bdd",
   "metadata": {},
   "outputs": [
    {
     "data": {
      "text/html": [
       "<div>\n",
       "<style scoped>\n",
       "    .dataframe tbody tr th:only-of-type {\n",
       "        vertical-align: middle;\n",
       "    }\n",
       "\n",
       "    .dataframe tbody tr th {\n",
       "        vertical-align: top;\n",
       "    }\n",
       "\n",
       "    .dataframe thead th {\n",
       "        text-align: right;\n",
       "    }\n",
       "</style>\n",
       "<table border=\"1\" class=\"dataframe\">\n",
       "  <thead>\n",
       "    <tr style=\"text-align: right;\">\n",
       "      <th></th>\n",
       "      <th>CREATE_DATE</th>\n",
       "      <th>COMPANY_CODE_ID</th>\n",
       "      <th>VENDOR_ID</th>\n",
       "      <th>POSTAL_CD</th>\n",
       "      <th>RELEASE_DATE</th>\n",
       "      <th>MATERIAL_ID</th>\n",
       "      <th>SUB_COMMODITY_DESC</th>\n",
       "      <th>MRP_TYPE_ID</th>\n",
       "      <th>MRP_TYPE_DESC_E</th>\n",
       "      <th>PLANT_ID</th>\n",
       "      <th>POR_DELIVERY_DATE</th>\n",
       "      <th>FIRST_GR_POSTING_DATE</th>\n",
       "      <th>DELIVERY_DATE</th>\n",
       "      <th>REQUESTED_DELIVERY_DATE</th>\n",
       "      <th>PLANNED_DELIVERY_DAYS</th>\n",
       "      <th>BI_LAST_UPDATED_PURCHASE_DOCUMENT_ITEM</th>\n",
       "    </tr>\n",
       "  </thead>\n",
       "  <tbody>\n",
       "    <tr>\n",
       "      <th>0</th>\n",
       "      <td>2018-09-07</td>\n",
       "      <td>CN15</td>\n",
       "      <td>V4014</td>\n",
       "      <td>29078</td>\n",
       "      <td>NaN</td>\n",
       "      <td>2.100008e+09</td>\n",
       "      <td>Custom Manufacturing</td>\n",
       "      <td>1.0</td>\n",
       "      <td>1.0</td>\n",
       "      <td>1016.0</td>\n",
       "      <td>2018-11-28</td>\n",
       "      <td>2018-11-22</td>\n",
       "      <td>2018-11-16</td>\n",
       "      <td>2018-11-16</td>\n",
       "      <td>52.0</td>\n",
       "      <td>2023-05-30</td>\n",
       "    </tr>\n",
       "    <tr>\n",
       "      <th>1</th>\n",
       "      <td>2018-09-07</td>\n",
       "      <td>CN20</td>\n",
       "      <td>8010095928</td>\n",
       "      <td>201206</td>\n",
       "      <td>NaN</td>\n",
       "      <td>NaN</td>\n",
       "      <td>Tanks and Process Equipment</td>\n",
       "      <td>NaN</td>\n",
       "      <td>NaN</td>\n",
       "      <td>1032.0</td>\n",
       "      <td>NaN</td>\n",
       "      <td>NaN</td>\n",
       "      <td>2018-09-28</td>\n",
       "      <td>2018-09-28</td>\n",
       "      <td>0.0</td>\n",
       "      <td>2023-05-30</td>\n",
       "    </tr>\n",
       "    <tr>\n",
       "      <th>2</th>\n",
       "      <td>2018-09-07</td>\n",
       "      <td>CA10</td>\n",
       "      <td>8010003146</td>\n",
       "      <td>L6L 6R2</td>\n",
       "      <td>NaN</td>\n",
       "      <td>1.100126e+09</td>\n",
       "      <td>Piping &amp; Tubing</td>\n",
       "      <td>1.0</td>\n",
       "      <td>1.0</td>\n",
       "      <td>4036.0</td>\n",
       "      <td>NaN</td>\n",
       "      <td>2018-12-05</td>\n",
       "      <td>2018-11-12</td>\n",
       "      <td>2018-10-01</td>\n",
       "      <td>24.0</td>\n",
       "      <td>2023-05-30</td>\n",
       "    </tr>\n",
       "    <tr>\n",
       "      <th>3</th>\n",
       "      <td>2018-09-07</td>\n",
       "      <td>CA10</td>\n",
       "      <td>8010005836</td>\n",
       "      <td>N2C 0B7</td>\n",
       "      <td>NaN</td>\n",
       "      <td>NaN</td>\n",
       "      <td>Material Handling</td>\n",
       "      <td>NaN</td>\n",
       "      <td>NaN</td>\n",
       "      <td>4036.0</td>\n",
       "      <td>2018-09-07</td>\n",
       "      <td>2018-09-18</td>\n",
       "      <td>2018-09-08</td>\n",
       "      <td>2018-09-08</td>\n",
       "      <td>0.0</td>\n",
       "      <td>2023-05-30</td>\n",
       "    </tr>\n",
       "    <tr>\n",
       "      <th>4</th>\n",
       "      <td>2018-09-07</td>\n",
       "      <td>CA10</td>\n",
       "      <td>8010005836</td>\n",
       "      <td>N2C 0B7</td>\n",
       "      <td>NaN</td>\n",
       "      <td>NaN</td>\n",
       "      <td>Material Handling</td>\n",
       "      <td>NaN</td>\n",
       "      <td>NaN</td>\n",
       "      <td>4036.0</td>\n",
       "      <td>2018-09-07</td>\n",
       "      <td>2018-09-18</td>\n",
       "      <td>2018-09-08</td>\n",
       "      <td>2018-09-08</td>\n",
       "      <td>0.0</td>\n",
       "      <td>2023-05-30</td>\n",
       "    </tr>\n",
       "  </tbody>\n",
       "</table>\n",
       "</div>"
      ],
      "text/plain": [
       "  CREATE_DATE COMPANY_CODE_ID   VENDOR_ID POSTAL_CD RELEASE_DATE  \\\n",
       "0  2018-09-07            CN15       V4014     29078          NaN   \n",
       "1  2018-09-07            CN20  8010095928    201206          NaN   \n",
       "2  2018-09-07            CA10  8010003146   L6L 6R2          NaN   \n",
       "3  2018-09-07            CA10  8010005836   N2C 0B7          NaN   \n",
       "4  2018-09-07            CA10  8010005836   N2C 0B7          NaN   \n",
       "\n",
       "    MATERIAL_ID           SUB_COMMODITY_DESC  MRP_TYPE_ID  MRP_TYPE_DESC_E  \\\n",
       "0  2.100008e+09         Custom Manufacturing          1.0              1.0   \n",
       "1           NaN  Tanks and Process Equipment          NaN              NaN   \n",
       "2  1.100126e+09              Piping & Tubing          1.0              1.0   \n",
       "3           NaN            Material Handling          NaN              NaN   \n",
       "4           NaN            Material Handling          NaN              NaN   \n",
       "\n",
       "   PLANT_ID POR_DELIVERY_DATE FIRST_GR_POSTING_DATE DELIVERY_DATE  \\\n",
       "0    1016.0        2018-11-28            2018-11-22    2018-11-16   \n",
       "1    1032.0               NaN                   NaN    2018-09-28   \n",
       "2    4036.0               NaN            2018-12-05    2018-11-12   \n",
       "3    4036.0        2018-09-07            2018-09-18    2018-09-08   \n",
       "4    4036.0        2018-09-07            2018-09-18    2018-09-08   \n",
       "\n",
       "  REQUESTED_DELIVERY_DATE  PLANNED_DELIVERY_DAYS  \\\n",
       "0              2018-11-16                   52.0   \n",
       "1              2018-09-28                    0.0   \n",
       "2              2018-10-01                   24.0   \n",
       "3              2018-09-08                    0.0   \n",
       "4              2018-09-08                    0.0   \n",
       "\n",
       "  BI_LAST_UPDATED_PURCHASE_DOCUMENT_ITEM  \n",
       "0                             2023-05-30  \n",
       "1                             2023-05-30  \n",
       "2                             2023-05-30  \n",
       "3                             2023-05-30  \n",
       "4                             2023-05-30  "
      ]
     },
     "execution_count": 3,
     "metadata": {},
     "output_type": "execute_result"
    }
   ],
   "source": [
    "df.head(5)"
   ]
  },
  {
   "cell_type": "code",
   "execution_count": 4,
   "id": "d2c2e60b",
   "metadata": {},
   "outputs": [],
   "source": [
    "#droping unneccessary columns\n",
    "df = df.drop(columns = ['RELEASE_DATE','MRP_TYPE_ID', 'MRP_TYPE_DESC_E', 'PLANNED_DELIVERY_DAYS'])"
   ]
  },
  {
   "cell_type": "code",
   "execution_count": 5,
   "id": "3877d748",
   "metadata": {},
   "outputs": [
    {
     "data": {
      "text/plain": [
       "CREATE_DATE                                object\n",
       "COMPANY_CODE_ID                            object\n",
       "VENDOR_ID                                  object\n",
       "POSTAL_CD                                  object\n",
       "MATERIAL_ID                               float64\n",
       "SUB_COMMODITY_DESC                         object\n",
       "PLANT_ID                                  float64\n",
       "POR_DELIVERY_DATE                          object\n",
       "FIRST_GR_POSTING_DATE                      object\n",
       "DELIVERY_DATE                              object\n",
       "REQUESTED_DELIVERY_DATE                    object\n",
       "BI_LAST_UPDATED_PURCHASE_DOCUMENT_ITEM     object\n",
       "dtype: object"
      ]
     },
     "execution_count": 5,
     "metadata": {},
     "output_type": "execute_result"
    }
   ],
   "source": [
    "#seeing the datatypes\n",
    "df.dtypes"
   ]
  },
  {
   "cell_type": "markdown",
   "id": "c08853af",
   "metadata": {},
   "source": [
    "# Dealing With MATERIAL ID"
   ]
  },
  {
   "cell_type": "code",
   "execution_count": 6,
   "id": "89a4cf0f",
   "metadata": {},
   "outputs": [
    {
     "data": {
      "text/plain": [
       "520519"
      ]
     },
     "execution_count": 6,
     "metadata": {},
     "output_type": "execute_result"
    }
   ],
   "source": [
    "#checking the null values of Material ID column\n",
    "df['MATERIAL_ID'].isnull().sum()"
   ]
  },
  {
   "cell_type": "code",
   "execution_count": 7,
   "id": "7634a9fc",
   "metadata": {},
   "outputs": [],
   "source": [
    "'''\n",
    "As material id is associated with sub commodity, we group material id with sub commodity and impute the most frequent\n",
    "material id of each group in null values.\n",
    "'''\n",
    "def impute_most_frequent(group):\n",
    "    if group['MATERIAL_ID'].notna().any():\n",
    "        most_frequent = group['MATERIAL_ID'].value_counts().idxmax()\n",
    "        group['MATERIAL_ID'].fillna(most_frequent, inplace=True)\n",
    "    else:\n",
    "        pass\n",
    "    return group\n",
    "df = df.groupby('SUB_COMMODITY_DESC').apply(impute_most_frequent)"
   ]
  },
  {
   "cell_type": "code",
   "execution_count": 8,
   "id": "a306e5b8",
   "metadata": {},
   "outputs": [
    {
     "data": {
      "text/plain": [
       "21945"
      ]
     },
     "execution_count": 8,
     "metadata": {},
     "output_type": "execute_result"
    }
   ],
   "source": [
    "# checking null values after imputation\n",
    "df['MATERIAL_ID'].isnull().sum()"
   ]
  },
  {
   "cell_type": "code",
   "execution_count": 9,
   "id": "d9c32d57",
   "metadata": {},
   "outputs": [
    {
     "data": {
      "text/plain": [
       "41585"
      ]
     },
     "execution_count": 9,
     "metadata": {},
     "output_type": "execute_result"
    }
   ],
   "source": [
    "#checking unique value\n",
    "df['MATERIAL_ID'].nunique()"
   ]
  },
  {
   "cell_type": "code",
   "execution_count": 10,
   "id": "69215e64",
   "metadata": {},
   "outputs": [
    {
     "data": {
      "text/plain": [
       "(1088400, 12)"
      ]
     },
     "execution_count": 10,
     "metadata": {},
     "output_type": "execute_result"
    }
   ],
   "source": [
    "df.shape"
   ]
  },
  {
   "cell_type": "code",
   "execution_count": 11,
   "id": "0264d4d9",
   "metadata": {},
   "outputs": [],
   "source": [
    "# deleting the null values of material id\n",
    "df = df[~df['MATERIAL_ID'].isnull()]"
   ]
  },
  {
   "cell_type": "code",
   "execution_count": 12,
   "id": "772a6bec",
   "metadata": {},
   "outputs": [
    {
     "data": {
      "text/plain": [
       "(1066455, 12)"
      ]
     },
     "execution_count": 12,
     "metadata": {},
     "output_type": "execute_result"
    }
   ],
   "source": [
    "df.shape"
   ]
  },
  {
   "cell_type": "markdown",
   "id": "32624ccd",
   "metadata": {},
   "source": [
    "# Changing the Data Type"
   ]
  },
  {
   "cell_type": "code",
   "execution_count": 13,
   "id": "5959f113",
   "metadata": {},
   "outputs": [
    {
     "data": {
      "text/plain": [
       "CREATE_DATE                                object\n",
       "COMPANY_CODE_ID                            object\n",
       "VENDOR_ID                                  object\n",
       "POSTAL_CD                                  object\n",
       "MATERIAL_ID                               float64\n",
       "SUB_COMMODITY_DESC                         object\n",
       "PLANT_ID                                  float64\n",
       "POR_DELIVERY_DATE                          object\n",
       "FIRST_GR_POSTING_DATE                      object\n",
       "DELIVERY_DATE                              object\n",
       "REQUESTED_DELIVERY_DATE                    object\n",
       "BI_LAST_UPDATED_PURCHASE_DOCUMENT_ITEM     object\n",
       "dtype: object"
      ]
     },
     "execution_count": 13,
     "metadata": {},
     "output_type": "execute_result"
    }
   ],
   "source": [
    "df.dtypes"
   ]
  },
  {
   "cell_type": "code",
   "execution_count": 14,
   "id": "0da6dbe5",
   "metadata": {},
   "outputs": [
    {
     "data": {
      "text/plain": [
       "Index(['CREATE_DATE', 'COMPANY_CODE_ID', 'VENDOR_ID', 'POSTAL_CD',\n",
       "       'MATERIAL_ID', 'SUB_COMMODITY_DESC', 'PLANT_ID', 'POR_DELIVERY_DATE',\n",
       "       'FIRST_GR_POSTING_DATE', 'DELIVERY_DATE', 'REQUESTED_DELIVERY_DATE',\n",
       "       'BI_LAST_UPDATED_PURCHASE_DOCUMENT_ITEM'],\n",
       "      dtype='object')"
      ]
     },
     "execution_count": 14,
     "metadata": {},
     "output_type": "execute_result"
    }
   ],
   "source": [
    "df.columns"
   ]
  },
  {
   "cell_type": "code",
   "execution_count": 15,
   "id": "64d1b494",
   "metadata": {},
   "outputs": [],
   "source": [
    "#defining categorical columns and date columns\n",
    "date_column = ['CREATE_DATE', 'POR_DELIVERY_DATE', 'FIRST_GR_POSTING_DATE', 'DELIVERY_DATE', 'REQUESTED_DELIVERY_DATE', \n",
    "               'BI_LAST_UPDATED_PURCHASE_DOCUMENT_ITEM']\n",
    "string_column = ['COMPANY_CODE_ID', 'VENDOR_ID', 'POSTAL_CD', 'PLANT_ID', 'MATERIAL_ID', 'SUB_COMMODITY_DESC']"
   ]
  },
  {
   "cell_type": "code",
   "execution_count": 16,
   "id": "2aad7ef2",
   "metadata": {},
   "outputs": [],
   "source": [
    "# transforming data type to date time\n",
    "for column in date_column:\n",
    "    df[column] = pd.to_datetime(df[column], format = '%Y-%m-%d')"
   ]
  },
  {
   "cell_type": "code",
   "execution_count": 17,
   "id": "19e2d0fe",
   "metadata": {},
   "outputs": [],
   "source": [
    "#change the data type to string\n",
    "for column in string_column:\n",
    "    df[column] = df[column].astype('str')"
   ]
  },
  {
   "cell_type": "code",
   "execution_count": 18,
   "id": "143650da",
   "metadata": {},
   "outputs": [
    {
     "data": {
      "text/plain": [
       "CREATE_DATE                               datetime64[ns]\n",
       "COMPANY_CODE_ID                                   object\n",
       "VENDOR_ID                                         object\n",
       "POSTAL_CD                                         object\n",
       "MATERIAL_ID                                       object\n",
       "SUB_COMMODITY_DESC                                object\n",
       "PLANT_ID                                          object\n",
       "POR_DELIVERY_DATE                         datetime64[ns]\n",
       "FIRST_GR_POSTING_DATE                     datetime64[ns]\n",
       "DELIVERY_DATE                             datetime64[ns]\n",
       "REQUESTED_DELIVERY_DATE                   datetime64[ns]\n",
       "BI_LAST_UPDATED_PURCHASE_DOCUMENT_ITEM    datetime64[ns]\n",
       "dtype: object"
      ]
     },
     "execution_count": 18,
     "metadata": {},
     "output_type": "execute_result"
    }
   ],
   "source": [
    "df.dtypes"
   ]
  },
  {
   "cell_type": "markdown",
   "id": "215d53e8",
   "metadata": {},
   "source": [
    "### Dealing with postal code"
   ]
  },
  {
   "cell_type": "code",
   "execution_count": 19,
   "id": "66098351",
   "metadata": {},
   "outputs": [],
   "source": [
    "#removing space from the postal code\n",
    "df['POSTAL_CD'] = df['POSTAL_CD'].str.strip()"
   ]
  },
  {
   "cell_type": "code",
   "execution_count": 20,
   "id": "e9e39165",
   "metadata": {},
   "outputs": [
    {
     "name": "stdout",
     "output_type": "stream",
     "text": [
      "The POSTAL_CD column has 290816 value with space\n",
      "The POSTAL_CD column has 290812 value with two word\n"
     ]
    }
   ],
   "source": [
    "contains_space = df['POSTAL_CD'].str.contains(' ')\n",
    "contains_two_words = df['POSTAL_CD'].str.split().str.len() == 2\n",
    "print(f'The POSTAL_CD column has {contains_space.sum()} value with space')\n",
    "print(f'The POSTAL_CD column has {contains_two_words.sum()} value with two word')"
   ]
  },
  {
   "cell_type": "code",
   "execution_count": 21,
   "id": "673c4eda",
   "metadata": {},
   "outputs": [],
   "source": [
    "# Split the 'POSTAL_CD' column by hyphen ('-') and keep the first part (part before the hyphen)\n",
    "df['POSTAL_CD'] = df['POSTAL_CD'].str.split('-').str[0]"
   ]
  },
  {
   "cell_type": "code",
   "execution_count": 22,
   "id": "e1cffd8f",
   "metadata": {},
   "outputs": [],
   "source": [
    "#removing space from postal code\n",
    "df['POSTAL_CD'] = df['POSTAL_CD'].str.replace(' ', '')"
   ]
  },
  {
   "cell_type": "code",
   "execution_count": 23,
   "id": "0ade5b4f",
   "metadata": {},
   "outputs": [
    {
     "data": {
      "text/plain": [
       "3753"
      ]
     },
     "execution_count": 23,
     "metadata": {},
     "output_type": "execute_result"
    }
   ],
   "source": [
    "#checking unique values in postal code\n",
    "df['POSTAL_CD'].nunique()"
   ]
  },
  {
   "cell_type": "markdown",
   "id": "d565fa27",
   "metadata": {},
   "source": [
    "### SUB_COMMODITY_DESC"
   ]
  },
  {
   "cell_type": "code",
   "execution_count": 24,
   "id": "931ba38e",
   "metadata": {},
   "outputs": [],
   "source": [
    "#deleting comas from SUB_COMMODITY_DESC\n",
    "df['SUB_COMMODITY_DESC'] = df['SUB_COMMODITY_DESC'].str.replace(',', '')"
   ]
  },
  {
   "cell_type": "code",
   "execution_count": 25,
   "id": "2dd00929",
   "metadata": {},
   "outputs": [],
   "source": [
    "# deleting 'and' from SUB_COMMODITY_DESC\n",
    "df['SUB_COMMODITY_DESC'] = df['SUB_COMMODITY_DESC'].str.replace('and', '')"
   ]
  },
  {
   "cell_type": "code",
   "execution_count": 26,
   "id": "513e69b2",
   "metadata": {},
   "outputs": [],
   "source": [
    "# deleting '&' from SUB_COMMODITY_DESC\n",
    "df['SUB_COMMODITY_DESC'] = df['SUB_COMMODITY_DESC'].str.replace('&', '')"
   ]
  },
  {
   "cell_type": "code",
   "execution_count": 27,
   "id": "232293ad",
   "metadata": {},
   "outputs": [],
   "source": [
    "#removing space from  SUB_COMMODITY_DESC\n",
    "df['SUB_COMMODITY_DESC'] = df['SUB_COMMODITY_DESC'].str.strip()\n",
    "df['SUB_COMMODITY_DESC'] = df['SUB_COMMODITY_DESC'].str.replace(' ', '')"
   ]
  },
  {
   "cell_type": "code",
   "execution_count": 28,
   "id": "d2c0ba16",
   "metadata": {},
   "outputs": [
    {
     "data": {
      "text/plain": [
       "53"
      ]
     },
     "execution_count": 28,
     "metadata": {},
     "output_type": "execute_result"
    }
   ],
   "source": [
    "# checking unique values\n",
    "df['SUB_COMMODITY_DESC'].nunique()"
   ]
  },
  {
   "cell_type": "markdown",
   "id": "c890362d",
   "metadata": {},
   "source": [
    "### POR_DELIVERY_DATE"
   ]
  },
  {
   "cell_type": "code",
   "execution_count": 29,
   "id": "d7a664c3",
   "metadata": {},
   "outputs": [],
   "source": [
    "#filling the null values of POR_DELIVERY_DATE with REQUESTED_DELIVERY_DATE\n",
    "df['POR_DELIVERY_DATE'].fillna(df['REQUESTED_DELIVERY_DATE'], inplace=True)"
   ]
  },
  {
   "cell_type": "markdown",
   "id": "ab99f37f",
   "metadata": {},
   "source": [
    "# Missing Value"
   ]
  },
  {
   "cell_type": "code",
   "execution_count": 30,
   "id": "b07fa7ba",
   "metadata": {},
   "outputs": [
    {
     "data": {
      "text/plain": [
       "CREATE_DATE                                    0\n",
       "COMPANY_CODE_ID                                0\n",
       "VENDOR_ID                                      0\n",
       "POSTAL_CD                                      0\n",
       "MATERIAL_ID                                    0\n",
       "SUB_COMMODITY_DESC                             0\n",
       "PLANT_ID                                       0\n",
       "POR_DELIVERY_DATE                          45283\n",
       "FIRST_GR_POSTING_DATE                     160734\n",
       "DELIVERY_DATE                              45269\n",
       "REQUESTED_DELIVERY_DATE                    45299\n",
       "BI_LAST_UPDATED_PURCHASE_DOCUMENT_ITEM         0\n",
       "dtype: int64"
      ]
     },
     "execution_count": 30,
     "metadata": {},
     "output_type": "execute_result"
    }
   ],
   "source": [
    "missing_value = df.isnull().sum()\n",
    "missing_value"
   ]
  },
  {
   "cell_type": "code",
   "execution_count": 31,
   "id": "5b15c6ff",
   "metadata": {},
   "outputs": [
    {
     "name": "stdout",
     "output_type": "stream",
     "text": [
      "                                Column  Missing Percentage\n",
      "                           CREATE_DATE            0.000000\n",
      "                       COMPANY_CODE_ID            0.000000\n",
      "                             VENDOR_ID            0.000000\n",
      "                             POSTAL_CD            0.000000\n",
      "                           MATERIAL_ID            0.000000\n",
      "                    SUB_COMMODITY_DESC            0.000000\n",
      "                              PLANT_ID            0.000000\n",
      "                     POR_DELIVERY_DATE            4.246124\n",
      "                 FIRST_GR_POSTING_DATE           15.071803\n",
      "                         DELIVERY_DATE            4.244811\n",
      "               REQUESTED_DELIVERY_DATE            4.247624\n",
      "BI_LAST_UPDATED_PURCHASE_DOCUMENT_ITEM            0.000000\n"
     ]
    }
   ],
   "source": [
    "# checking the percentage of missing values in each column\n",
    "missing_percentage = (missing_value/len(df))*100\n",
    "missing_percentage_df = pd.DataFrame({'Column': missing_percentage.index, 'Missing Percentage': missing_percentage.values})\n",
    "print(missing_percentage_df.to_string(index=False))"
   ]
  },
  {
   "cell_type": "code",
   "execution_count": 32,
   "id": "a439f13c",
   "metadata": {},
   "outputs": [],
   "source": [
    "#Deleting columns with high null value\n",
    "columns_to_delete = ['FIRST_GR_POSTING_DATE']\n",
    "df = df.drop(columns=columns_to_delete)"
   ]
  },
  {
   "cell_type": "code",
   "execution_count": 33,
   "id": "b25a5690",
   "metadata": {},
   "outputs": [],
   "source": [
    "#droping the null values\n",
    "df = df.dropna().copy()"
   ]
  },
  {
   "cell_type": "code",
   "execution_count": 34,
   "id": "75c7d5a3",
   "metadata": {},
   "outputs": [
    {
     "data": {
      "text/plain": [
       "(1021156, 11)"
      ]
     },
     "execution_count": 34,
     "metadata": {},
     "output_type": "execute_result"
    }
   ],
   "source": [
    "df.shape"
   ]
  },
  {
   "cell_type": "code",
   "execution_count": 35,
   "id": "4fdb5d01",
   "metadata": {},
   "outputs": [
    {
     "name": "stdout",
     "output_type": "stream",
     "text": [
      "Total null values in Vendor Id 148029\n"
     ]
    }
   ],
   "source": [
    "# deleting null/'nan' values from VENDOR ID\n",
    "null_vendor = df['VENDOR_ID'].str.contains('nan').sum()\n",
    "print(\"Total null values in Vendor Id\", null_vendor)\n",
    "df = df[~df.isin(['nan']).any(axis=1)]"
   ]
  },
  {
   "cell_type": "code",
   "execution_count": 36,
   "id": "1bf34673",
   "metadata": {},
   "outputs": [
    {
     "data": {
      "text/plain": [
       "(871797, 11)"
      ]
     },
     "execution_count": 36,
     "metadata": {},
     "output_type": "execute_result"
    }
   ],
   "source": [
    "df.shape"
   ]
  },
  {
   "cell_type": "markdown",
   "id": "a21d08eb",
   "metadata": {},
   "source": [
    "### Droping the values which are out of range"
   ]
  },
  {
   "cell_type": "code",
   "execution_count": 37,
   "id": "bed5a87a",
   "metadata": {},
   "outputs": [],
   "source": [
    "#date range\n",
    "start_date = pd.to_datetime('2018-09-07')\n",
    "end_date = pd.to_datetime('2023-09-07')"
   ]
  },
  {
   "cell_type": "code",
   "execution_count": 38,
   "id": "8c165b8b",
   "metadata": {},
   "outputs": [],
   "source": [
    "#defining a function to delete out of range date\n",
    "def filter_by_date(df, start_date, end_date, columns):\n",
    "    mask = True\n",
    "    for col in columns:\n",
    "        mask &= (df[col] >= start_date) & (df[col] <= end_date)\n",
    "    return df[mask].copy()\n",
    "\n",
    "# deleting the out of range values\n",
    "date_columns = ['POR_DELIVERY_DATE', 'DELIVERY_DATE', 'REQUESTED_DELIVERY_DATE']\n",
    "df = filter_by_date(df, start_date, end_date, date_columns)"
   ]
  },
  {
   "cell_type": "code",
   "execution_count": 39,
   "id": "cb0ffdb6",
   "metadata": {},
   "outputs": [
    {
     "name": "stdout",
     "output_type": "stream",
     "text": [
      "Minimum Date: 2018-09-07 00:00:00\n",
      "Maximum Date: 2023-09-07 00:00:00\n"
     ]
    }
   ],
   "source": [
    "#checking the range of date\n",
    "min_date = df['DELIVERY_DATE'].min()\n",
    "max_date = df['DELIVERY_DATE'].max()\n",
    "\n",
    "# Print the range of dates\n",
    "print(f\"Minimum Date: {min_date}\")\n",
    "print(f\"Maximum Date: {max_date}\")"
   ]
  },
  {
   "cell_type": "code",
   "execution_count": 40,
   "id": "da5933b3",
   "metadata": {},
   "outputs": [
    {
     "data": {
      "text/plain": [
       "(861549, 11)"
      ]
     },
     "execution_count": 40,
     "metadata": {},
     "output_type": "execute_result"
    }
   ],
   "source": [
    "df.shape"
   ]
  },
  {
   "cell_type": "markdown",
   "id": "003bb4d9",
   "metadata": {},
   "source": [
    "# Feature Engineering"
   ]
  },
  {
   "cell_type": "markdown",
   "id": "d0ba8c81",
   "metadata": {},
   "source": [
    "### DELIVERY_STATUS"
   ]
  },
  {
   "cell_type": "markdown",
   "id": "485adf2b",
   "metadata": {},
   "source": [
    "We are introducing a new feature called 'DELIVERY STATUS,' which aims to indicate whether the vendor's material delivery was delayed or not. This determination is based on a comparison between the 'POR_DELIVERY_DATE' and the 'DELIVERY_DATE.' If the 'DELIVERY_DATE' is greater than the 'POR_DELIVERY_DATE,' the 'DELIVERY_STATUS' will be marked as 'late,' denoted by the value 1. Otherwise, if the 'DELIVERY_STATUS' is 'on time' or 'early,' it will be represented by the value 0."
   ]
  },
  {
   "cell_type": "code",
   "execution_count": 41,
   "id": "34865235",
   "metadata": {},
   "outputs": [],
   "source": [
    "# creating new feature Delivery_Status\n",
    "df['Delivery_Status'] = np.where(df['DELIVERY_DATE'] > df['POR_DELIVERY_DATE'], 1, 0)"
   ]
  },
  {
   "cell_type": "code",
   "execution_count": 42,
   "id": "647615a7",
   "metadata": {},
   "outputs": [
    {
     "data": {
      "image/png": "[encoded data removed]",
      "text/plain": [
       "<Figure size 720x432 with 1 Axes>"
      ]
     },
     "metadata": {
      "needs_background": "light"
     },
     "output_type": "display_data"
    }
   ],
   "source": [
    "# Calculate value counts for 'Delivery_Status'\n",
    "value_counts = df['Delivery_Status'].value_counts()\n",
    "value_counts_in_thousand = value_counts / 1000\n",
    "\n",
    "# Calculate percentages\n",
    "percentages = (value_counts / len(df)) * 100\n",
    "\n",
    "# Define colors for bars\n",
    "colors = ['#7F7F7F', '#9B1D20']\n",
    "\n",
    "# Create a bar chart\n",
    "plt.figure(figsize=(10, 6))\n",
    "ax = value_counts_in_thousand.plot(kind='bar', color=colors, width=0.2)\n",
    "plt.xlabel('Delivery Status', fontsize = 16, fontweight = \"bold\")\n",
    "plt.title('Distribution of Values (Late and Not Late)', fontsize = 14, fontweight = \"bold\")\n",
    "plt.xticks(rotation=0)\n",
    "\n",
    "# Replace x-tick labels with \"Late\" and \"Not Late\"\n",
    "ax.set_xticklabels(['Not Late', 'Late'])\n",
    "plt.tick_params(axis='x', which='both', length=0)\n",
    "plt.yticks([])\n",
    "ax.set_yticklabels([])\n",
    "for spine in ['top', 'right', 'bottom', 'left']:\n",
    "    ax.spines[spine].set_visible(False)\n",
    "# Display count and percentage labels on top of the bars\n",
    "for i, v in enumerate(value_counts_in_thousand):\n",
    "    ax.text(i, v, f'{v:.1f}k', ha='center', va='bottom', fontsize=20)\n",
    "for i, v in enumerate(percentages):\n",
    "    ax.text(i, v, f'{v:.1f}%', ha='center', va='bottom', color='white', fontsize=20)\n",
    "\n",
    "plt.tight_layout()\n",
    "plt.show()"
   ]
  },
  {
   "cell_type": "code",
   "execution_count": 43,
   "id": "ebcfffe2",
   "metadata": {},
   "outputs": [
    {
     "ename": "IndentationError",
     "evalue": "unexpected indent (Temp/ipykernel_31556/116192803.py, line 2)",
     "output_type": "error",
     "traceback": [
      "\u001b[1;36m  File \u001b[1;32m\"C:\\Users\\imuba\\AppData\\Local\\Temp/ipykernel_31556/116192803.py\"\u001b[1;36m, line \u001b[1;32m2\u001b[0m\n\u001b[1;33m    ax.annotate(label_text, xy=(x, y), xytext=(1.5*np.sign(x), 1.2*y),\u001b[0m\n\u001b[1;37m    ^\u001b[0m\n\u001b[1;31mIndentationError\u001b[0m\u001b[1;31m:\u001b[0m unexpected indent\n"
     ]
    }
   ],
   "source": [
    "label_text = f\"{['Late', 'Not Late'][i]}\\n{percentages[i]:.1f}%\\n({value_counts_in_thousand[i]:.0f}k)\"\n",
    "    ax.annotate(label_text, xy=(x, y), xytext=(1.5*np.sign(x), 1.2*y),\n",
    "                arrowprops=dict(arrowstyle=\"->\", connectionstyle=connectionstyle, color='black'),\n",
    "                va='center', ha=horizontalalignment, fontsize=24)"
   ]
  },
  {
   "cell_type": "code",
   "execution_count": null,
   "id": "2d7aea24",
   "metadata": {},
   "outputs": [],
   "source": [
    "value_counts_in_thousand = [x / 1000 for x in value_counts]\n",
    "percentages = [v / sum(value_counts_in_thousand) * 100 for v in value_counts_in_thousand]\n",
    "\n",
    "# Create a donut chart\n",
    "fig, ax = plt.subplots(figsize=(8, 5), subplot_kw=dict(aspect=\"equal\"))\n",
    "wedges, _ = ax.pie(value_counts_in_thousand, colors=colors, startangle=90, \n",
    "                   wedgeprops=dict(width=0.3))\n",
    "\n",
    "# Draw center circle for donut shape\n",
    "centre_circle = plt.Circle((0,0),0.70,fc='white')\n",
    "fig.gca().add_artist(centre_circle)\n",
    "\n",
    "# Annotate the wedges with arrows and labels\n",
    "for i, p in enumerate(wedges):\n",
    "    ang = (p.theta2 - p.theta1)/2. + p.theta1\n",
    "    y = np.sin(np.deg2rad(ang))\n",
    "    x = np.cos(np.deg2rad(ang))\n",
    "    horizontalalignment = {-1: \"right\", 1: \"left\"}[int(np.sign(x))]\n",
    "    connectionstyle = f\"angle,angleA=0,angleB={ang}\"\n",
    "    # Annotation text for the label, including the percentage and value in thousands\n",
    "    label_text = f\"{['Not Late', 'Late'][i]}\\n{percentages[i]:.1f}%\\n({value_counts_in_thousand[i]:.0f}k)\"\n",
    "    # Annotate with arrow and label\n",
    "    ax.annotate(label_text, xy=(x, y), xytext=(1.8*np.sign(x), 1.2*y),\n",
    "                arrowprops=dict(arrowstyle=\"->\", connectionstyle=connectionstyle, color='black'),\n",
    "                va='center', ha=horizontalalignment, fontsize=24)\n",
    "\n",
    "# Add a title with the specified font and size\n",
    "plt.title('Distribution of delivery status', fontsize=26, fontname='Calibri', pad=20)\n",
    "\n",
    "# Adjust layout to prevent overlap\n",
    "plt.tight_layout()\n",
    "\n",
    "# Show the donut chart\n",
    "plt.show()"
   ]
  },
  {
   "cell_type": "markdown",
   "id": "fb439287",
   "metadata": {},
   "source": [
    "**Yearly Distribution of late Delivaries**"
   ]
  },
  {
   "cell_type": "code",
   "execution_count": null,
   "id": "6a2874e2",
   "metadata": {},
   "outputs": [],
   "source": [
    "df['Year'] = df['DELIVERY_DATE'].dt.year"
   ]
  },
  {
   "cell_type": "code",
   "execution_count": null,
   "id": "073d9090",
   "metadata": {},
   "outputs": [],
   "source": [
    "# Group the data by 'company_group' and calculate the counts of 'Delivery_Status'\n",
    "status_counts = df.groupby(['Year', 'Delivery_Status']).size().unstack(fill_value=0)/1000"
   ]
  },
  {
   "cell_type": "code",
   "execution_count": null,
   "id": "f629037a",
   "metadata": {},
   "outputs": [],
   "source": [
    "# Rename the columns for clarity\n",
    "status_counts.columns = ['Not Late', 'Late']\n",
    "\n",
    "# Reset the index to make 'company_group' a regular column\n",
    "status_counts.reset_index(inplace=True)\n",
    "\n",
    "# Add a new 'Total' column with the sum of 'Late' and 'Not Late' columns\n",
    "status_counts['Total'] = status_counts['Late'] + status_counts['Not Late']\n",
    "\n",
    "# Calculate the percentage of late deliveries\n",
    "status_counts['Late_Percentage'] = (status_counts['Late'] / status_counts['Total']) * 100\n",
    "\n",
    "\n",
    "print(status_counts)"
   ]
  },
  {
   "cell_type": "code",
   "execution_count": null,
   "id": "d9ee0129",
   "metadata": {},
   "outputs": [],
   "source": [
    "status_counts['Late_Percentage'] = (status_counts['Late'] / (status_counts['Late'] + status_counts['Not Late'])) * 100\n",
    "status_counts['Not_Late_Percentage'] = 100 - status_counts['Late_Percentage']\n",
    "\n",
    "fig, ax1 = plt.subplots(figsize=(12, 7))\n",
    "\n",
    "# Plotting late deliveries (red) on top of on-time deliveries (green)\n",
    "ax1.bar(status_counts['Year'], status_counts['Not Late'], label='On-Time Deliveries', color='#7F7F7F')\n",
    "ax1.bar(status_counts['Year'], status_counts['Late'], bottom=status_counts['Not Late'], label='Late Deliveries', color='#9B1D20')\n",
    "\n",
    "# Setting labels and title\n",
    "ax1.set_xlabel('Year', fontsize=24, fontweight='bold')\n",
    "ax1.set_ylabel('Delivery Counts(in thousands)', fontsize=24, fontweight='bold')\n",
    "ax1.set_title('Yearly Counts & Percentage of Delivery Status', fontsize=24, fontweight='bold')\n",
    "ax1.legend(loc='upper left')\n",
    "\n",
    "# Plotting the percentage values inside the bars\n",
    "for i in range(len(status_counts['Year'])):\n",
    "    # Display not late percentage\n",
    "    ax1.text(status_counts['Year'][i], status_counts['Not Late'][i] / 2, f\"{status_counts['Not_Late_Percentage'][i]:.2f}%\", \n",
    "             ha='center', va='center', color='white', fontsize=14, fontweight='bold')\n",
    "    # Display late percentage\n",
    "    ax1.text(status_counts['Year'][i], status_counts['Not Late'][i] + status_counts['Late'][i] / 2, f\"{status_counts['Late_Percentage'][i]:.2f}%\", \n",
    "             ha='center', va='center', color='white', fontsize=14, fontweight='bold')\n",
    "\n",
    "# Set x-tick labels\n",
    "ax1.set_xticks(status_counts['Year'])\n",
    "ax1.set_xticklabels(status_counts['Year'], fontsize=14, fontweight='bold')\n",
    "ax1.tick_params(axis='x', length=0)\n",
    "\n",
    "# Show y-axis labels for counts\n",
    "ax1.yaxis.set_tick_params(labelsize=12)\n",
    "\n",
    "# Removing the spines\n",
    "ax1.spines['top'].set_visible(False)\n",
    "ax1.spines['right'].set_visible(False)\n",
    "\n",
    "# Displaying the plot\n",
    "plt.tight_layout()\n",
    "plt.show()"
   ]
  },
  {
   "cell_type": "code",
   "execution_count": null,
   "id": "d85e31cd",
   "metadata": {},
   "outputs": [],
   "source": [
    "# Calculating the prevalence\n",
    "def calc_prevalence(y):\n",
    " return (sum(y)/len(y))\n",
    "pre = calc_prevalence(df.Delivery_Status.values)\n",
    "print(\"The prevalence of late delivery = \", pre)"
   ]
  },
  {
   "cell_type": "markdown",
   "id": "2d369744",
   "metadata": {},
   "source": [
    "### Checking Seasonality"
   ]
  },
  {
   "cell_type": "code",
   "execution_count": null,
   "id": "9664ecaf",
   "metadata": {},
   "outputs": [],
   "source": [
    "#making new dataset\n",
    "df1 = df.copy()"
   ]
  },
  {
   "cell_type": "code",
   "execution_count": null,
   "id": "12a11427",
   "metadata": {},
   "outputs": [],
   "source": [
    "#setting CREATE_DATE as index\n",
    "df1.set_index('CREATE_DATE', inplace=True)"
   ]
  },
  {
   "cell_type": "code",
   "execution_count": null,
   "id": "5e6851cd",
   "metadata": {},
   "outputs": [],
   "source": [
    "#Calculating the delivery status\n",
    "monthly_delivery_status = df1['Delivery_Status'].resample('M').mean()"
   ]
  },
  {
   "cell_type": "code",
   "execution_count": null,
   "id": "c01fc888",
   "metadata": {},
   "outputs": [],
   "source": [
    "# Time series decomposition\n",
    "decomposition = seasonal_decompose(monthly_delivery_status, model='additive')\n",
    "\n",
    "# Dickey-Fuller test\n",
    "dickey_fuller_result = adfuller(monthly_delivery_status.dropna())\n",
    "colors = ['#3E7A2A']\n",
    "# Plotting the decomposed time series components\n",
    "plt.figure(figsize=(14, 7))\n",
    "\n",
    "# Plot the observed data\n",
    "plt.plot(decomposition.observed, label='Observed', color=colors[0], marker='o', linestyle='-')\n",
    "plt.legend(loc='upper right', fontsize=26)\n",
    "plt.xticks(fontsize=26, fontweight = 'bold')\n",
    "plt.yticks(fontsize=26, fontweight = 'bold')\n",
    "# Retrieve the current axes and hide the top and right spines\n",
    "current_axes = plt.gca()\n",
    "for spine in ['top', 'right']:\n",
    "    current_axes.spines[spine].set_visible(False)\n",
    "\n",
    "# Show the plot\n",
    "plt.show()"
   ]
  },
  {
   "cell_type": "code",
   "execution_count": null,
   "id": "6532818d",
   "metadata": {},
   "outputs": [],
   "source": [
    "# Plot the trend component\n",
    "plt.figure(figsize=(14, 7))\n",
    "plt.plot(decomposition.trend, label='Trend', color=colors[0], marker='o', linestyle='-')\n",
    "plt.legend(loc='upper right', fontsize=26)\n",
    "plt.xticks(fontsize=14, fontweight = 'bold')\n",
    "plt.yticks(fontsize=20, fontweight = 'bold')\n",
    "current_axes = plt.gca()\n",
    "for spine in ['top', 'right']:\n",
    "    current_axes.spines[spine].set_visible(False)\n",
    "\n",
    "# Show the plot\n",
    "plt.show()"
   ]
  },
  {
   "cell_type": "code",
   "execution_count": null,
   "id": "84e7c477",
   "metadata": {},
   "outputs": [],
   "source": [
    "# Plot the seasonal component\n",
    "plt.figure(figsize=(14, 7))\n",
    "plt.plot(decomposition.seasonal, label='Seasonal', color=colors[0], marker='o', linestyle='-')\n",
    "plt.legend(loc='upper left', fontsize=26)\n",
    "plt.xticks(fontsize=20, fontweight = 'bold')\n",
    "plt.yticks(fontsize=20, fontweight = 'bold')\n",
    "current_axes = plt.gca()\n",
    "for spine in ['top', 'right']:\n",
    "    current_axes.spines[spine].set_visible(False)\n",
    "\n",
    "# Show the plot\n",
    "plt.show()"
   ]
  },
  {
   "cell_type": "code",
   "execution_count": null,
   "id": "1f63e42f",
   "metadata": {},
   "outputs": [],
   "source": [
    "# Plot the residual component\n",
    "plt.figure(figsize=(14, 7))\n",
    "plt.plot(decomposition.resid, label='Residual', color=colors[0], marker='o', linestyle='-')\n",
    "plt.legend(loc='upper left', fontsize=26)\n",
    "plt.xticks(fontsize=14, fontweight = 'bold')\n",
    "plt.yticks(fontsize=20, fontweight = 'bold')\n",
    "\n",
    "current_axes = plt.gca()\n",
    "for spine in ['top', 'right']:\n",
    "    current_axes.spines[spine].set_visible(False)\n",
    "\n",
    "# Show the plot\n",
    "plt.show()"
   ]
  },
  {
   "cell_type": "code",
   "execution_count": null,
   "id": "e368f9cf",
   "metadata": {},
   "outputs": [],
   "source": [
    "# Dickey-Fuller test result\n",
    "dickey_fuller_result"
   ]
  },
  {
   "cell_type": "markdown",
   "id": "a3775454",
   "metadata": {},
   "source": [
    "### Identify Specific Peaks and Troughs:"
   ]
  },
  {
   "cell_type": "code",
   "execution_count": null,
   "id": "be0d9f10",
   "metadata": {},
   "outputs": [],
   "source": [
    "# Find the peaks of the seasonal component\n",
    "peaks, _ = find_peaks(decomposition.seasonal, height=0)\n",
    "troughs, _ = find_peaks(-decomposition.seasonal, height=0)\n",
    "\n",
    "# Plot peaks and troughs on the seasonal component\n",
    "plt.figure(figsize=(14, 6))\n",
    "plt.plot(decomposition.seasonal, label='Seasonal')\n",
    "plt.plot(peaks, decomposition.seasonal[peaks], \"x\", label='Peaks')\n",
    "plt.plot(troughs, decomposition.seasonal[troughs], \"x\", label='Troughs')\n",
    "plt.title('Seasonal Component with Peaks and Troughs')\n",
    "plt.xlabel('Date')\n",
    "plt.ylabel('Seasonal Effect')\n",
    "plt.legend()\n",
    "plt.show()"
   ]
  },
  {
   "cell_type": "markdown",
   "id": "badadeb4",
   "metadata": {},
   "source": [
    "### Analyze Peak Times"
   ]
  },
  {
   "cell_type": "code",
   "execution_count": null,
   "id": "8a5f2f4c",
   "metadata": {},
   "outputs": [],
   "source": [
    "# Convert peak indices to dates\n",
    "peak_dates = monthly_delivery_status.index[peaks]\n",
    "# Print peak dates\n",
    "print(\"Peak Dates:\")\n",
    "print(peak_dates)"
   ]
  },
  {
   "cell_type": "markdown",
   "id": "ba6159a0",
   "metadata": {},
   "source": [
    "### Group by Time Period:"
   ]
  },
  {
   "cell_type": "code",
   "execution_count": null,
   "id": "1f544523",
   "metadata": {},
   "outputs": [],
   "source": [
    "# Group by month and get average seasonal component\n",
    "monthly_seasonality = decomposition.seasonal.groupby(monthly_delivery_status.index.month).mean()\n",
    "\n",
    "# Plot the average seasonal component by month\n",
    "monthly_seasonality.plot(kind='bar')\n",
    "plt.title('Average Seasonal Component by Month')\n",
    "plt.xlabel('Month')\n",
    "plt.ylabel('Average Seasonal Effect')\n",
    "plt.show()"
   ]
  },
  {
   "cell_type": "markdown",
   "id": "2ba8aca1",
   "metadata": {},
   "source": [
    "### Statistical Tests for Seasonality: Ljung-Box test,"
   ]
  },
  {
   "cell_type": "code",
   "execution_count": null,
   "id": "3b8ca4b1",
   "metadata": {},
   "outputs": [],
   "source": [
    "# Perform Ljung-Box test on the seasonal component\n",
    "ljung_box_result = acorr_ljungbox(decomposition.seasonal.dropna(), lags=[6,12], return_df=True)\n",
    "print(ljung_box_result)"
   ]
  },
  {
   "cell_type": "code",
   "execution_count": null,
   "id": "3b0deab4",
   "metadata": {},
   "outputs": [],
   "source": [
    "df.columns"
   ]
  },
  {
   "cell_type": "markdown",
   "id": "43769de4",
   "metadata": {},
   "source": [
    "### CREATE_DATE"
   ]
  },
  {
   "cell_type": "code",
   "execution_count": null,
   "id": "0d43b695",
   "metadata": {},
   "outputs": [],
   "source": [
    "#extracting the day, month and year from create date\n",
    "df['CREATE_YEAR']=df['CREATE_DATE'].dt.year\n",
    "df['CREATE_MONTH']=df['CREATE_DATE'].dt.month\n",
    "df['CREATE_DAY']=df['CREATE_DATE'].dt.day"
   ]
  },
  {
   "cell_type": "code",
   "execution_count": null,
   "id": "7a9463cf",
   "metadata": {},
   "outputs": [],
   "source": [
    "# plotting the relation of day and month with delivery status\n",
    "plt.figure(figsize = (15,7))\n",
    "month_day_matrix = df.pivot_table(index='CREATE_MONTH', columns='CREATE_DAY', values='Delivery_Status', aggfunc='sum')\n",
    "sn.heatmap(month_day_matrix, cmap='viridis')\n",
    "plt.title('Heatmap of Late Deliveries by Month and Day', fontsize = 24)\n",
    "plt.xlabel('Day', fontsize = 16)\n",
    "plt.ylabel('Month', fontsize = 16)\n",
    "plt.show()"
   ]
  },
  {
   "cell_type": "markdown",
   "id": "3d4cbb54",
   "metadata": {},
   "source": [
    "### COMPANY_CODE_ID"
   ]
  },
  {
   "cell_type": "code",
   "execution_count": null,
   "id": "a01a931e",
   "metadata": {},
   "outputs": [],
   "source": [
    "# Grouping the company according to used letter in company ID\n",
    "df['COMPANY_CODE_ID_NEW'] = df['COMPANY_CODE_ID'].str[:2]"
   ]
  },
  {
   "cell_type": "code",
   "execution_count": null,
   "id": "850a0ff9",
   "metadata": {},
   "outputs": [],
   "source": [
    "# value count of company code ID\n",
    "df['COMPANY_CODE_ID_NEW'].value_counts()"
   ]
  },
  {
   "cell_type": "code",
   "execution_count": null,
   "id": "071f8544",
   "metadata": {},
   "outputs": [],
   "source": [
    "# Create a new column with grouped values\n",
    "df['Grouped_COMPANY_CODE'] = df['COMPANY_CODE_ID_NEW'].apply(lambda x: x if x in ['US', 'CA'] else 'Others')\n",
    "\n",
    "# Count the occurrences of each value in the new column\n",
    "grouped_counts = df['Grouped_COMPANY_CODE'].value_counts()\n",
    "orders = ['US', 'CA', 'Others']\n",
    "grouped_counts = grouped_counts.reindex(orders)\n",
    "# Display the result\n",
    "print(grouped_counts)"
   ]
  },
  {
   "cell_type": "code",
   "execution_count": null,
   "id": "f26981c3",
   "metadata": {},
   "outputs": [],
   "source": [
    "# Create a bar chart with two colors\n",
    "plt.figure(figsize = (10, 7))\n",
    "ax = grouped_counts.plot(\n",
    "    kind='bar',\n",
    "    color=['#FFCD00', '#7F7F7F', '#3F3F3F'],  \n",
    "    legend=False)\n",
    "\n",
    "\n",
    "# Display value counts on top of each bar\n",
    "for p in ax.patches:\n",
    "    ax.annotate(f'{p.get_height():,.0f}', (p.get_x() + p.get_width() / 2., p.get_height()),\n",
    "                ha='center', va='center', xytext=(0, 10), textcoords='offset points', fontsize=16)\n",
    "\n",
    "#for p in ax.patches:\n",
    "    #ax.annotate(f'{p.get_height() // 1000:.0f}K', (p.get_x() + p.get_width() / 2., p.get_height()),\n",
    "                #ha='center', va='center', xytext=(0, 10), textcoords='offset points')        \n",
    "        \n",
    "\n",
    "        \n",
    "# Customize the plot\n",
    "ax.set_xlabel(\"Company Code\", fontsize = 20)\n",
    "ax.set_ylabel('Transaction Counts', fontsize = 20)\n",
    "\n",
    "ax.tick_params(axis='x', labelsize=16)\n",
    "ax.tick_params(axis='y', labelsize=16)\n",
    "\n",
    "# Format y-axis labels in thousands\n",
    "#ax.yaxis.set_major_formatter(plt.FuncFormatter(lambda x, _: f'{int(x / 1000)}K'))\n",
    "ax.yaxis.set_major_formatter(ticker.StrMethodFormatter('{x:,.0f}'))\n",
    "\n",
    "# Remove border lines\n",
    "for spine in ['top', 'right', 'left']:\n",
    "    ax.spines[spine].set_visible(False)\n",
    "    \n",
    "    \n",
    "# Show the plot\n",
    "plt.show()"
   ]
  },
  {
   "cell_type": "code",
   "execution_count": null,
   "id": "2ea70457",
   "metadata": {},
   "outputs": [],
   "source": [
    "# Group the data by 'company_group' and calculate the counts of 'Delivery_Status'\n",
    "status_counts = df.groupby(['Grouped_COMPANY_CODE', 'Delivery_Status']).size().unstack(fill_value=0).reindex(orders)\n",
    "# Rename the columns for clarity\n",
    "status_counts.columns = ['Not Late', 'Late']\n",
    "\n",
    "# Reset the index to make 'company_group' a regular column\n",
    "status_counts.reset_index(inplace=True)\n",
    "\n",
    "# Add a new 'Total' column with the sum of 'Late' and 'Not Late' columns\n",
    "status_counts['Total'] = status_counts['Late'] + status_counts['Not Late']\n",
    "\n",
    "# Calculate the percentage of late deliveries\n",
    "status_counts['Late_Percentage'] = (status_counts['Late'] / status_counts['Total']) * 100\n",
    "\n",
    "\n",
    "print(status_counts)"
   ]
  },
  {
   "cell_type": "code",
   "execution_count": null,
   "id": "cfe62d63",
   "metadata": {},
   "outputs": [],
   "source": [
    "status_counts['Late_Percentage'] = (status_counts['Late'] / (status_counts['Late'] + status_counts['Not Late'])) * 100\n",
    "status_counts['Not_Late_Percentage'] = 100 - status_counts['Late_Percentage']\n",
    "\n",
    "fig, ax1 = plt.subplots(figsize=(12, 7))\n",
    "\n",
    "# Plotting late deliveries on top of on-time deliveries\n",
    "ax1.bar(status_counts['Grouped_COMPANY_CODE'], status_counts['Not Late'], label='On-Time Deliveries', color='#7F7F7F')\n",
    "ax1.bar(status_counts['Grouped_COMPANY_CODE'], status_counts['Late'], bottom=status_counts['Not Late'], label='Late Deliveries', color='#9B1D20')\n",
    "\n",
    "# Setting labels and title\n",
    "ax1.set_xlabel('Company', fontsize=24, fontweight='bold')\n",
    "ax1.set_ylabel('Transaction Counts', fontsize=24, fontweight='bold')\n",
    "ax1.set_title('Companywise Counts & Percentage of Delivery Status', fontsize=24, fontweight='bold')\n",
    "ax1.legend(loc='upper right')\n",
    "\n",
    "# Plotting the percentage values inside the bars\n",
    "for i in range(len(status_counts['Grouped_COMPANY_CODE'])):\n",
    "    # Display not late percentage\n",
    "    ax1.text(status_counts['Grouped_COMPANY_CODE'][i], status_counts['Not Late'][i] / 2, f\"{status_counts['Not_Late_Percentage'][i]:.2f}%\", \n",
    "             ha='center', va='center', color='white', fontsize=14, fontweight='bold')\n",
    "    # Display late percentage\n",
    "    ax1.text(status_counts['Grouped_COMPANY_CODE'][i], status_counts['Not Late'][i] + status_counts['Late'][i] / 2, f\"{status_counts['Late_Percentage'][i]:.2f}%\", \n",
    "             ha='center', va='center', color='white', fontsize=14, fontweight='bold')\n",
    "\n",
    "# Set x-tick labels\n",
    "ax1.set_xticks(status_counts['Grouped_COMPANY_CODE'])\n",
    "ax1.set_xticklabels(status_counts['Grouped_COMPANY_CODE'], fontsize=14, fontweight='bold')\n",
    "ax1.tick_params(axis='x', length=0)\n",
    "ax1.yaxis.set_major_formatter(ticker.StrMethodFormatter('{x:,.0f}'))\n",
    "# Show y-axis labels for counts\n",
    "ax1.yaxis.set_tick_params(labelsize=12)\n",
    "\n",
    "# Removing the spines\n",
    "ax1.spines['top'].set_visible(False)\n",
    "ax1.spines['right'].set_visible(False)\n",
    "\n",
    "# Displaying the plot\n",
    "plt.tight_layout()\n",
    "plt.show()"
   ]
  },
  {
   "cell_type": "code",
   "execution_count": null,
   "id": "ad711782",
   "metadata": {},
   "outputs": [],
   "source": [
    "#unique Company ID in each group\n",
    "unique_comp_counts = df.groupby('Grouped_COMPANY_CODE')['COMPANY_CODE_ID'].nunique()\n",
    "\n",
    "# Display the result\n",
    "print(unique_comp_counts)"
   ]
  },
  {
   "cell_type": "code",
   "execution_count": null,
   "id": "e8fb8a15",
   "metadata": {},
   "outputs": [],
   "source": [
    "# Calculate the late delivery percentage for each Company ID Code\n",
    "company_late_percentage = df.groupby('COMPANY_CODE_ID')['Delivery_Status'].mean()\n",
    "\n",
    "# Create a mapping based on the thresholds\n",
    "Company_category = {}\n",
    "\n",
    "for company, percentage in company_late_percentage.items():\n",
    "    if percentage == 1.0:\n",
    "        Company_category[company] = \"Always_Late\"\n",
    "    elif percentage > 0.5:\n",
    "        Company_category[company] = \"High_Late\"\n",
    "    elif percentage >= 0.2:\n",
    "        Company_category[company] = \"Medium_Late\"\n",
    "    elif percentage > 0:\n",
    "        Company_category[company] = \"Low_Late\"\n",
    "    else:\n",
    "        Company_category[company] = \"Never_Late\"\n",
    "\n",
    "# Add a new 'Postal_Category' column to the DataFrame\n",
    "df['COMPANY_CATEGORY'] = df['COMPANY_CODE_ID'].map(Company_category)"
   ]
  },
  {
   "cell_type": "code",
   "execution_count": null,
   "id": "337e92d1",
   "metadata": {},
   "outputs": [],
   "source": [
    "company_late_frequency = df['COMPANY_CATEGORY'].value_counts().sort_index()\n",
    "print(company_late_frequency)"
   ]
  },
  {
   "cell_type": "code",
   "execution_count": null,
   "id": "a3e72ff0",
   "metadata": {},
   "outputs": [],
   "source": [
    "# Create a bar chart\n",
    "plt.figure(figsize=(10, 6))\n",
    "x = company_late_frequency/1000\n",
    "#p = (company_late_frequency/len(df))*100\n",
    "colors = ['#FFCD00', '#3F3F3F']\n",
    "ax = x.plot(kind='bar', color=colors)\n",
    "# Add labels and a title\n",
    "plt.xlabel('Late Frequency', fontsize=16, fontweight='bold')\n",
    "plt.title('Company Code ID Late Frequency', fontsize=16, fontweight='bold')\n",
    "plt.xticks (rotation=0, fontsize = 14, fontweight = 'bold')\n",
    "\n",
    "# Replace x-tick labels with \"Late\" and \"Not Late\"\n",
    "ax.set_xticklabels(['Low Late', 'Never Late'])\n",
    "for spine in ['top', 'right', 'left']:\n",
    "    ax.spines[spine].set_visible(False)\n",
    "ax.grid(False)\n",
    "\n",
    "plt.yticks([])\n",
    "plt.tick_params(axis='x', which='both', length=0)\n",
    "\n",
    "# Display count\n",
    "for i, v in enumerate(x):\n",
    "    ax.text(i, v, f'{v:.1f}k', ha='center', va='bottom', fontsize=20)\n",
    "#for i, v in enumerate(p):\n",
    "    #ax.text(i, v, f'{v:.1f}%', ha='center', va='bottom', color='white', fontsize=20)\n",
    "ax.annotate('Always Late: 100% Late\\nHigh Late: More than 50% Late\\nMedium Late: 20% to 50% Late\\nLow Late: Less than 20% Late\\nNever Late: 0% Late', xy=(1, 1), xytext=(-15, -15), fontsize=14,\n",
    "            xycoords='axes fraction', textcoords='offset points',\n",
    "            bbox=dict(boxstyle='round',pad=0.5, edgecolor='red', facecolor='yellow'),\n",
    "            ha='right', va='top')\n",
    "plt.tight_layout()\n",
    "plt.show()"
   ]
  },
  {
   "cell_type": "code",
   "execution_count": null,
   "id": "010b6ebd",
   "metadata": {},
   "outputs": [],
   "source": [
    "# unique company in each group\n",
    "unique_company_counts = df.groupby('COMPANY_CATEGORY')['COMPANY_CODE_ID'].nunique()\n",
    "\n",
    "# Display the result\n",
    "print(unique_company_counts)"
   ]
  },
  {
   "cell_type": "code",
   "execution_count": null,
   "id": "1feb357e",
   "metadata": {},
   "outputs": [],
   "source": [
    "#never late company count\n",
    "never_late_companies = df[df['COMPANY_CATEGORY'] == 'Never_Late']\n",
    "\n",
    "# Get unique COMPANY_CODE_IDs\n",
    "unique_never_late_company_ids = never_late_companies['COMPANY_CODE_ID'].unique()\n",
    "\n",
    "# Print the unique COMPANY_CODE_IDs\n",
    "print(unique_never_late_company_ids)"
   ]
  },
  {
   "cell_type": "code",
   "execution_count": null,
   "id": "101ae3e6",
   "metadata": {},
   "outputs": [],
   "source": [
    "never_late_companies = df[df['COMPANY_CATEGORY'] == 'Never_Late']\n",
    "\n",
    "# Count the number of transactions for each 'COMPANY_CODE_ID'\n",
    "transaction_frequencies = never_late_companies['COMPANY_CODE_ID'].value_counts()\n",
    "colors = ['#FFCD00', '#3F3F3F', '#3F3F3F', '#3F3F3F', '#3F3F3F']\n",
    "# Plotting the transaction frequencies\n",
    "plt.figure(figsize=(10, 6))\n",
    "ax = transaction_frequencies.plot(kind='bar', color = colors)\n",
    "plt.title('Transaction Frequencies of Never Late Companies', fontsize = 22)\n",
    "plt.xlabel('COMPANY CODE ID', fontsize = 20)\n",
    "plt.ylabel('Number of Transactions', fontsize = 20)\n",
    "plt.xticks (rotation=0, fontsize = 14)\n",
    "plt.yticks (rotation=0, fontsize = 14)\n",
    "\n",
    "for i, v in enumerate(transaction_frequencies):\n",
    "    ax.text(i, v, f'{v:}', ha='center', va='bottom', fontsize=18)\n",
    "    \n",
    "for spine in ['top', 'right']:\n",
    "    ax.spines[spine].set_visible(False)\n",
    "plt.show()"
   ]
  },
  {
   "cell_type": "code",
   "execution_count": null,
   "id": "fd310f8a",
   "metadata": {},
   "outputs": [],
   "source": [
    "#printing transaction frequency of never late values\n",
    "transaction_frequencies"
   ]
  },
  {
   "cell_type": "markdown",
   "id": "5e26a49e",
   "metadata": {},
   "source": [
    "### VENDOR_ID"
   ]
  },
  {
   "cell_type": "markdown",
   "id": "5ede1dac",
   "metadata": {},
   "source": [
    "***Applying Elbow method to determine the optimal number of cluster***"
   ]
  },
  {
   "cell_type": "code",
   "execution_count": null,
   "id": "b9f692c2",
   "metadata": {},
   "outputs": [],
   "source": [
    "# Calculating the mean delivery status for each VENDOR_ID\n",
    "vendor_metrics = df.groupby('VENDOR_ID')['Delivery_Status'].agg(['mean', 'count']).reset_index()\n",
    "\n",
    "# Scaling the data\n",
    "scaler = StandardScaler()\n",
    "vendor_metrics_scaled = scaler.fit_transform(vendor_metrics[['mean', 'count']])\n",
    "\n",
    "# Trying different numbers of clusters and storing the inertia (sum of squared distances to nearest cluster center)\n",
    "inertia = []\n",
    "for k in range(1, 11):  # Testing 1 to 10 clusters\n",
    "    kmeans = KMeans(n_clusters=k, random_state=0)\n",
    "    kmeans.fit(vendor_metrics_scaled)\n",
    "    inertia.append(kmeans.inertia_)\n",
    "\n",
    "# Plotting the elbow plot\n",
    "plt.figure(figsize=(10, 6))\n",
    "plt.plot(range(1, 11), inertia, marker='o')\n",
    "plt.title('Elbow Method For Optimal k')\n",
    "plt.xlabel('Number of clusters')\n",
    "plt.ylabel('Inertia')\n",
    "plt.xticks(range(1, 11))\n",
    "plt.show()"
   ]
  },
  {
   "cell_type": "code",
   "execution_count": null,
   "id": "07dfa5bb",
   "metadata": {},
   "outputs": [],
   "source": [
    "# Since we've determined that 3 clusters would be optimal, we can now fit the KMeans algorithm with k=3\n",
    "\n",
    "# Initializing KMeans with 3 clusters\n",
    "kmeans = KMeans(n_clusters=3, random_state=0)\n",
    "\n",
    "# Fitting the KMeans algorithm on the scaled data\n",
    "vendor_metrics['cluster'] = kmeans.fit_predict(vendor_metrics_scaled)\n",
    "\n",
    "vendor_metrics['cluster_label'] = vendor_metrics['cluster'].apply(lambda x: f'Vendor_Cluster_{x+1}')\n",
    "# Creating a mapping from MATERIAL_ID to the assigned cluster\n",
    "vendor_id_to_cluster = dict(zip(vendor_metrics['VENDOR_ID'], vendor_metrics['cluster_label']))\n",
    "\n",
    "# Maping the cluster labels back to the original DataFrame to create the new feature\n",
    "df['VENDOR_CLUSTER'] = df['VENDOR_ID'].map(vendor_id_to_cluster)\n",
    "\n",
    "# Displaying the DataFrame with the new feature\n",
    "df[['VENDOR_ID', 'VENDOR_CLUSTER']].head()"
   ]
  },
  {
   "cell_type": "code",
   "execution_count": null,
   "id": "4f81d392",
   "metadata": {},
   "outputs": [],
   "source": [
    "#checking the transaction frequency of each cluster\n",
    "df['VENDOR_CLUSTER'].value_counts()"
   ]
  },
  {
   "cell_type": "code",
   "execution_count": null,
   "id": "6bc1e5c3",
   "metadata": {},
   "outputs": [],
   "source": [
    "# Grouping the data by 'company_group' and calculate the counts of 'Delivery_Status'\n",
    "status_counts = df.groupby(['VENDOR_CLUSTER', 'Delivery_Status']).size().unstack(fill_value=0)\n",
    "# Renaming the columns for clarity\n",
    "status_counts.columns = ['Not Late', 'Late']\n",
    "\n",
    "# Resetting the index to make 'company_group' a regular column\n",
    "status_counts.reset_index(inplace=True)\n",
    "\n",
    "# Adding a new 'Total' column with the sum of 'Late' and 'Not Late' columns\n",
    "status_counts['Total'] = status_counts['Late'] + status_counts['Not Late']\n",
    "\n",
    "# Calculating the percentage of late deliveries\n",
    "status_counts['Late_Percentage'] = (status_counts['Late'] / status_counts['Total']) * 100\n",
    "\n",
    "\n",
    "print(status_counts)"
   ]
  },
  {
   "cell_type": "code",
   "execution_count": null,
   "id": "7832ecb1",
   "metadata": {},
   "outputs": [],
   "source": [
    "status_counts['Late_Percentage'] = (status_counts['Late'] / (status_counts['Late'] + status_counts['Not Late'])) * 100\n",
    "status_counts['Not_Late_Percentage'] = 100 - status_counts['Late_Percentage']\n",
    "\n",
    "fig, ax1 = plt.subplots(figsize=(12, 7))\n",
    "\n",
    "# Plotting late deliveries on top of on-time deliveries\n",
    "ax1.bar(status_counts['VENDOR_CLUSTER'], status_counts['Not Late'], label='On-Time Deliveries', color='#7F7F7F')\n",
    "ax1.bar(status_counts['VENDOR_CLUSTER'], status_counts['Late'], bottom=status_counts['Not Late'], label='Late Deliveries', color='#9B1D20')\n",
    "\n",
    "# Setting labels and title\n",
    "ax1.set_xlabel('Vendor ID', fontsize=24, fontweight='bold')\n",
    "ax1.set_ylabel('Transaction Counts', fontsize=24, fontweight='bold')\n",
    "ax1.set_title('Vendor Counts & Percentage of Delivery Status', fontsize=24, fontweight='bold')\n",
    "ax1.legend(loc='upper left')\n",
    "\n",
    "# Plotting the percentage values inside the bars\n",
    "for i in range(len(status_counts['VENDOR_CLUSTER'])):\n",
    "    # Display not late percentage\n",
    "    ax1.text(status_counts['VENDOR_CLUSTER'][i], status_counts['Not Late'][i] / 2, f\"{status_counts['Not_Late_Percentage'][i]:.2f}%\", \n",
    "             ha='center', va='center', color='white', fontsize=14, fontweight='bold')\n",
    "    # Display late percentage\n",
    "    ax1.text(status_counts['VENDOR_CLUSTER'][i], status_counts['Not Late'][i] + status_counts['Late'][i] / 2, f\"{status_counts['Late_Percentage'][i]:.2f}%\", \n",
    "             ha='center', va='center', color='white', fontsize=14, fontweight='bold')\n",
    "\n",
    "# Set x-tick labels\n",
    "ax1.set_xticks(status_counts['VENDOR_CLUSTER'])\n",
    "ax1.set_xticklabels(status_counts['VENDOR_CLUSTER'], fontsize=14, fontweight='bold')\n",
    "ax1.tick_params(axis='x', length=0)\n",
    "ax1.yaxis.set_major_formatter(ticker.StrMethodFormatter('{x:,.0f}'))\n",
    "# Show y-axis labels for counts\n",
    "ax1.yaxis.set_tick_params(labelsize=12)\n",
    "\n",
    "# Removing the spines\n",
    "ax1.spines['top'].set_visible(False)\n",
    "ax1.spines['right'].set_visible(False)\n",
    "\n",
    "# Displaying the plot\n",
    "plt.tight_layout()\n",
    "plt.show()"
   ]
  },
  {
   "cell_type": "code",
   "execution_count": null,
   "id": "96e16227",
   "metadata": {},
   "outputs": [],
   "source": [
    "#calculating unique vendors in each cluster\n",
    "unique_Vendor_cluster_counts = df.groupby('VENDOR_CLUSTER')['VENDOR_ID'].nunique()\n",
    "\n",
    "# Display the result\n",
    "print(unique_Vendor_cluster_counts)"
   ]
  },
  {
   "cell_type": "code",
   "execution_count": null,
   "id": "4fa55fe3",
   "metadata": {},
   "outputs": [],
   "source": [
    "#getting the unique vendors from vendo_cluster_1\n",
    "Cluster_1_vendor = df[df['VENDOR_CLUSTER'] == 'Vendor_Cluster_1']\n",
    "\n",
    "# Get unique COMPANY_CODE_IDs\n",
    "unique_Cluster_1_vendor = Cluster_1_vendor['VENDOR_ID'].unique()"
   ]
  },
  {
   "cell_type": "code",
   "execution_count": null,
   "id": "3eab5222",
   "metadata": {},
   "outputs": [],
   "source": [
    "\n",
    "vendor_status_counts = Cluster_1_vendor.groupby(['VENDOR_ID', 'Delivery_Status']).size().unstack(fill_value=0)\n",
    "\n",
    "# Renaming the columns for clarity\n",
    "vendor_status_counts.rename(columns={0: 'Not Late', 1: 'Late'}, inplace=True)\n",
    "\n",
    "# Calculating the total transactions for each material ID\n",
    "vendor_status_counts['Total Transactions'] = vendor_status_counts['Late'] + vendor_status_counts['Not Late']\n",
    "\n",
    "# Calculating the percentage of late transactions for each material ID\n",
    "vendor_status_counts['Percentage Late'] = (vendor_status_counts['Late'] / vendor_status_counts['Total Transactions']) * 100\n",
    "\n",
    "# sorting by 'Total Transactions' to get the top 10 material IDs\n",
    "vendor_ids = vendor_status_counts.sort_values('Total Transactions', ascending=False).head(5)\n",
    "\n",
    "# Printing the result\n",
    "print(vendor_ids)"
   ]
  },
  {
   "cell_type": "code",
   "execution_count": null,
   "id": "0168579e",
   "metadata": {},
   "outputs": [],
   "source": [
    "#getting the unique vendors from vendo_cluster_2\n",
    "Cluster_2_vendor = df[df['VENDOR_CLUSTER'] == 'Vendor_Cluster_2']\n",
    "\n",
    "# Geting unique COMPANY_CODE_IDs\n",
    "unique_Cluster_2_vendor = Cluster_2_vendor['VENDOR_ID'].unique()\n",
    "unique_Cluster_2_vendor"
   ]
  },
  {
   "cell_type": "code",
   "execution_count": null,
   "id": "187752ec",
   "metadata": {},
   "outputs": [],
   "source": [
    "vendor_status_counts = Cluster_2_vendor.groupby(['VENDOR_ID', 'Delivery_Status']).size().unstack(fill_value=0)\n",
    "\n",
    "# Renaming the columns for clarity\n",
    "vendor_status_counts.rename(columns={0: 'Not Late', 1: 'Late'}, inplace=True)\n",
    "\n",
    "# Calculating the total transactions for each material ID\n",
    "vendor_status_counts['Total Transactions'] = vendor_status_counts['Late'] + vendor_status_counts['Not Late']\n",
    "\n",
    "# Calculating the percentage of late transactions for each material ID\n",
    "vendor_status_counts['Percentage Late'] = (vendor_status_counts['Late'] / vendor_status_counts['Total Transactions']) * 100\n",
    "\n",
    "# sorting by 'Total Transactions' to get the top 10 material IDs\n",
    "vendor_ids = vendor_status_counts.sort_values('Total Transactions', ascending=False)\n",
    "\n",
    "# Printing the result\n",
    "print(vendor_ids)"
   ]
  },
  {
   "cell_type": "markdown",
   "id": "2669dac3",
   "metadata": {},
   "source": [
    "***Checking vendor id's by late delivery percentages***"
   ]
  },
  {
   "cell_type": "code",
   "execution_count": null,
   "id": "54855cc8",
   "metadata": {},
   "outputs": [],
   "source": [
    "# Calculating the late delivery percentage for each vendor\n",
    "vendor_late_percentage = df.groupby('VENDOR_ID')['Delivery_Status'].mean()\n",
    "\n",
    "# Creating a mapping based on the thresholds\n",
    "vendor_category = {}\n",
    "\n",
    "for vendor, percentage in vendor_late_percentage.items():\n",
    "    if percentage == 1.0:\n",
    "        vendor_category[vendor] = \"Always_Late\"\n",
    "    elif percentage > 0.5:\n",
    "        vendor_category[vendor] = \"High_Late\"\n",
    "    elif percentage >= 0.2:\n",
    "        vendor_category[vendor] = \"Medium_Late\"\n",
    "    elif percentage > 0:\n",
    "        vendor_category[vendor] = \"Low_Late\"\n",
    "    else:\n",
    "        vendor_category[vendor] = \"Never_Late\"\n",
    "\n",
    "# Add a new 'Vendor_Category' column to the DataFrame\n",
    "df['VENDOR_CATEGORY'] = df['VENDOR_ID'].map(vendor_category)"
   ]
  },
  {
   "cell_type": "code",
   "execution_count": null,
   "id": "c07df659",
   "metadata": {},
   "outputs": [],
   "source": [
    "order = ['Always_Late', 'High_Late', 'Medium_Late', 'Low_Late', 'Never_Late']\n",
    "vendor_late_frequency = df['VENDOR_CATEGORY'].value_counts().reindex(order)\n",
    "print(vendor_late_frequency)"
   ]
  },
  {
   "cell_type": "code",
   "execution_count": null,
   "id": "33f4271b",
   "metadata": {},
   "outputs": [],
   "source": [
    "# Creating a bar chart\n",
    "plt.figure(figsize=(10, 6))\n",
    "x = vendor_late_frequency/1000\n",
    "colours = ['#FFCD00']\n",
    "ax = x.plot(kind='bar', color=colours)\n",
    "\n",
    "# Adding labels and a title\n",
    "plt.xlabel('Vendor ID', fontsize=16, fontweight='bold')\n",
    "\n",
    "plt.title('Vendor Counts According to Late Frequency', fontsize=18, fontweight='bold')\n",
    "plt.xticks(rotation=0)\n",
    "plt.tick_params(axis = 'x', which = 'both', length = 0)\n",
    "plt.yticks([])\n",
    "# Replace x-tick labels\n",
    "ax.set_xticklabels(['Always Late', 'High Late', 'Low Late', 'Medium Late', 'Never Late'], fontsize = 11, fontweight = 'bold')\n",
    "\n",
    "\n",
    "# Displaying count labels on top of the bars\n",
    "for i, v in enumerate(x):\n",
    "    ax.text(i, v + 10, f'{v:.1f}k', ha='center', va='bottom', fontsize=14, color='black', fontweight = 'bold')\n",
    "\n",
    "# Annotate with the definitions\n",
    "annotation_text = ('Always Late: 100% Late\\nHigh Late: More than 50% Late\\n'\n",
    "                   'Medium Late: 20% to 50% Late\\nLow Late: Less than 20% Late\\nNever Late: 0% Late')\n",
    "ax.annotate(annotation_text, xy=(0, 1), xytext=(15, -15), fontsize=14,\n",
    "            xycoords='axes fraction', textcoords='offset points',\n",
    "            bbox=dict(boxstyle='round,pad=0.5', edgecolor='red', facecolor='yellow'),\n",
    "            ha='left', va='top')\n",
    "for spine in ['top', 'right', 'left']:\n",
    "    ax.spines[spine].set_visible(False)\n",
    "# Adding horizontal gridlines\n",
    "ax.grid(False)\n",
    "\n",
    "# Ensure display is not too tight\n",
    "plt.tight_layout()\n",
    "\n",
    "# Show the plot\n",
    "plt.show()"
   ]
  },
  {
   "cell_type": "code",
   "execution_count": null,
   "id": "eef59f29",
   "metadata": {},
   "outputs": [],
   "source": [
    "unique_vendor_counts = df.groupby('VENDOR_CATEGORY')['VENDOR_ID'].nunique()\n",
    "\n",
    "# Displaying the result\n",
    "print(unique_vendor_counts)"
   ]
  },
  {
   "cell_type": "code",
   "execution_count": null,
   "id": "4b1166d4",
   "metadata": {},
   "outputs": [],
   "source": [
    "# The dataframe 'df' is filtered to include only those rows where the 'VENDOR_CATEGORY' is 'Never_Late'.\n",
    "# The resulting filtered dataframe is stored in 'never_late_vendors'.\n",
    "never_late_vendors = df[df['VENDOR_CATEGORY'] == 'Never_Late']\n",
    "\n",
    "# Unique values are extracted from the 'VENDOR_ID' column of the 'never_late_vendors' dataframe.\n",
    "# These unique values represent vendor IDs that have never been late.\n",
    "unique_never_late_vendors = never_late_vendors['VENDOR_ID'].unique()"
   ]
  },
  {
   "cell_type": "code",
   "execution_count": null,
   "id": "31092dfd",
   "metadata": {},
   "outputs": [],
   "source": [
    "# The frequencies of each 'VENDOR_ID' in the 'never_late_vendors' dataframe are calculated.\n",
    "# These frequencies represent the number of transactions for each vendor.\n",
    "# The result is stored in 'transaction_frequencies'.\n",
    "transaction_frequencies = never_late_vendors['VENDOR_ID'].value_counts()\n",
    "\n",
    "# The top 5 most frequent 'VENDOR_ID's are extracted from 'transaction_frequencies'.\n",
    "# This represents the 5 vendors with the highest number of transactions who have never been late.\n",
    "# The result is stored in 'never_late'.\n",
    "never_late = transaction_frequencies.head(5)"
   ]
  },
  {
   "cell_type": "code",
   "execution_count": null,
   "id": "ec7a6da9",
   "metadata": {},
   "outputs": [],
   "source": [
    "# A figure is created with a specified size of 10x7 inches.\n",
    "plt.figure(figsize = (10, 7))\n",
    "\n",
    "# A bar chart is plotted using the 'never_late' data.\n",
    "# Bars are colored with a specific color code '#FFCD00'.\n",
    "# The legend is turned off.\n",
    "ax = never_late.plot(\n",
    "    kind='bar',\n",
    "    color=['#FFCD00'],  \n",
    "    legend=False)\n",
    "\n",
    "# Annotations are added on top of each bar.\n",
    "# The height of each bar (representing value counts) is formatted and displayed.\n",
    "for p in ax.patches:\n",
    "    ax.annotate(f'{p.get_height():,.0f}', (p.get_x() + p.get_width() / 2., p.get_height()),\n",
    "                ha='center', va='center', xytext=(0, 10), textcoords='offset points', fontsize=16)\n",
    "\n",
    "# The plot is customized with titles and labels for axes.\n",
    "# Font size and weight are set for the title and axes labels.\n",
    "ax.set_title(\"Never Late Vendors\", fontsize = 20, fontweight = 'bold')\n",
    "ax.set_xlabel(\"Vendors\", fontsize = 20, fontweight = 'bold')\n",
    "ax.set_ylabel('Transaction Counts', fontsize = 20, fontweight = 'bold')\n",
    "\n",
    "# The tick parameters for both axes are adjusted for better readability.\n",
    "ax.tick_params(axis='x', labelsize=20)\n",
    "ax.tick_params(axis='y', labelsize=20)\n",
    "plt.tick_params(axis = 'x', which = 'both', length = 0)\n",
    "plt.tick_params(axis = 'y', which = 'both', length = 0)\n",
    "\n",
    "# The y-axis labels are formatted to display values.\n",
    "ax.yaxis.set_major_formatter(ticker.StrMethodFormatter('{x:,.0f}'))\n",
    "\n",
    "# Unnecessary border lines are removed for a cleaner look.\n",
    "for spine in ['top', 'right']:\n",
    "    ax.spines[spine].set_visible(False)\n",
    "\n",
    "# The plot is displayed.\n",
    "plt.show()"
   ]
  },
  {
   "cell_type": "code",
   "execution_count": null,
   "id": "4897a159",
   "metadata": {},
   "outputs": [],
   "source": [
    "# A new DataFrame 'always_late_vendors' is created by filtering the original DataFrame 'df'.\n",
    "# Only rows where the 'VENDOR_CATEGORY' equals 'Always_Late' are included in this new DataFrame.\n",
    "always_late_vendors = df[df['VENDOR_CATEGORY'] == 'Always_Late']\n",
    "\n",
    "# The frequencies of each 'VENDOR_ID' in the 'always_late_vendors' DataFrame are calculated.\n",
    "# These frequencies represent the number of transactions for each vendor who is always late.\n",
    "# The result is stored in 'transaction_frequencies'.\n",
    "transaction_frequencies = always_late_vendors['VENDOR_ID'].value_counts()\n",
    "\n",
    "# The top 5 most frequent 'VENDOR_ID's are extracted from 'transaction_frequencies'.\n",
    "# This represents the 5 vendors with the highest number of transactions who are always late.\n",
    "# The result is stored in 'always_late'.\n",
    "always_late = transaction_frequencies.head(5)\n"
   ]
  },
  {
   "cell_type": "code",
   "execution_count": null,
   "id": "3c47932d",
   "metadata": {},
   "outputs": [],
   "source": [
    "# A figure with a specified size of 10x7 inches is created.\n",
    "plt.figure(figsize = (10, 7))\n",
    "\n",
    "# A bar chart is plotted using the 'always_late' data.\n",
    "# Bars are colored using the specified color code '#FFCD00'.\n",
    "# The legend is disabled for this plot.\n",
    "ax = always_late.plot(\n",
    "    kind='bar',\n",
    "    color=['#FFCD00'],  \n",
    "    legend=False)\n",
    "\n",
    "# Value counts are displayed on top of each bar.\n",
    "# For each bar, its height is annotated, representing the transaction count.\n",
    "# The annotation is positioned centrally above each bar with a specified font size.\n",
    "for p in ax.patches:\n",
    "    ax.annotate(f'{p.get_height():,.0f}', (p.get_x() + p.get_width() / 2., p.get_height()),\n",
    "                ha='center', va='center', xytext=(0, 10), textcoords='offset points', fontsize=16)\n",
    "\n",
    "# The plot is customized with a title and labels for the axes.\n",
    "# 'ALways Late Vendors' is set as the title with a specified font size and weight.\n",
    "# The x-axis is labeled 'Vendors' and the y-axis is labeled 'Transaction Counts', both with specified font sizes and weights.\n",
    "ax.set_title(\"Always Late Vendors\", fontsize = 20, fontweight = 'bold')\n",
    "ax.set_xlabel(\"Vendors\", fontsize = 20, fontweight = 'bold')\n",
    "ax.set_ylabel('Transaction Counts', fontsize = 20, fontweight = 'bold')\n",
    "\n",
    "# Tick parameters for both x and y axes are set for readability.\n",
    "# The length of the ticks on both axes is set to zero for a cleaner appearance.\n",
    "ax.tick_params(axis='x', labelsize=20)\n",
    "ax.tick_params(axis='y', labelsize=20)\n",
    "plt.tick_params(axis = 'x', which = 'both', length = 0)\n",
    "plt.tick_params(axis = 'y', which = 'both', length = 0)\n",
    "\n",
    "# The y-axis labels are formatted to display values without scientific notation.\n",
    "ax.yaxis.set_major_formatter(ticker.StrMethodFormatter('{x:,.0f}'))\n",
    "\n",
    "# Unnecessary border lines at the top and right of the plot are removed.\n",
    "for spine in ['top', 'right']:\n",
    "    ax.spines[spine].set_visible(False)\n",
    "\n",
    "# The plot is displayed to the user.\n",
    "plt.show()"
   ]
  },
  {
   "cell_type": "code",
   "execution_count": null,
   "id": "75b248b8",
   "metadata": {},
   "outputs": [],
   "source": [
    "# The DataFrame 'status_counts' is created by grouping 'df' by 'VENDOR_ID' and 'Delivery_Status'.\n",
    "# The size of each group is calculated, and 'Delivery_Status' is unstacked to form columns.\n",
    "# Missing values are filled with 0.\n",
    "status_counts = df.groupby(['VENDOR_ID', 'Delivery_Status']).size().unstack(fill_value=0)\n",
    "\n",
    "# The columns of 'status_counts' are renamed to 'Not Late' and 'Late' for clarity.\n",
    "status_counts.columns = ['Not Late', 'Late']\n",
    "\n",
    "# The index of 'status_counts' is reset, turning 'VENDOR_ID' into a regular column.\n",
    "status_counts.reset_index(inplace=True)\n",
    "\n",
    "# The total number of transactions for each vendor ID is calculated.\n",
    "# This is achieved by summing the 'Late' and 'Not Late' columns for each row.\n",
    "# The result is stored in a new column 'Total Transactions'.\n",
    "status_counts['Total Transactions'] = status_counts['Late'] + status_counts['Not Late']\n",
    "\n",
    "# The percentage of late transactions for each vendor ID is calculated.\n",
    "# This is the ratio of 'Late' transactions to 'Total Transactions', multiplied by 100.\n",
    "# The result is stored in a new column 'Percentage Late'.\n",
    "status_counts['Percentage Late'] = (status_counts['Late'] / status_counts['Total Transactions']) * 100\n",
    "\n",
    "# 'status_counts' is sorted by 'Total Transactions' in descending order.\n",
    "# The top 5 vendor IDs based on the highest total transactions are selected.\n",
    "# The result is stored in 'top_vendors'.\n",
    "top_vendors = status_counts.sort_values('Total Transactions', ascending=False).head(5)\n",
    "\n",
    "# 'top_vendors' is now ready for display or further analysis.\n",
    "top_vendors"
   ]
  },
  {
   "cell_type": "markdown",
   "id": "94c9093e",
   "metadata": {},
   "source": [
    "### POSTAL_CD"
   ]
  },
  {
   "cell_type": "code",
   "execution_count": null,
   "id": "e494fd0e",
   "metadata": {},
   "outputs": [],
   "source": [
    "def categorize_postal_code(postal_code):\n",
    "    # Missing values in 'postal_code' are checked and categorized as 'Others'.\n",
    "    if pd.isnull(postal_code):\n",
    "        return 'Others'  # Handle missing values\n",
    "    # Postal codes that are numeric and 5 digits long are identified as US postal codes.\n",
    "    if postal_code.isnumeric() and len(postal_code) == 5:\n",
    "        return 'US_postal'\n",
    "    # Postal codes with alternating letter and numeric characters, 6 characters in total, are identified as Canadian postal codes.\n",
    "    elif len(postal_code) == 6 and all([postal_code[i].isalpha() if i % 2 == 0 else postal_code[i].isdigit() for i in range(len(postal_code))]):\n",
    "        return 'Canada_Postal'\n",
    "    # All other formats are categorized as 'Others_Postal'.\n",
    "    else:\n",
    "        return 'Others_Postal'\n",
    "\n",
    "# The function 'categorize_postal_code' is applied to each element in the 'POSTAL_CD' column of 'df'.\n",
    "# A new column 'POSTAL_CATEGORY' is created to store the results of this categorization.\n",
    "df['POSTAL_CATEGORY'] = df['POSTAL_CD'].apply(categorize_postal_code)\n",
    "\n",
    "# The first few rows of 'POSTAL_CD' and 'POSTAL_CATEGORY' in 'df' are displayed to verify the categorization.\n",
    "print(df[['POSTAL_CD', 'POSTAL_CATEGORY']].head())"
   ]
  },
  {
   "cell_type": "code",
   "execution_count": null,
   "id": "27bb660e",
   "metadata": {},
   "outputs": [],
   "source": [
    "# The frequency of each unique value in the 'POSTAL_CATEGORY' column of 'df' is calculated.\n",
    "# This displays how many times each postal category (like US_postal, Canada_Postal, Others_Postal, and Others) appears in the DataFrame.\n",
    "df['POSTAL_CATEGORY'].value_counts()"
   ]
  },
  {
   "cell_type": "code",
   "execution_count": null,
   "id": "22751da4",
   "metadata": {},
   "outputs": [],
   "source": [
    "# The frequencies of each unique value in the 'POSTAL_CD' column of 'df' are calculated.\n",
    "# The result, 'postal_code_counts', contains the counts of each postal code in the DataFrame.\n",
    "postal_code_counts = df['POSTAL_CD'].value_counts()\n",
    "\n",
    "# A bar plot is created to visualize the top 20 most frequent postal codes.\n",
    "# The x-axis represents the postal codes, and the y-axis represents their frequencies.\n",
    "sn.barplot(x=postal_code_counts.head(20).index, y=postal_code_counts.head(20).values)\n",
    "# The labels on the x-axis are rotated by 90 degrees for better readability.\n",
    "plt.xticks(rotation=90)  \n",
    "# A title is added to the plot.\n",
    "plt.title('Top 20 US Postal Codes')\n",
    "# Labels are added to the x and y axes.\n",
    "plt.xlabel('Postal Code')\n",
    "plt.ylabel('Frequency')\n",
    "# The plot is displayed.\n",
    "plt.show()"
   ]
  },
  {
   "cell_type": "markdown",
   "id": "fe961b68",
   "metadata": {},
   "source": [
    "### MATERIAL_ID"
   ]
  },
  {
   "cell_type": "code",
   "execution_count": null,
   "id": "e589be70",
   "metadata": {},
   "outputs": [],
   "source": [
    "# The mean and count of 'Delivery_Status' for each 'MATERIAL_ID' in 'df' are calculated.\n",
    "# The results are aggregated into a new DataFrame 'material_metrics' and the index is reset.\n",
    "material_metrics = df.groupby('MATERIAL_ID')['Delivery_Status'].agg(['mean', 'count']).reset_index()\n",
    "\n",
    "# The 'mean' and 'count' columns of 'material_metrics' are scaled.\n",
    "# This is done using a standard scaler which normalizes the data.\n",
    "scaler = StandardScaler()\n",
    "material_metrics_scaled = scaler.fit_transform(material_metrics[['mean', 'count']])\n",
    "\n",
    "# An empty list 'inertia' is initialized to store the inertia values for different cluster counts.\n",
    "inertia = []\n",
    "# A loop is run for cluster numbers ranging from 1 to 10.\n",
    "for k in range(1, 11):  # Testing 1 to 10 clusters\n",
    "    # A KMeans clustering model is created and fitted with 'k' clusters.\n",
    "    kmeans = KMeans(n_clusters=k, random_state=0)\n",
    "    kmeans.fit(material_metrics_scaled)\n",
    "    # The inertia (sum of squared distances of samples to their closest cluster center) for each k is appended to the list.\n",
    "    inertia.append(kmeans.inertia_)\n",
    "\n",
    "# An elbow plot is created to determine the optimal number of clusters.\n",
    "# The number of clusters (k) is plotted against their corresponding inertia values.\n",
    "plt.figure(figsize=(10, 6))\n",
    "plt.plot(range(1, 11), inertia, marker='o')\n",
    "# The plot is titled 'Elbow Method For Optimal k'.\n",
    "plt.title('Elbow Method For Optimal k')\n",
    "# The x-axis is labeled 'Number of clusters' and the y-axis is labeled 'Inertia'.\n",
    "plt.xlabel('Number of clusters')\n",
    "plt.ylabel('Inertia')\n",
    "# The x-axis ticks are set to range from 1 to 10.\n",
    "plt.xticks(range(1, 11))\n",
    "# The plot is displayed.\n",
    "plt.show()"
   ]
  },
  {
   "cell_type": "code",
   "execution_count": null,
   "id": "b58bcf68",
   "metadata": {},
   "outputs": [],
   "source": [
    "# KMeans is initialized with 3 clusters, based on the previous determination that this number is optimal.\n",
    "kmeans = KMeans(n_clusters=3, random_state=0)\n",
    "\n",
    "# The KMeans algorithm is fitted on the scaled 'material_metrics' data.\n",
    "# The cluster each material belongs to is then predicted and stored in a new column 'cluster'.\n",
    "material_metrics['cluster'] = kmeans.fit_predict(material_metrics_scaled)\n",
    "\n",
    "# A new column 'cluster_label' is created in 'material_metrics'.\n",
    "# Each cluster number is formatted into a more descriptive label, such as 'Material_Cluster_1'.\n",
    "material_metrics['cluster_label'] = material_metrics['cluster'].apply(lambda x: f'Material_Cluster_{x+1}')\n",
    "\n",
    "# A dictionary 'material_id_to_cluster' is created, mapping 'MATERIAL_ID' to its assigned cluster label.\n",
    "material_id_to_cluster = dict(zip(material_metrics['MATERIAL_ID'], material_metrics['cluster_label']))\n",
    "\n",
    "# The original DataFrame 'df' is updated by mapping the 'MATERIAL_ID' to their respective cluster labels.\n",
    "# This mapping adds a new column 'MATERIAL_CLUSTER' to 'df'.\n",
    "df['MATERIAL_CLUSTER'] = df['MATERIAL_ID'].map(material_id_to_cluster)\n",
    "\n",
    "# The first few rows of 'df' are displayed, showing the new 'MATERIAL_CLUSTER' feature.\n",
    "# This allows for a quick inspection of the newly created clusters.\n",
    "df[['MATERIAL_ID', 'MATERIAL_CLUSTER']].head()"
   ]
  },
  {
   "cell_type": "code",
   "execution_count": null,
   "id": "1710d8d3",
   "metadata": {},
   "outputs": [],
   "source": [
    "# The frequency of each unique cluster label in the 'MATERIAL_CLUSTER' column of 'df' is calculated.\n",
    "# This line of code helps in understanding the distribution of materials across the different clusters.\n",
    "df['MATERIAL_CLUSTER'].value_counts()"
   ]
  },
  {
   "cell_type": "code",
   "execution_count": null,
   "id": "6f138cb2",
   "metadata": {},
   "outputs": [],
   "source": [
    "# The data in 'df' is grouped by 'MATERIAL_CLUSTER' and 'Delivery_Status', and the count of each group is calculated.\n",
    "# The 'Delivery_Status' level is unstacked to form columns, with missing values filled with 0.\n",
    "status_counts = df.groupby(['MATERIAL_CLUSTER', 'Delivery_Status']).size().unstack(fill_value=0)\n",
    "\n",
    "# The columns in 'status_counts' are renamed to 'Not Late' and 'Late' for better clarity.\n",
    "status_counts.columns = ['Not Late', 'Late']\n",
    "\n",
    "# The index of 'status_counts' is reset, converting 'MATERIAL_CLUSTER' into a regular column.\n",
    "status_counts.reset_index(inplace=True)\n",
    "\n",
    "# A new column 'Total' is added to 'status_counts', representing the sum of the 'Late' and 'Not Late' columns.\n",
    "status_counts['Total'] = status_counts['Late'] + status_counts['Not Late']\n",
    "\n",
    "# The percentage of late deliveries for each material cluster is calculated.\n",
    "# This is achieved by dividing the 'Late' count by the 'Total' and multiplying by 100.\n",
    "# The result is stored in a new column 'Late_Percentage'.\n",
    "status_counts['Late_Percentage'] = (status_counts['Late'] / status_counts['Total']) * 100\n",
    "\n",
    "# The 'status_counts' DataFrame, with the newly calculated metrics, is printed for review.\n",
    "print(status_counts)"
   ]
  },
  {
   "cell_type": "code",
   "execution_count": null,
   "id": "69214365",
   "metadata": {},
   "outputs": [],
   "source": [
    "# A figure and axes are created for the plot, with a specified size.\n",
    "fig, ax1 = plt.subplots(figsize=(12, 7))\n",
    "\n",
    "# Stacked bars are plotted for 'Not Late' and 'Late' delivery counts.\n",
    "# 'Not Late' deliveries are shown in grey at the bottom and 'Late' deliveries in red on top.\n",
    "ax1.bar(status_counts['MATERIAL_CLUSTER'], status_counts['Not Late'], label='On-Time Deliveries', color='#7F7F7F')\n",
    "ax1.bar(status_counts['MATERIAL_CLUSTER'], status_counts['Late'], bottom=status_counts['Not Late'], label='Late Deliveries', color='#9B1D20')\n",
    "\n",
    "# Labels and title are set for the plot.\n",
    "ax1.set_xlabel('Material ID', fontsize=24, fontweight='bold')\n",
    "ax1.set_ylabel('Transaction Counts', fontsize=24, fontweight='bold')\n",
    "ax1.set_title('Material Counts & Percentage of Delivery Status', fontsize=24, fontweight='bold')\n",
    "\n",
    "# A legend is added to the upper right of the plot.\n",
    "ax1.legend(loc='upper right')\n",
    "\n",
    "# Percentage values are plotted inside the bars for both 'Not Late' and 'Late' deliveries.\n",
    "# This is done by iterating over each 'MATERIAL_CLUSTER' and placing the text at appropriate positions.\n",
    "for i in range(len(status_counts['MATERIAL_CLUSTER'])):\n",
    "    # Not late percentage is displayed inside the corresponding bar.\n",
    "    ax1.text(status_counts['MATERIAL_CLUSTER'][i], status_counts['Not Late'][i] / 2, f\"{status_counts['Not_Late_Percentage'][i]:.2f}%\", \n",
    "             ha='center', va='center', color='white', fontsize=14, fontweight='bold')\n",
    "    # Late percentage is displayed inside the corresponding stacked bar.\n",
    "    ax1.text(status_counts['MATERIAL_CLUSTER'][i], status_counts['Not Late'][i] + status_counts['Late'][i] / 2, f\"{status_counts['Late_Percentage'][i]:.2f}%\", \n",
    "             ha='center', va='center', color='white', fontsize=14, fontweight='bold')\n",
    "\n",
    "# The x-tick labels are set to display each 'MATERIAL_CLUSTER'.\n",
    "ax1.set_xticks(status_counts['MATERIAL_CLUSTER'])\n",
    "ax1.set_xticklabels(status_counts['MATERIAL_CLUSTER'], fontsize=14, fontweight='bold')\n",
    "# The length of x-ticks is set to zero.\n",
    "ax1.tick_params(axis='x', length=0)\n",
    "# The y-axis labels are formatted to show counts without scientific notation.\n",
    "ax1.yaxis.set_major_formatter(ticker.StrMethodFormatter('{x:,.0f}'))\n",
    "# Y-axis tick labels are set to a specific size.\n",
    "ax1.yaxis.set_tick_params(labelsize=12)\n",
    "\n",
    "# Unnecessary spines at the top and right of the plot are removed.\n",
    "ax1.spines['top'].set_visible(False)\n",
    "ax1.spines['right'].set_visible(False)\n",
    "\n",
    "# The plot layout is adjusted for a tight fit and then displayed.\n",
    "plt.tight_layout()\n",
    "plt.show()"
   ]
  },
  {
   "cell_type": "code",
   "execution_count": null,
   "id": "190f53de",
   "metadata": {},
   "outputs": [],
   "source": [
    "# The number of unique 'MATERIAL_ID's within each 'MATERIAL_CLUSTER' is calculated.\n",
    "# This is done by grouping 'df' by 'MATERIAL_CLUSTER' and then applying the 'nunique' function to the 'MATERIAL_ID' column.\n",
    "# The result, 'unique_material_counts', shows the count of distinct materials in each cluster.\n",
    "unique_material_counts = df.groupby('MATERIAL_CLUSTER')['MATERIAL_ID'].nunique()\n",
    "unique_material_counts"
   ]
  },
  {
   "cell_type": "code",
   "execution_count": null,
   "id": "3fb9820b",
   "metadata": {},
   "outputs": [],
   "source": [
    "# A new DataFrame 'Cluster_2_material' is created by filtering 'df' for only those rows where 'MATERIAL_CLUSTER' equals 'Material_Cluster_2'.\n",
    "# This DataFrame includes all materials assigned to the second cluster.\n",
    "Cluster_2_material = df[df['MATERIAL_CLUSTER'] == 'Material_Cluster_2']\n",
    "\n",
    "# The unique 'MATERIAL_ID's in the 'Cluster_2_material' DataFrame are extracted.\n",
    "# This results in a list of all distinct materials that belong to the second cluster.\n",
    "unique_Cluster_2_material = Cluster_2_material['MATERIAL_ID'].unique()\n",
    "\n",
    "# The list of unique 'MATERIAL_ID's for the second material cluster is printed.\n",
    "# This shows which materials are categorized in 'Material_Cluster_2'.\n",
    "print(unique_Cluster_2_material)"
   ]
  },
  {
   "cell_type": "code",
   "execution_count": null,
   "id": "450fb282",
   "metadata": {},
   "outputs": [],
   "source": [
    "# A new DataFrame 'Cluster_3_material' is created by filtering 'df' to include only those rows where 'MATERIAL_CLUSTER' is 'Material_Cluster_3'.\n",
    "# This subset contains all materials that are categorized into the third material cluster.\n",
    "Cluster_3_material = df[df['MATERIAL_CLUSTER'] == 'Material_Cluster_3']\n",
    "\n",
    "# The unique 'MATERIAL_ID's in the 'Cluster_3_material' DataFrame are extracted.\n",
    "# This operation results in a collection of all distinct materials belonging to the third cluster.\n",
    "unique_Cluster_3_material = Cluster_3_material['MATERIAL_ID'].unique()\n",
    "\n",
    "# The list of unique 'MATERIAL_ID's for the third material cluster is printed.\n",
    "# This output helps in identifying which materials are classified under 'Material_Cluster_3'.\n",
    "print(unique_Cluster_3_material)"
   ]
  },
  {
   "cell_type": "code",
   "execution_count": null,
   "id": "90befbea",
   "metadata": {},
   "outputs": [],
   "source": [
    "# The data in 'Cluster_3_material' is grouped by 'MATERIAL_ID' and 'Delivery_Status', and the count of each group is calculated.\n",
    "# The 'Delivery_Status' level is unstacked to form columns, with missing values filled with 0.\n",
    "# The result, 'material_status_counts', contains counts of delivery statuses for each material ID in the third cluster.\n",
    "material_status_counts = Cluster_3_material.groupby(['MATERIAL_ID', 'Delivery_Status']).size().unstack(fill_value=0)\n",
    "\n",
    "# The columns in 'material_status_counts' are renamed to 'Not Late' and 'Late' for better clarity.\n",
    "material_status_counts.rename(columns={0: 'Not Late', 1: 'Late'}, inplace=True)\n",
    "\n",
    "# The total number of transactions for each material ID is calculated.\n",
    "# This is achieved by summing the 'Late' and 'Not Late' columns for each row.\n",
    "# The result is stored in a new column 'Total Transactions'.\n",
    "material_status_counts['Total Transactions'] = material_status_counts['Late'] + material_status_counts['Not Late']\n",
    "\n",
    "# The percentage of late transactions for each material ID is calculated.\n",
    "# This is the ratio of 'Late' transactions to 'Total Transactions', multiplied by 100.\n",
    "# The result is stored in a new column 'Percentage Late'.\n",
    "material_status_counts['Percentage Late'] = (material_status_counts['Late'] / material_status_counts['Total Transactions']) * 100\n",
    "\n",
    "# 'material_status_counts' is sorted by 'Total Transactions' in descending order.\n",
    "# The top 10 material IDs based on the highest total transactions are selected.\n",
    "# The result is stored in 'top_material_ids'.\n",
    "top_material_ids = material_status_counts.sort_values('Total Transactions', ascending=False).head(10)\n",
    "\n",
    "# The top 10 material IDs, along with their delivery status counts and percentages, are printed.\n",
    "print(top_material_ids)"
   ]
  },
  {
   "cell_type": "code",
   "execution_count": null,
   "id": "616f4859",
   "metadata": {},
   "outputs": [],
   "source": [
    "# The list of top 10 material IDs is obtained based on total transactions.\n",
    "top_material_ids_list = top_material_ids.index.tolist()\n",
    "\n",
    "# Only those records in the original DataFrame that match the top material IDs are retained.\n",
    "top_materials_data = Cluster_3_material[Cluster_3_material['MATERIAL_ID'].isin(top_material_ids_list)]\n",
    "\n",
    "# The data is grouped by 'MATERIAL_ID' and 'VENDOR_ID' to identify which vendors deliver the top materials.\n",
    "vendor_deliveries = top_materials_data.groupby(['MATERIAL_ID', 'VENDOR_ID']).size().reset_index(name='Count')\n",
    "\n",
    "# The grouped data is sorted by 'MATERIAL_ID' and then by 'Count' to determine the vendors with the highest number of deliveries for each material.\n",
    "vendor_deliveries_sorted = vendor_deliveries.sort_values(['MATERIAL_ID', 'Count'], ascending=[True, False])\n",
    "\n",
    "# The data for each material ID is printed separately, showing the vendors associated with that material.\n",
    "for material_id in top_material_ids_list:\n",
    "    print(f\"Vendors for material ID {material_id}:\")\n",
    "    display(vendor_deliveries_sorted[vendor_deliveries_sorted['MATERIAL_ID'] == material_id])"
   ]
  },
  {
   "cell_type": "code",
   "execution_count": null,
   "id": "dadf6436",
   "metadata": {},
   "outputs": [],
   "source": []
  },
  {
   "cell_type": "markdown",
   "id": "0f5d9544",
   "metadata": {},
   "source": [
    "### SUB_COMMODITY_DESC"
   ]
  },
  {
   "cell_type": "code",
   "execution_count": null,
   "id": "54292329",
   "metadata": {},
   "outputs": [],
   "source": [
    "# The mean delivery status for each sub_commodity is calculated, along with the count.\n",
    "sub_commodity_metrics = df.groupby('SUB_COMMODITY_DESC')['Delivery_Status'].agg(['mean', 'count']).reset_index()\n",
    "\n",
    "# The data is scaled using StandardScaler.\n",
    "scaler = StandardScaler()\n",
    "sub_commodity_metrics_scaled = scaler.fit_transform(sub_commodity_metrics[['mean', 'count']])\n",
    "\n",
    "# Different numbers of clusters are tried, and the inertia (sum of squared distances to nearest cluster center) for each is stored.\n",
    "inertia = []\n",
    "for k in range(1, 11):  # Testing 1 to 10 clusters\n",
    "    kmeans = KMeans(n_clusters=k, random_state=0)\n",
    "    kmeans.fit(sub_commodity_metrics_scaled)\n",
    "    inertia.append(kmeans.inertia_)\n",
    "\n",
    "# The elbow plot is generated to illustrate the optimal number of clusters.\n",
    "plt.figure(figsize=(10, 6))\n",
    "plt.plot(range(1, 11), inertia, marker='o')\n",
    "plt.title('Elbow Method For Optimal k')\n",
    "plt.xlabel('Number of clusters')\n",
    "plt.ylabel('Inertia')\n",
    "plt.xticks(range(1, 11))\n",
    "plt.show()"
   ]
  },
  {
   "cell_type": "code",
   "execution_count": null,
   "id": "148a0532",
   "metadata": {},
   "outputs": [],
   "source": [
    "# Since an optimal number of 3 clusters has been determined, KMeans is initialized with 3 clusters.\n",
    "kmeans = KMeans(n_clusters=3, random_state=0)\n",
    "\n",
    "# The KMeans algorithm is fitted on the scaled data, and cluster assignments are made.\n",
    "sub_commodity_metrics['cluster'] = kmeans.fit_predict(sub_commodity_metrics_scaled)\n",
    "\n",
    "# A label for each cluster is created, formatted as 'Sub_Commodity_Cluster_X'.\n",
    "sub_commodity_metrics['cluster_label'] = sub_commodity_metrics['cluster'].apply(lambda x: f'Sub_Commodity_Cluster_{x+1}')\n",
    "\n",
    "# A mapping from sub_commodity to the assigned cluster label is created.\n",
    "sub_commodity_to_cluster = dict(zip(sub_commodity_metrics['SUB_COMMODITY_DESC'], sub_commodity_metrics['cluster_label']))\n",
    "\n",
    "# The original DataFrame is updated with a new feature, mapping each sub_commodity to its cluster label.\n",
    "df['SUB_COMMODITY_CLUSTER'] = df['SUB_COMMODITY_DESC'].map(sub_commodity_to_cluster)\n",
    "\n",
    "# The DataFrame is displayed, showing the new feature for sub_commodity clusters.\n",
    "df[['SUB_COMMODITY_DESC', 'SUB_COMMODITY_CLUSTER']].head()"
   ]
  },
  {
   "cell_type": "code",
   "execution_count": null,
   "id": "49b0982c",
   "metadata": {},
   "outputs": [],
   "source": [
    "# The frequency of each cluster label in the 'SUB_COMMODITY_CLUSTER' column is counted and displayed.\n",
    "df['SUB_COMMODITY_CLUSTER'].value_counts()"
   ]
  },
  {
   "cell_type": "code",
   "execution_count": null,
   "id": "4ce03f52",
   "metadata": {},
   "outputs": [],
   "source": [
    "# A count of delivery statuses is grouped by 'SUB_COMMODITY_CLUSTER' and 'Delivery_Status', with missing values filled as zero.\n",
    "status_counts = df.groupby(['SUB_COMMODITY_CLUSTER', 'Delivery_Status']).size().unstack(fill_value=0)\n",
    "\n",
    "# The columns are renamed to 'Not Late' and 'Late' for better clarity.\n",
    "status_counts.columns = ['Not Late', 'Late']\n",
    "\n",
    "# The index is reset, turning 'SUB_COMMODITY_CLUSTER' into a regular column.\n",
    "status_counts.reset_index(inplace=True)\n",
    "\n",
    "# A new column 'Total' is added, summing up the counts of 'Late' and 'Not Late' deliveries.\n",
    "status_counts['Total'] = status_counts['Late'] + status_counts['Not Late']\n",
    "\n",
    "# The percentage of late deliveries is calculated and stored in a new column 'Late_Percentage'.\n",
    "status_counts['Late_Percentage'] = (status_counts['Late'] / status_counts['Total']) * 100\n",
    "\n",
    "# The resulting DataFrame, showing the counts and percentages of delivery statuses, is printed.\n",
    "print(status_counts)"
   ]
  },
  {
   "cell_type": "code",
   "execution_count": null,
   "id": "c9780b2a",
   "metadata": {},
   "outputs": [],
   "source": [
    "# The percentage of late deliveries is recalculated using a different formula.\n",
    "status_counts['Late_Percentage'] = (status_counts['Late'] / (status_counts['Late'] + status_counts['Not Late'])) * 100\n",
    "\n",
    "# The percentage of on-time deliveries is calculated and stored in a new column 'Not_Late_Percentage'.\n",
    "status_counts['Not_Late_Percentage'] = 100 - status_counts['Late_Percentage']\n",
    "\n",
    "# A figure and axis are created for plotting the data.\n",
    "fig, ax1 = plt.subplots(figsize=(12, 7))\n",
    "\n",
    "# Late deliveries (in red) are plotted on top of on-time deliveries (in grey) as a stacked bar chart.\n",
    "ax1.bar(status_counts['SUB_COMMODITY_CLUSTER'], status_counts['Not Late'], label='On-Time Deliveries', color='#7F7F7F')\n",
    "ax1.bar(status_counts['SUB_COMMODITY_CLUSTER'], status_counts['Late'], bottom=status_counts['Not Late'], label='Late Deliveries', color='#9B1D20')\n",
    "\n",
    "# Labels and title are set for the plot.\n",
    "ax1.set_xlabel('Sub Commodity', fontsize=24, fontweight='bold')\n",
    "ax1.set_ylabel('Transaction Counts', fontsize=24, fontweight='bold')\n",
    "ax1.set_title('Sub Commodity Counts & Percentage of Delivery Status', fontsize=24, fontweight='bold')\n",
    "ax1.legend(loc='upper right')\n",
    "\n",
    "# Percentage values are plotted inside the bars for each sub commodity cluster.\n",
    "for i in range(len(status_counts['SUB_COMMODITY_CLUSTER'])):\n",
    "    # Displaying the percentage of on-time deliveries within the grey bar.\n",
    "    ax1.text(status_counts['SUB_COMMODITY_CLUSTER'][i], status_counts['Not Late'][i] / 2, f\"{status_counts['Not_Late_Percentage'][i]:.2f}%\", \n",
    "             ha='center', va='center', color='white', fontsize=14, fontweight='bold')\n",
    "    # Displaying the percentage of late deliveries within the red bar.\n",
    "    ax1.text(status_counts['SUB_COMMODITY_CLUSTER'][i], status_counts['Not Late'][i] + status_counts['Late'][i] / 2, f\"{status_counts['Late_Percentage'][i]:.2f}%\", \n",
    "             ha='center', va='center', color='white', fontsize=14, fontweight='bold')\n",
    "\n",
    "# The x-tick labels are set to display the names of the sub commodity clusters.\n",
    "ax1.set_xticks(status_counts['SUB_COMMODITY_CLUSTER'])\n",
    "ax1.set_xticklabels(status_counts['SUB_COMMODITY_CLUSTER'], fontsize=14, fontweight='bold')\n",
    "ax1.tick_params(axis='x', length=0)\n",
    "\n",
    "# A formatter is set for the y-axis to display the count values in a readable format.\n",
    "ax1.yaxis.set_major_formatter(ticker.StrMethodFormatter('{x:,.0f}'))\n",
    "# Y-axis labels for counts are shown with adjusted font size.\n",
    "ax1.yaxis.set_tick_params(labelsize=12)\n",
    "\n",
    "# The top and right spines of the plot are removed for a cleaner look.\n",
    "ax1.spines['top'].set_visible(False)\n",
    "ax1.spines['right'].set_visible(False)\n",
    "\n",
    "# The plot is displayed with a tight layout to ensure no clipping of labels.\n",
    "plt.tight_layout()\n",
    "plt.show()"
   ]
  },
  {
   "cell_type": "code",
   "execution_count": null,
   "id": "acde457f",
   "metadata": {},
   "outputs": [],
   "source": [
    "# The number of unique 'SUB_COMMODITY_DESC' values within each 'SUB_COMMODITY_CLUSTER' is calculated and stored.\n",
    "unique_subcommodity_counts = df.groupby('SUB_COMMODITY_CLUSTER')['SUB_COMMODITY_DESC'].nunique()\n",
    "unique_subcommodity_counts"
   ]
  },
  {
   "cell_type": "code",
   "execution_count": null,
   "id": "b48bdebd",
   "metadata": {},
   "outputs": [],
   "source": [
    "# A subset of the DataFrame 'df' is created, containing only rows where 'SUB_COMMODITY_CLUSTER' equals 'Sub_Commodity_Cluster_1'.\n",
    "Cluster_1_Sub_Commodity = df[df['SUB_COMMODITY_CLUSTER'] == 'Sub_Commodity_Cluster_1']\n",
    "\n",
    "# The unique values of 'SUB_COMMODITY_DESC' in this subset are extracted.\n",
    "unique_Cluster_1_Sub_Commodity = Cluster_1_Sub_Commodity['SUB_COMMODITY_DESC'].unique()\n",
    "\n",
    "# The unique 'SUB_COMMODITY_DESC' values are printed.\n",
    "print(unique_Cluster_1_Sub_Commodity)"
   ]
  },
  {
   "cell_type": "code",
   "execution_count": null,
   "id": "f614acad",
   "metadata": {},
   "outputs": [],
   "source": [
    "# A subset of the DataFrame 'df' is selected, including only rows where 'SUB_COMMODITY_CLUSTER' is 'Sub_Commodity_Cluster_2'.\n",
    "Cluster_2_Sub_Commodity = df[df['SUB_COMMODITY_CLUSTER'] == 'Sub_Commodity_Cluster_2']\n",
    "\n",
    "# The unique 'SUB_COMMODITY_DESC' values in this subset are obtained.\n",
    "unique_Cluster_2_Sub_Commodity = Cluster_2_Sub_Commodity['SUB_COMMODITY_DESC'].unique()\n",
    "\n",
    "# The unique 'SUB_COMMODITY_DESC' values are printed to display them.\n",
    "print(unique_Cluster_2_Sub_Commodity)"
   ]
  },
  {
   "cell_type": "code",
   "execution_count": null,
   "id": "977374f3",
   "metadata": {},
   "outputs": [],
   "source": [
    "# The count of delivery statuses is grouped by 'SUB_COMMODITY_DESC' and 'Delivery_Status' for Cluster 1, with missing values filled as zero.\n",
    "Sub_Commodity_status_counts = Cluster_1_Sub_Commodity.groupby(['SUB_COMMODITY_DESC', 'Delivery_Status']).size().unstack(fill_value=0)\n",
    "\n",
    "# The columns are renamed to 'Not Late' and 'Late' for clearer understanding.\n",
    "Sub_Commodity_status_counts.rename(columns={0: 'Not Late', 1: 'Late'}, inplace=True)\n",
    "\n",
    "# The total transactions for each sub_commodity are calculated by summing 'Late' and 'Not Late'.\n",
    "Sub_Commodity_status_counts['Total Transactions'] = Sub_Commodity_status_counts['Late'] + Sub_Commodity_status_counts['Not Late']\n",
    "\n",
    "# The percentage of late transactions for each sub_commodity is calculated.\n",
    "Sub_Commodity_status_counts['Percentage Late'] = (Sub_Commodity_status_counts['Late'] / Sub_Commodity_status_counts['Total Transactions']) * 100\n",
    "\n",
    "# The sub_commodities are sorted by 'Total Transactions' to identify the top 5 with the highest transactions.\n",
    "Sub_Commodity_ids = Sub_Commodity_status_counts.sort_values('Total Transactions', ascending=False).head(5)\n",
    "\n",
    "# The top 5 sub_commodities by total transactions are printed.\n",
    "print(Sub_Commodity_ids)"
   ]
  },
  {
   "cell_type": "code",
   "execution_count": null,
   "id": "bd2bfa4f",
   "metadata": {},
   "outputs": [],
   "source": [
    "Sub_Commodity_status_counts = Cluster_2_Sub_Commodity.groupby(['SUB_COMMODITY_DESC', 'Delivery_Status']).size().unstack(fill_value=0)\n",
    "\n",
    "# Rename the columns for clarity\n",
    "Sub_Commodity_status_counts.rename(columns={0: 'Not Late', 1: 'Late'}, inplace=True)\n",
    "\n",
    "# Calculate the total transactions for each material ID\n",
    "Sub_Commodity_status_counts['Total Transactions'] = Sub_Commodity_status_counts['Late'] + Sub_Commodity_status_counts['Not Late']\n",
    "\n",
    "# Calculate the percentage of late transactions for each material ID\n",
    "Sub_Commodity_status_counts['Percentage Late'] = (Sub_Commodity_status_counts['Late'] / Sub_Commodity_status_counts['Total Transactions']) * 100\n",
    "\n",
    "# Now sort by 'Total Transactions' to get the top 10 material IDs\n",
    "Sub_Commodity_ids = Sub_Commodity_status_counts.sort_values('Total Transactions', ascending=False)\n",
    "\n",
    "# Print the result\n",
    "print(Sub_Commodity_ids)"
   ]
  },
  {
   "cell_type": "markdown",
   "id": "e7ad87e1",
   "metadata": {},
   "source": [
    "### PLANT_ID"
   ]
  },
  {
   "cell_type": "code",
   "execution_count": null,
   "id": "7678bb26",
   "metadata": {},
   "outputs": [],
   "source": [
    "# The mean delivery status for each 'PLANT_ID' is calculated, along with the count of occurrences.\n",
    "plant_metrics = df.groupby('PLANT_ID')['Delivery_Status'].agg(['mean', 'count']).reset_index()\n",
    "\n",
    "# The calculated metrics are scaled using StandardScaler.\n",
    "scaler = StandardScaler()\n",
    "plant_metrics_scaled = scaler.fit_transform(plant_metrics[['mean', 'count']])\n",
    "\n",
    "# Various numbers of clusters (from 1 to 10) are tested, and the inertia for each number is stored.\n",
    "inertia = []\n",
    "for k in range(1, 11):  # Testing 1 to 10 clusters\n",
    "    kmeans = KMeans(n_clusters=k, random_state=0)\n",
    "    kmeans.fit(plant_metrics_scaled)\n",
    "    inertia.append(kmeans.inertia_)\n",
    "\n",
    "# An elbow plot is created to visualize the optimal number of clusters based on inertia values.\n",
    "plt.figure(figsize=(10, 6))\n",
    "plt.plot(range(1, 11), inertia, marker='o')\n",
    "plt.title('Elbow Method For Optimal k')\n",
    "plt.xlabel('Number of clusters')\n",
    "plt.ylabel('Inertia')\n",
    "plt.xticks(range(1, 11))\n",
    "plt.show()"
   ]
  },
  {
   "cell_type": "code",
   "execution_count": null,
   "id": "c5d9fbae",
   "metadata": {},
   "outputs": [],
   "source": [
    "# Since it has been determined that 3 clusters are optimal, KMeans is initialized with 3 clusters.\n",
    "kmeans = KMeans(n_clusters=3, random_state=0)\n",
    "\n",
    "# The KMeans algorithm is fitted on the scaled plant metrics data, and clusters are assigned.\n",
    "plant_metrics['cluster'] = kmeans.fit_predict(plant_metrics_scaled)\n",
    "\n",
    "# A label for each cluster is created and added to the 'plant_metrics' DataFrame.\n",
    "plant_metrics['cluster_label'] = plant_metrics['cluster'].apply(lambda x: f'Plant_Cluster_{x+1}')\n",
    "\n",
    "# A mapping from 'PLANT_ID' to the assigned cluster label is created.\n",
    "plant_to_cluster = dict(zip(plant_metrics['PLANT_ID'], plant_metrics['cluster_label']))\n",
    "\n",
    "# The original DataFrame 'df' is updated with a new 'PLANT_CLUSTER' feature, mapping each 'PLANT_ID' to its cluster label.\n",
    "df['PLANT_CLUSTER'] = df['PLANT_ID'].map(plant_to_cluster)\n",
    "\n",
    "# The first few rows of the DataFrame are displayed to show the new 'PLANT_CLUSTER' feature.\n",
    "df[['PLANT_ID', 'PLANT_CLUSTER']].head()"
   ]
  },
  {
   "cell_type": "code",
   "execution_count": null,
   "id": "2a0e153f",
   "metadata": {},
   "outputs": [],
   "source": [
    "# The frequency of each cluster label in the 'PLANT_CLUSTER' column is counted and displayed.\n",
    "df['PLANT_CLUSTER'].value_counts()"
   ]
  },
  {
   "cell_type": "code",
   "execution_count": null,
   "id": "2b38a264",
   "metadata": {},
   "outputs": [],
   "source": [
    "# A count of delivery statuses is grouped by 'PLANT_CLUSTER' and 'Delivery_Status', with missing values filled as zero.\n",
    "status_counts = df.groupby(['PLANT_CLUSTER', 'Delivery_Status']).size().unstack(fill_value=0)\n",
    "\n",
    "# The columns are renamed to 'Not Late' and 'Late' for better clarity.\n",
    "status_counts.columns = ['Not Late', 'Late']\n",
    "\n",
    "# The index is reset, turning 'PLANT_CLUSTER' into a regular column.\n",
    "status_counts.reset_index(inplace=True)\n",
    "\n",
    "# A new column 'Total' is added, summing up the counts of 'Late' and 'Not Late' deliveries.\n",
    "status_counts['Total'] = status_counts['Late'] + status_counts['Not Late']\n",
    "\n",
    "# The percentage of late deliveries for each plant cluster is calculated and stored in a new column 'Late_Percentage'.\n",
    "status_counts['Late_Percentage'] = (status_counts['Late'] / status_counts['Total']) * 100\n",
    "\n",
    "# The DataFrame 'status_counts', showing the counts and percentages of delivery statuses by plant cluster, is printed.\n",
    "print(status_counts)"
   ]
  },
  {
   "cell_type": "code",
   "execution_count": null,
   "id": "b85f190f",
   "metadata": {},
   "outputs": [],
   "source": [
    "# The percentage of late deliveries is recalculated using a different formula.\n",
    "status_counts['Late_Percentage'] = (status_counts['Late'] / (status_counts['Late'] + status_counts['Not Late'])) * 100\n",
    "\n",
    "# The percentage of on-time deliveries is calculated and stored in a new column 'Not_Late_Percentage'.\n",
    "status_counts['Not_Late_Percentage'] = 100 - status_counts['Late_Percentage']\n",
    "\n",
    "# A figure and axis are created for plotting the data.\n",
    "fig, ax1 = plt.subplots(figsize=(12, 7))\n",
    "\n",
    "# Late deliveries (in red) are plotted on top of on-time deliveries (in grey) as a stacked bar chart.\n",
    "ax1.bar(status_counts['PLANT_CLUSTER'], status_counts['Not Late'], label='On-Time Deliveries', color='#7F7F7F')\n",
    "ax1.bar(status_counts['PLANT_CLUSTER'], status_counts['Late'], bottom=status_counts['Not Late'], label='Late Deliveries', color='#9B1D20')\n",
    "\n",
    "# Labels and title are set for the plot.\n",
    "ax1.set_xlabel('Plant ID', fontsize=24, fontweight='bold')\n",
    "ax1.set_ylabel('Transaction Counts', fontsize=24, fontweight='bold')\n",
    "ax1.set_title('Plants Counts & Percentage of Delivery Status', fontsize=24, fontweight='bold')\n",
    "ax1.legend(loc='upper right')\n",
    "\n",
    "# Percentage values are plotted inside the bars for each plant cluster.\n",
    "for i in range(len(status_counts['PLANT_CLUSTER'])):\n",
    "    # Displaying the percentage of on-time deliveries within the grey bar.\n",
    "    ax1.text(status_counts['PLANT_CLUSTER'][i], status_counts['Not Late'][i] / 2, f\"{status_counts['Not_Late_Percentage'][i]:.2f}%\", \n",
    "             ha='center', va='center', color='white', fontsize=14, fontweight='bold')\n",
    "    # Displaying the percentage of late deliveries within the red bar.\n",
    "    ax1.text(status_counts['PLANT_CLUSTER'][i], status_counts['Not Late'][i] + status_counts['Late'][i] / 2, f\"{status_counts['Late_Percentage'][i]:.2f}%\", \n",
    "             ha='center', va='center', color='white', fontsize=14, fontweight='bold')\n",
    "\n",
    "# The x-tick labels are set to display the names of the plant clusters.\n",
    "ax1.set_xticks(status_counts['PLANT_CLUSTER'])\n",
    "ax1.set_xticklabels(status_counts['PLANT_CLUSTER'], fontsize=14, fontweight='bold')\n",
    "ax1.tick_params(axis='x', length=0)\n",
    "\n",
    "# A formatter is set for the y-axis to display the count values in a readable format.\n",
    "ax1.yaxis.set_major_formatter(ticker.StrMethodFormatter('{x:,.0f}'))\n",
    "# Y-axis labels for counts are shown with adjusted font size.\n",
    "ax1.yaxis.set_tick_params(labelsize=12)\n",
    "\n",
    "# The top and right spines of the plot are removed for a cleaner look.\n",
    "ax1.spines['top'].set_visible(False)\n",
    "ax1.spines['right'].set_visible(False)\n",
    "\n",
    "# The plot is displayed with a tight layout to ensure no clipping of labels.\n",
    "plt.tight_layout()\n",
    "plt.show()"
   ]
  },
  {
   "cell_type": "code",
   "execution_count": null,
   "id": "bded868c",
   "metadata": {},
   "outputs": [],
   "source": [
    "# The number of unique 'PLANT_ID' values within each 'PLANT_CLUSTER' is calculated and stored.\n",
    "unique_Plant_counts = df.groupby('PLANT_CLUSTER')['PLANT_ID'].nunique()\n",
    "unique_Plant_counts"
   ]
  },
  {
   "cell_type": "code",
   "execution_count": null,
   "id": "6649d66f",
   "metadata": {},
   "outputs": [],
   "source": [
    "# A subset of the DataFrame 'df' is created, containing only rows where 'PLANT_CLUSTER' equals 'Plant_Cluster_3'.\n",
    "Cluster_3_Plant = df[df['PLANT_CLUSTER'] == 'Plant_Cluster_3']\n",
    "\n",
    "# The unique values of 'PLANT_ID' in this subset are extracted.\n",
    "unique_Cluster_3_Plant = Cluster_3_Plant['PLANT_ID'].unique()\n",
    "\n",
    "# The unique 'PLANT_ID' values are printed to display them.\n",
    "print(unique_Cluster_3_Plant)"
   ]
  },
  {
   "cell_type": "code",
   "execution_count": null,
   "id": "ad624ccf",
   "metadata": {},
   "outputs": [],
   "source": [
    "# A count of delivery statuses is grouped by 'PLANT_ID' and 'Delivery_Status' for Cluster 3, with missing values filled as zero.\n",
    "Plant_status_counts = Cluster_3_Plant.groupby(['PLANT_ID', 'Delivery_Status']).size().unstack(fill_value=0)\n",
    "\n",
    "# The columns are renamed to 'Not Late' and 'Late' for clearer understanding.\n",
    "Plant_status_counts.rename(columns={0: 'Not Late', 1: 'Late'}, inplace=True)\n",
    "\n",
    "# The total transactions for each plant ID are calculated by summing 'Late' and 'Not Late'.\n",
    "Plant_status_counts['Total Transactions'] = Plant_status_counts['Late'] + Plant_status_counts['Not Late']\n",
    "\n",
    "# The percentage of late transactions for each plant ID is calculated.\n",
    "Plant_status_counts['Percentage Late'] = (Plant_status_counts['Late'] / Plant_status_counts['Total Transactions']) * 100\n",
    "\n",
    "# The plant IDs are sorted by 'Total Transactions' to identify those with the highest transactions.\n",
    "Plant_ids = Plant_status_counts.sort_values('Total Transactions', ascending=False)\n",
    "\n",
    "# The sorted plant IDs along with their transaction counts and percentages are printed.\n",
    "print(Plant_ids)"
   ]
  },
  {
   "cell_type": "code",
   "execution_count": null,
   "id": "f22bce48",
   "metadata": {},
   "outputs": [],
   "source": []
  },
  {
   "cell_type": "code",
   "execution_count": null,
   "id": "22674254",
   "metadata": {},
   "outputs": [],
   "source": [
    "# A new column 'Plant_Cat' is created in the DataFrame 'df', containing the first character of each 'PLANT_ID'.\n",
    "df['Plant_Cat'] = df['PLANT_ID'].str[:1]\n",
    "\n",
    "# The contents of the newly created 'Plant_Cat' column are displayed.\n",
    "df['Plant_Cat']"
   ]
  },
  {
   "cell_type": "code",
   "execution_count": null,
   "id": "0531e5b6",
   "metadata": {},
   "outputs": [],
   "source": [
    "# Mapping numerical values to category names\n",
    "category_mapping = {'1': 'Plant_1', '3': 'Plant_3', '4': 'Plant_4'}\n",
    "df['Plant_Cat'] = df['Plant_Cat'].map(category_mapping)"
   ]
  },
  {
   "cell_type": "code",
   "execution_count": null,
   "id": "b1e67853",
   "metadata": {},
   "outputs": [],
   "source": [
    "element_count = df['Plant_Cat'].value_counts()\n",
    "element_count"
   ]
  },
  {
   "cell_type": "code",
   "execution_count": null,
   "id": "66f4b0f7",
   "metadata": {},
   "outputs": [],
   "source": [
    "# A count of delivery statuses is grouped by 'Plant_Cat' and 'Delivery_Status', with missing values filled as zero.\n",
    "status_counts = df.groupby(['Plant_Cat', 'Delivery_Status']).size().unstack(fill_value=0)\n",
    "\n",
    "# The columns are renamed to 'Not Late' and 'Late' for better clarity.\n",
    "status_counts.columns = ['Not Late', 'Late']\n",
    "\n",
    "# The index is reset, turning 'Plant_Cat' into a regular column.\n",
    "status_counts.reset_index(inplace=True)\n",
    "\n",
    "# A new column 'Total' is added, summing up the counts of 'Late' and 'Not Late' deliveries.\n",
    "status_counts['Total'] = status_counts['Late'] + status_counts['Not Late']\n",
    "\n",
    "# The percentage of late deliveries for each plant category is calculated and stored in a new column 'Late_Percentage'.\n",
    "status_counts['Late_Percentage'] = (status_counts['Late'] / status_counts['Total']) * 100\n",
    "\n",
    "# The DataFrame 'status_counts', showing the counts and percentages of delivery statuses by plant category, is printed.\n",
    "print(status_counts)"
   ]
  },
  {
   "cell_type": "code",
   "execution_count": null,
   "id": "ecab2550",
   "metadata": {},
   "outputs": [],
   "source": [
    "# The percentage of late deliveries is recalculated using a different formula.\n",
    "status_counts['Late_Percentage'] = (status_counts['Late'] / (status_counts['Late'] + status_counts['Not Late'])) * 100\n",
    "\n",
    "# The percentage of on-time deliveries is calculated and stored in a new column 'Not_Late_Percentage'.\n",
    "status_counts['Not_Late_Percentage'] = 100 - status_counts['Late_Percentage']\n",
    "\n",
    "# A figure and axis are created for plotting the data.\n",
    "fig, ax1 = plt.subplots(figsize=(12, 7))\n",
    "\n",
    "# Late deliveries (in red) are plotted on top of on-time deliveries (in grey) as a stacked bar chart.\n",
    "ax1.bar(status_counts['Plant_Cat'], status_counts['Not Late'], label='On-Time Deliveries', color='#7F7F7F')\n",
    "ax1.bar(status_counts['Plant_Cat'], status_counts['Late'], bottom=status_counts['Not Late'], label='Late Deliveries', color='#9B1D20')\n",
    "\n",
    "# Labels and title are set for the plot.\n",
    "ax1.set_xlabel('Plant ID', fontsize=24, fontweight='bold')\n",
    "ax1.set_ylabel('Transaction Counts', fontsize=24, fontweight='bold')\n",
    "ax1.set_title('Plants Counts & Percentage of Delivery Status', fontsize=24, fontweight='bold')\n",
    "ax1.legend(loc='upper left')\n",
    "\n",
    "# Percentage values are plotted inside the bars for each plant category.\n",
    "for i in range(len(status_counts['Plant_Cat'])):\n",
    "    # Displaying the percentage of on-time deliveries within the grey bar.\n",
    "    ax1.text(status_counts['Plant_Cat'][i], status_counts['Not Late'][i] / 2, f\"{status_counts['Not_Late_Percentage'][i]:.2f}%\", \n",
    "             ha='center', va='center', color='white', fontsize=14, fontweight='bold')\n",
    "    # Displaying the percentage of late deliveries within the red bar.\n",
    "    ax1.text(status_counts['Plant_Cat'][i], status_counts['Not Late'][i] + status_counts['Late'][i] / 2, f\"{status_counts['Late_Percentage'][i]:.2f}%\", \n",
    "             ha='center', va='center', color='white', fontsize=14, fontweight='bold')\n",
    "\n",
    "# The x-tick labels are set to display the names of the plant categories.\n",
    "ax1.set_xticks(status_counts['Plant_Cat'])\n",
    "ax1.set_xticklabels(status_counts['Plant_Cat'], fontsize=14, fontweight='bold')\n",
    "ax1.tick_params(axis='x', length=0)\n",
    "\n",
    "# A formatter is set for the y-axis to display the count values in a readable format.\n",
    "ax1.yaxis.set_major_formatter(ticker.StrMethodFormatter('{x:,.0f}'))\n",
    "# Y-axis labels for counts are shown with adjusted font size.\n",
    "ax1.yaxis.set_tick_params(labelsize=12)\n",
    "\n",
    "# The top and right spines of the plot are removed for a cleaner look.\n",
    "ax1.spines['top'].set_visible(False)\n",
    "ax1.spines['right'].set_visible(False)\n",
    "\n",
    "# The plot is displayed with a tight layout to ensure no clipping of labels.\n",
    "plt.tight_layout()\n",
    "plt.show()"
   ]
  },
  {
   "cell_type": "code",
   "execution_count": null,
   "id": "aa4b7b71",
   "metadata": {},
   "outputs": [],
   "source": [
    "unique_Plant_counts = df.groupby('Plant_Cat')['PLANT_ID'].nunique()\n",
    "unique_Plant_counts"
   ]
  },
  {
   "cell_type": "code",
   "execution_count": null,
   "id": "4bbbc6a4",
   "metadata": {},
   "outputs": [],
   "source": [
    "cat_1_Plant = df[df['Plant_Cat'] == 'Plant_1']\n",
    "\n",
    "# Get unique COMPANY_CODE_IDs\n",
    "unique_cat_1_Plant = cat_1_Plant['PLANT_ID'].unique()\n",
    "\n",
    "# Print the unique COMPANY_CODE_IDs\n",
    "print(unique_cat_1_Plant)"
   ]
  },
  {
   "cell_type": "code",
   "execution_count": null,
   "id": "34e0c45d",
   "metadata": {},
   "outputs": [],
   "source": [
    "# A count of delivery statuses is grouped by 'PLANT_ID' and 'Delivery_Status' for cat_1_Plant, with missing values filled as zero.\n",
    "Plant_status_counts = cat_1_Plant.groupby(['PLANT_ID', 'Delivery_Status']).size().unstack(fill_value=0)\n",
    "\n",
    "# The columns are renamed to 'Not Late' and 'Late' for clearer understanding.\n",
    "Plant_status_counts.rename(columns={0: 'Not Late', 1: 'Late'}, inplace=True)\n",
    "\n",
    "# The total transactions for each plant ID are calculated by summing 'Late' and 'Not Late'.\n",
    "Plant_status_counts['Total Transactions'] = Plant_status_counts['Late'] + Plant_status_counts['Not Late']\n",
    "\n",
    "# The percentage of late transactions for each plant ID is calculated.\n",
    "Plant_status_counts['Percentage Late'] = (Plant_status_counts['Late'] / Plant_status_counts['Total Transactions']) * 100\n",
    "\n",
    "# The plant IDs are sorted by 'Total Transactions' to identify those with the highest transactions.\n",
    "Plant_ids = Plant_status_counts.sort_values('Total Transactions', ascending=False)\n",
    "\n",
    "# The sorted plant IDs along with their transaction counts and percentages are printed.\n",
    "print(Plant_ids)"
   ]
  },
  {
   "cell_type": "markdown",
   "id": "019540fd",
   "metadata": {},
   "source": [
    "### BI_LAST_UPDATED_PURCHASE_DOCUMENT_ITEM"
   ]
  },
  {
   "cell_type": "code",
   "execution_count": null,
   "id": "be51ba93",
   "metadata": {},
   "outputs": [],
   "source": [
    "# The year part of the 'BI_LAST_UPDATED_PURCHASE_DOCUMENT_ITEM' datetime is extracted and stored in a new column 'BI_YEAR'.\n",
    "df['BI_YEAR'] = df['BI_LAST_UPDATED_PURCHASE_DOCUMENT_ITEM'].dt.year\n",
    "\n",
    "# The month part of the 'BI_LAST_UPDATED_PURCHASE_DOCUMENT_ITEM' datetime is extracted and stored in a new column 'BI_MONTH'.\n",
    "df['BI_MONTH'] = df['BI_LAST_UPDATED_PURCHASE_DOCUMENT_ITEM'].dt.month\n",
    "\n",
    "# The day part of the 'BI_LAST_UPDATED_PURCHASE_DOCUMENT_ITEM' datetime is extracted and stored in a new column 'BI_DAY'.\n",
    "df['BI_DAY'] = df['BI_LAST_UPDATED_PURCHASE_DOCUMENT_ITEM'].dt.day"
   ]
  },
  {
   "cell_type": "code",
   "execution_count": null,
   "id": "0084ebc0",
   "metadata": {},
   "outputs": [],
   "source": [
    "# A figure is created with specified dimensions for the heatmap.\n",
    "plt.figure(figsize = (15,7))\n",
    "\n",
    "# A pivot table is created from the DataFrame 'df', summarizing 'Delivery_Status' by 'BI_MONTH' and 'BI_DAY'.\n",
    "month_day_matrix = df.pivot_table(index='BI_MONTH', columns='BI_DAY', values='Delivery_Status', aggfunc='sum')\n",
    "\n",
    "# A heatmap is generated using the pivot table data, with the 'viridis' color map.\n",
    "sn.heatmap(month_day_matrix, cmap='viridis')\n",
    "\n",
    "# A title is set for the heatmap, specifying its purpose and appearance.\n",
    "plt.title('Heatmap of Late Deliveries by Month and Day', fontsize = 24)\n",
    "\n",
    "# Labels for the x-axis ('Day') and y-axis ('Month') are set with specified font sizes.\n",
    "plt.xlabel('Day', fontsize = 16)\n",
    "plt.ylabel('Month', fontsize = 16)\n",
    "plt.show()"
   ]
  },
  {
   "cell_type": "code",
   "execution_count": null,
   "id": "f2a51877",
   "metadata": {},
   "outputs": [],
   "source": [
    "# Group the data by 'company_group' and calculate the counts of 'Delivery_Status'\n",
    "status_counts = df.groupby(['BI_YEAR', 'Delivery_Status']).size().unstack(fill_value=0)"
   ]
  },
  {
   "cell_type": "code",
   "execution_count": null,
   "id": "49664d73",
   "metadata": {},
   "outputs": [],
   "source": [
    "# Rename the columns for clarity\n",
    "status_counts.columns = ['Not Late', 'Late']\n",
    "\n",
    "# Reset the index to make 'company_group' a regular column\n",
    "status_counts.reset_index(inplace=True)\n",
    "\n",
    "# Add a new 'Total' column with the sum of 'Late' and 'Not Late' columns\n",
    "status_counts['Total'] = status_counts['Late'] + status_counts['Not Late']\n",
    "\n",
    "# Calculate the percentage of late deliveries\n",
    "status_counts['Late_Percentage'] = (status_counts['Late'] / status_counts['Total']) * 100\n",
    "\n",
    "\n",
    "print(status_counts)"
   ]
  },
  {
   "cell_type": "code",
   "execution_count": null,
   "id": "54cba7e5",
   "metadata": {},
   "outputs": [],
   "source": [
    "status_counts['Late_Percentage'] = (status_counts['Late'] / (status_counts['Late'] + status_counts['Not Late'])) * 100\n",
    "status_counts['Not_Late_Percentage'] = 100 - status_counts['Late_Percentage']\n",
    "\n",
    "fig, ax1 = plt.subplots(figsize=(12, 7))\n",
    "\n",
    "# Plotting late deliveries (red) on top of on-time deliveries (green)\n",
    "ax1.bar(status_counts['BI_YEAR'], status_counts['Not Late'], label='On-Time Deliveries', color='#7F7F7F')\n",
    "ax1.bar(status_counts['BI_YEAR'], status_counts['Late'], bottom=status_counts['Not Late'], label='Late Deliveries', color='#9B1D20')\n",
    "\n",
    "# Setting labels and title\n",
    "ax1.set_xlabel('Year', fontsize=24, fontweight='bold')\n",
    "ax1.set_ylabel('Delivery Counts(in thousands)', fontsize=24, fontweight='bold')\n",
    "ax1.set_title('Yearly Counts & Percentage of Delivery Status', fontsize=24, fontweight='bold')\n",
    "ax1.legend(loc='upper left')\n",
    "\n",
    "# Plotting the percentage values inside the bars\n",
    "for i in range(len(status_counts['BI_YEAR'])):\n",
    "    # Display not late percentage\n",
    "    ax1.text(status_counts['BI_YEAR'][i], status_counts['Not Late'][i] / 2, f\"{status_counts['Not_Late_Percentage'][i]:.2f}%\", \n",
    "             ha='center', va='center', color='white', fontsize=14, fontweight='bold')\n",
    "    # Display late percentage\n",
    "    ax1.text(status_counts['BI_YEAR'][i], status_counts['Not Late'][i] + status_counts['Late'][i] / 2, f\"{status_counts['Late_Percentage'][i]:.2f}%\", \n",
    "             ha='center', va='center', color='white', fontsize=14, fontweight='bold')\n",
    "\n",
    "# Set x-tick labels\n",
    "ax1.set_xticks(status_counts['BI_YEAR'])\n",
    "ax1.set_xticklabels(status_counts['BI_YEAR'], fontsize=14, fontweight='bold')\n",
    "ax1.tick_params(axis='x', length=0)\n",
    "\n",
    "# Show y-axis labels for counts\n",
    "ax1.yaxis.set_tick_params(labelsize=12)\n",
    "\n",
    "# Removing the spines\n",
    "ax1.spines['top'].set_visible(False)\n",
    "ax1.spines['right'].set_visible(False)\n",
    "\n",
    "# Displaying the plot\n",
    "plt.tight_layout()\n",
    "plt.show()"
   ]
  },
  {
   "cell_type": "code",
   "execution_count": null,
   "id": "e543ae1d",
   "metadata": {},
   "outputs": [],
   "source": [
    "df.to_csv('invista3.csv', index = False)"
   ]
  },
  {
   "cell_type": "code",
   "execution_count": null,
   "id": "c6f94608",
   "metadata": {},
   "outputs": [],
   "source": []
  }
 ],
 "metadata": {
  "kernelspec": {
   "display_name": "Python 3 (ipykernel)",
   "language": "python",
   "name": "python3"
  },
  "language_info": {
   "codemirror_mode": {
    "name": "ipython",
    "version": 3
   },
   "file_extension": ".py",
   "mimetype": "text/x-python",
   "name": "python",
   "nbconvert_exporter": "python",
   "pygments_lexer": "ipython3",
   "version": "3.9.7"
  }
 },
 "nbformat": 4,
 "nbformat_minor": 5
}
