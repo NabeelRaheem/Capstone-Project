{
 "cells": [
  {
   "cell_type": "code",
   "execution_count": null,
   "id": "4b108646",
   "metadata": {},
   "outputs": [],
   "source": []
  },
  {
   "cell_type": "markdown",
   "id": "1bee4dc2",
   "metadata": {},
   "source": [
    "# Importing Library"
   ]
  },
  {
   "cell_type": "code",
   "execution_count": 30,
   "id": "0a2c0b04",
   "metadata": {},
   "outputs": [],
   "source": [
    "import numpy as np\n",
    "import pandas as pd\n",
    "import matplotlib.pyplot as plt\n",
    "import seaborn as sn\n",
    "from datetime import date\n",
    "from scipy.stats import chi2_contingency\n",
    "from sklearn.preprocessing import OneHotEncoder\n",
    "from sklearn.preprocessing import OrdinalEncoder\n",
    "from imblearn.over_sampling import SMOTE\n",
    "from sklearn.model_selection import train_test_split\n",
    "from sklearn.linear_model import LogisticRegression\n",
    "from sklearn.metrics import accuracy_score\n",
    "from sklearn.metrics import confusion_matrix\n",
    "from sklearn.metrics import precision_score, recall_score, f1_score, roc_auc_score"
   ]
  },
  {
   "cell_type": "code",
   "execution_count": null,
   "id": "c22fe54b",
   "metadata": {},
   "outputs": [],
   "source": []
  },
  {
   "cell_type": "markdown",
   "id": "1723902e",
   "metadata": {},
   "source": [
    "# Reading Dataset"
   ]
  },
  {
   "cell_type": "code",
   "execution_count": 31,
   "id": "2ba5d4d3",
   "metadata": {},
   "outputs": [],
   "source": [
    "df = pd.read_csv(r\"E:\\MSBAN\\4. FALL 2023\\Capstone\\Dataset\\Procurement_ On_Time_Delivery_INV_WSU.csv\")"
   ]
  },
  {
   "cell_type": "code",
   "execution_count": 32,
   "id": "35ded814",
   "metadata": {},
   "outputs": [
    {
     "data": {
      "text/html": [
       "<div>\n",
       "<style scoped>\n",
       "    .dataframe tbody tr th:only-of-type {\n",
       "        vertical-align: middle;\n",
       "    }\n",
       "\n",
       "    .dataframe tbody tr th {\n",
       "        vertical-align: top;\n",
       "    }\n",
       "\n",
       "    .dataframe thead th {\n",
       "        text-align: right;\n",
       "    }\n",
       "</style>\n",
       "<table border=\"1\" class=\"dataframe\">\n",
       "  <thead>\n",
       "    <tr style=\"text-align: right;\">\n",
       "      <th></th>\n",
       "      <th>PURCHASE_DOCUMENT_ID</th>\n",
       "      <th>CREATE_DATE</th>\n",
       "      <th>COMPANY_CODE_ID</th>\n",
       "      <th>VENDOR_ID</th>\n",
       "      <th>POSTAL_CD</th>\n",
       "      <th>RELEASE_DATE</th>\n",
       "      <th>PURCHASE_DOCUMENT_ITEM_ID</th>\n",
       "      <th>MATERIAL_ID</th>\n",
       "      <th>SUB_COMMODITY_DESC</th>\n",
       "      <th>MRP_TYPE_ID</th>\n",
       "      <th>...</th>\n",
       "      <th>SHORT_TEXT</th>\n",
       "      <th>PLANT_ID</th>\n",
       "      <th>POR_DELIVERY_DATE</th>\n",
       "      <th>FIRST_GR_POSTING_DATE</th>\n",
       "      <th>DELIVERY_DATE</th>\n",
       "      <th>REQUESTED_DELIVERY_DATE</th>\n",
       "      <th>INBOUND_DELIVERY_ID</th>\n",
       "      <th>INBOUND_DELIVERY_ITEM_ID</th>\n",
       "      <th>PLANNED_DELIVERY_DAYS</th>\n",
       "      <th>BI_LAST_UPDATED_PURCHASE_DOCUMENT_ITEM</th>\n",
       "    </tr>\n",
       "  </thead>\n",
       "  <tbody>\n",
       "    <tr>\n",
       "      <th>0</th>\n",
       "      <td>5500903136</td>\n",
       "      <td>20180907</td>\n",
       "      <td>CN15</td>\n",
       "      <td>V4014</td>\n",
       "      <td>29078</td>\n",
       "      <td>NaN</td>\n",
       "      <td>10.0</td>\n",
       "      <td>2.100008e+09</td>\n",
       "      <td>Custom Manufacturing</td>\n",
       "      <td>1.0</td>\n",
       "      <td>...</td>\n",
       "      <td>994 45 1327A TU E 3.50-8.00 27DB 4036</td>\n",
       "      <td>1016.0</td>\n",
       "      <td>20181128.0</td>\n",
       "      <td>20181122.0</td>\n",
       "      <td>20181116.0</td>\n",
       "      <td>20181116.0</td>\n",
       "      <td>183615169.0</td>\n",
       "      <td>900001.0</td>\n",
       "      <td>52.0</td>\n",
       "      <td>2023-05-30T23:07:43.64Z</td>\n",
       "    </tr>\n",
       "    <tr>\n",
       "      <th>1</th>\n",
       "      <td>5500903075</td>\n",
       "      <td>20180907</td>\n",
       "      <td>CN20</td>\n",
       "      <td>8010095928</td>\n",
       "      <td>201206</td>\n",
       "      <td>NaN</td>\n",
       "      <td>20.0</td>\n",
       "      <td>NaN</td>\n",
       "      <td>Tanks and Process Equipment</td>\n",
       "      <td>NaN</td>\n",
       "      <td>...</td>\n",
       "      <td>卧式10 gal 碳钢气罐+不锈钢接头+一个安全阀</td>\n",
       "      <td>1032.0</td>\n",
       "      <td>NaN</td>\n",
       "      <td>0.0</td>\n",
       "      <td>20180928.0</td>\n",
       "      <td>20180928.0</td>\n",
       "      <td>NaN</td>\n",
       "      <td>0.0</td>\n",
       "      <td>0.0</td>\n",
       "      <td>2023-05-30T23:07:43.64Z</td>\n",
       "    </tr>\n",
       "    <tr>\n",
       "      <th>2</th>\n",
       "      <td>5500903659</td>\n",
       "      <td>20180907</td>\n",
       "      <td>CA10</td>\n",
       "      <td>8010003146</td>\n",
       "      <td>L6L 6R2</td>\n",
       "      <td>NaN</td>\n",
       "      <td>10.0</td>\n",
       "      <td>1.100126e+09</td>\n",
       "      <td>Piping &amp; Tubing</td>\n",
       "      <td>1.0</td>\n",
       "      <td>...</td>\n",
       "      <td>DISC RUPTURE BS-B-JRS 3\" 41PSIG/518F</td>\n",
       "      <td>4036.0</td>\n",
       "      <td>NaN</td>\n",
       "      <td>20181205.0</td>\n",
       "      <td>20181112.0</td>\n",
       "      <td>20181001.0</td>\n",
       "      <td>NaN</td>\n",
       "      <td>0.0</td>\n",
       "      <td>24.0</td>\n",
       "      <td>2023-05-30T23:07:43.64Z</td>\n",
       "    </tr>\n",
       "    <tr>\n",
       "      <th>3</th>\n",
       "      <td>5500903322</td>\n",
       "      <td>20180907</td>\n",
       "      <td>CA10</td>\n",
       "      <td>8010005836</td>\n",
       "      <td>N2C 0B7</td>\n",
       "      <td>NaN</td>\n",
       "      <td>180.0</td>\n",
       "      <td>NaN</td>\n",
       "      <td>Material Handling</td>\n",
       "      <td>NaN</td>\n",
       "      <td>...</td>\n",
       "      <td>M6-1.0 x 16mm ISO 4762 Hex Drive Class 1</td>\n",
       "      <td>4036.0</td>\n",
       "      <td>20180907.0</td>\n",
       "      <td>20180918.0</td>\n",
       "      <td>20180908.0</td>\n",
       "      <td>20180908.0</td>\n",
       "      <td>NaN</td>\n",
       "      <td>0.0</td>\n",
       "      <td>0.0</td>\n",
       "      <td>2023-05-30T23:07:43.64Z</td>\n",
       "    </tr>\n",
       "    <tr>\n",
       "      <th>4</th>\n",
       "      <td>5500903320</td>\n",
       "      <td>20180907</td>\n",
       "      <td>CA10</td>\n",
       "      <td>8010005836</td>\n",
       "      <td>N2C 0B7</td>\n",
       "      <td>NaN</td>\n",
       "      <td>60.0</td>\n",
       "      <td>NaN</td>\n",
       "      <td>Material Handling</td>\n",
       "      <td>NaN</td>\n",
       "      <td>...</td>\n",
       "      <td>3/4\" x 2.000\" OD Low Carbon Zinc Finish</td>\n",
       "      <td>4036.0</td>\n",
       "      <td>20180907.0</td>\n",
       "      <td>20180918.0</td>\n",
       "      <td>20180908.0</td>\n",
       "      <td>20180908.0</td>\n",
       "      <td>NaN</td>\n",
       "      <td>0.0</td>\n",
       "      <td>0.0</td>\n",
       "      <td>2023-05-30T23:07:43.64Z</td>\n",
       "    </tr>\n",
       "  </tbody>\n",
       "</table>\n",
       "<p>5 rows × 21 columns</p>\n",
       "</div>"
      ],
      "text/plain": [
       "   PURCHASE_DOCUMENT_ID  CREATE_DATE COMPANY_CODE_ID   VENDOR_ID POSTAL_CD  \\\n",
       "0            5500903136     20180907            CN15       V4014     29078   \n",
       "1            5500903075     20180907            CN20  8010095928    201206   \n",
       "2            5500903659     20180907            CA10  8010003146   L6L 6R2   \n",
       "3            5500903322     20180907            CA10  8010005836   N2C 0B7   \n",
       "4            5500903320     20180907            CA10  8010005836   N2C 0B7   \n",
       "\n",
       "   RELEASE_DATE  PURCHASE_DOCUMENT_ITEM_ID   MATERIAL_ID  \\\n",
       "0           NaN                       10.0  2.100008e+09   \n",
       "1           NaN                       20.0           NaN   \n",
       "2           NaN                       10.0  1.100126e+09   \n",
       "3           NaN                      180.0           NaN   \n",
       "4           NaN                       60.0           NaN   \n",
       "\n",
       "            SUB_COMMODITY_DESC  MRP_TYPE_ID  ...  \\\n",
       "0         Custom Manufacturing          1.0  ...   \n",
       "1  Tanks and Process Equipment          NaN  ...   \n",
       "2              Piping & Tubing          1.0  ...   \n",
       "3            Material Handling          NaN  ...   \n",
       "4            Material Handling          NaN  ...   \n",
       "\n",
       "                                 SHORT_TEXT PLANT_ID  POR_DELIVERY_DATE  \\\n",
       "0     994 45 1327A TU E 3.50-8.00 27DB 4036   1016.0         20181128.0   \n",
       "1                 卧式10 gal 碳钢气罐+不锈钢接头+一个安全阀   1032.0                NaN   \n",
       "2      DISC RUPTURE BS-B-JRS 3\" 41PSIG/518F   4036.0                NaN   \n",
       "3  M6-1.0 x 16mm ISO 4762 Hex Drive Class 1   4036.0         20180907.0   \n",
       "4   3/4\" x 2.000\" OD Low Carbon Zinc Finish   4036.0         20180907.0   \n",
       "\n",
       "   FIRST_GR_POSTING_DATE  DELIVERY_DATE  REQUESTED_DELIVERY_DATE  \\\n",
       "0             20181122.0     20181116.0               20181116.0   \n",
       "1                    0.0     20180928.0               20180928.0   \n",
       "2             20181205.0     20181112.0               20181001.0   \n",
       "3             20180918.0     20180908.0               20180908.0   \n",
       "4             20180918.0     20180908.0               20180908.0   \n",
       "\n",
       "   INBOUND_DELIVERY_ID  INBOUND_DELIVERY_ITEM_ID  PLANNED_DELIVERY_DAYS  \\\n",
       "0          183615169.0                  900001.0                   52.0   \n",
       "1                  NaN                       0.0                    0.0   \n",
       "2                  NaN                       0.0                   24.0   \n",
       "3                  NaN                       0.0                    0.0   \n",
       "4                  NaN                       0.0                    0.0   \n",
       "\n",
       "   BI_LAST_UPDATED_PURCHASE_DOCUMENT_ITEM  \n",
       "0                 2023-05-30T23:07:43.64Z  \n",
       "1                 2023-05-30T23:07:43.64Z  \n",
       "2                 2023-05-30T23:07:43.64Z  \n",
       "3                 2023-05-30T23:07:43.64Z  \n",
       "4                 2023-05-30T23:07:43.64Z  \n",
       "\n",
       "[5 rows x 21 columns]"
      ]
     },
     "execution_count": 32,
     "metadata": {},
     "output_type": "execute_result"
    }
   ],
   "source": [
    "df.head(5)"
   ]
  },
  {
   "cell_type": "markdown",
   "id": "44d0a811",
   "metadata": {},
   "source": [
    "# Dataset Shape"
   ]
  },
  {
   "cell_type": "code",
   "execution_count": 33,
   "id": "141d2e90",
   "metadata": {},
   "outputs": [
    {
     "name": "stdout",
     "output_type": "stream",
     "text": [
      "The dataset has 1139407 rows and 21 columns\n"
     ]
    }
   ],
   "source": [
    "print(f'The dataset has {df.shape[0]} rows and {df.shape[1]} columns')"
   ]
  },
  {
   "cell_type": "code",
   "execution_count": 34,
   "id": "5fb4e48a",
   "metadata": {},
   "outputs": [
    {
     "name": "stdout",
     "output_type": "stream",
     "text": [
      "<class 'pandas.core.frame.DataFrame'>\n",
      "RangeIndex: 1139407 entries, 0 to 1139406\n",
      "Data columns (total 21 columns):\n",
      " #   Column                                  Non-Null Count    Dtype  \n",
      "---  ------                                  --------------    -----  \n",
      " 0   PURCHASE_DOCUMENT_ID                    1139407 non-null  int64  \n",
      " 1   CREATE_DATE                             1139407 non-null  int64  \n",
      " 2   COMPANY_CODE_ID                         1139392 non-null  object \n",
      " 3   VENDOR_ID                               940595 non-null   object \n",
      " 4   POSTAL_CD                               939036 non-null   object \n",
      " 5   RELEASE_DATE                            63554 non-null    float64\n",
      " 6   PURCHASE_DOCUMENT_ITEM_ID               1139392 non-null  float64\n",
      " 7   MATERIAL_ID                             618888 non-null   float64\n",
      " 8   SUB_COMMODITY_DESC                      1138367 non-null  object \n",
      " 9   MRP_TYPE_ID                             574879 non-null   float64\n",
      " 10  MRP_TYPE_DESC_E                         574879 non-null   float64\n",
      " 11  SHORT_TEXT                              1139390 non-null  object \n",
      " 12  PLANT_ID                                1102227 non-null  float64\n",
      " 13  POR_DELIVERY_DATE                       334827 non-null   float64\n",
      " 14  FIRST_GR_POSTING_DATE                   1139392 non-null  float64\n",
      " 15  DELIVERY_DATE                           1093756 non-null  float64\n",
      " 16  REQUESTED_DELIVERY_DATE                 1093756 non-null  float64\n",
      " 17  INBOUND_DELIVERY_ID                     459883 non-null   float64\n",
      " 18  INBOUND_DELIVERY_ITEM_ID                1139392 non-null  float64\n",
      " 19  PLANNED_DELIVERY_DAYS                   1139392 non-null  float64\n",
      " 20  BI_LAST_UPDATED_PURCHASE_DOCUMENT_ITEM  1139392 non-null  object \n",
      "dtypes: float64(13), int64(2), object(6)\n",
      "memory usage: 182.6+ MB\n"
     ]
    }
   ],
   "source": [
    "df.info()"
   ]
  },
  {
   "cell_type": "markdown",
   "id": "1b5a6ce4",
   "metadata": {},
   "source": [
    "# Managing Duplicates"
   ]
  },
  {
   "cell_type": "code",
   "execution_count": 35,
   "id": "d26f1c37",
   "metadata": {},
   "outputs": [
    {
     "name": "stdout",
     "output_type": "stream",
     "text": [
      "The dataset has total of 77174 duplicated rows\n"
     ]
    }
   ],
   "source": [
    "duplicates = df.duplicated().sum()\n",
    "print(f'The dataset has total of {duplicates} duplicated rows')"
   ]
  },
  {
   "cell_type": "code",
   "execution_count": 36,
   "id": "97bd4b2c",
   "metadata": {},
   "outputs": [
    {
     "data": {
      "text/html": [
       "<div>\n",
       "<style scoped>\n",
       "    .dataframe tbody tr th:only-of-type {\n",
       "        vertical-align: middle;\n",
       "    }\n",
       "\n",
       "    .dataframe tbody tr th {\n",
       "        vertical-align: top;\n",
       "    }\n",
       "\n",
       "    .dataframe thead th {\n",
       "        text-align: right;\n",
       "    }\n",
       "</style>\n",
       "<table border=\"1\" class=\"dataframe\">\n",
       "  <thead>\n",
       "    <tr style=\"text-align: right;\">\n",
       "      <th></th>\n",
       "      <th>PURCHASE_DOCUMENT_ID</th>\n",
       "      <th>CREATE_DATE</th>\n",
       "      <th>COMPANY_CODE_ID</th>\n",
       "      <th>VENDOR_ID</th>\n",
       "      <th>POSTAL_CD</th>\n",
       "      <th>RELEASE_DATE</th>\n",
       "      <th>PURCHASE_DOCUMENT_ITEM_ID</th>\n",
       "      <th>MATERIAL_ID</th>\n",
       "      <th>SUB_COMMODITY_DESC</th>\n",
       "      <th>MRP_TYPE_ID</th>\n",
       "      <th>...</th>\n",
       "      <th>SHORT_TEXT</th>\n",
       "      <th>PLANT_ID</th>\n",
       "      <th>POR_DELIVERY_DATE</th>\n",
       "      <th>FIRST_GR_POSTING_DATE</th>\n",
       "      <th>DELIVERY_DATE</th>\n",
       "      <th>REQUESTED_DELIVERY_DATE</th>\n",
       "      <th>INBOUND_DELIVERY_ID</th>\n",
       "      <th>INBOUND_DELIVERY_ITEM_ID</th>\n",
       "      <th>PLANNED_DELIVERY_DAYS</th>\n",
       "      <th>BI_LAST_UPDATED_PURCHASE_DOCUMENT_ITEM</th>\n",
       "    </tr>\n",
       "  </thead>\n",
       "  <tbody>\n",
       "    <tr>\n",
       "      <th>145</th>\n",
       "      <td>5100093848</td>\n",
       "      <td>20180907</td>\n",
       "      <td>GB10</td>\n",
       "      <td>NaN</td>\n",
       "      <td>NaN</td>\n",
       "      <td>NaN</td>\n",
       "      <td>10.0</td>\n",
       "      <td>2.100018e+09</td>\n",
       "      <td>Resins &amp; Polymers</td>\n",
       "      <td>2.0</td>\n",
       "      <td>...</td>\n",
       "      <td>NYLON 6,6 FLAKE MY02 BT</td>\n",
       "      <td>3024.0</td>\n",
       "      <td>NaN</td>\n",
       "      <td>20180907.0</td>\n",
       "      <td>20180907.0</td>\n",
       "      <td>20180907.0</td>\n",
       "      <td>183544954.0</td>\n",
       "      <td>10.0</td>\n",
       "      <td>0.0</td>\n",
       "      <td>2021-11-08T03:52:05.27Z</td>\n",
       "    </tr>\n",
       "    <tr>\n",
       "      <th>185</th>\n",
       "      <td>5100093850</td>\n",
       "      <td>20180907</td>\n",
       "      <td>GB10</td>\n",
       "      <td>NaN</td>\n",
       "      <td>NaN</td>\n",
       "      <td>NaN</td>\n",
       "      <td>10.0</td>\n",
       "      <td>2.100015e+09</td>\n",
       "      <td>Resins &amp; Polymers</td>\n",
       "      <td>2.0</td>\n",
       "      <td>...</td>\n",
       "      <td>PA66 U5101 NC01 BT</td>\n",
       "      <td>3024.0</td>\n",
       "      <td>NaN</td>\n",
       "      <td>20180907.0</td>\n",
       "      <td>20180907.0</td>\n",
       "      <td>20180907.0</td>\n",
       "      <td>183545166.0</td>\n",
       "      <td>10.0</td>\n",
       "      <td>0.0</td>\n",
       "      <td>2021-11-08T03:52:05.27Z</td>\n",
       "    </tr>\n",
       "    <tr>\n",
       "      <th>231</th>\n",
       "      <td>5100093872</td>\n",
       "      <td>20180907</td>\n",
       "      <td>US10</td>\n",
       "      <td>NaN</td>\n",
       "      <td>NaN</td>\n",
       "      <td>NaN</td>\n",
       "      <td>10.0</td>\n",
       "      <td>2.100009e+09</td>\n",
       "      <td>Custom Manufacturing</td>\n",
       "      <td>1.0</td>\n",
       "      <td>...</td>\n",
       "      <td>1385 64 C635A TU E 4.99-8.62 3X4X 4014</td>\n",
       "      <td>4016.0</td>\n",
       "      <td>20180911.0</td>\n",
       "      <td>20180911.0</td>\n",
       "      <td>20180911.0</td>\n",
       "      <td>20180911.0</td>\n",
       "      <td>183555544.0</td>\n",
       "      <td>900001.0</td>\n",
       "      <td>3.0</td>\n",
       "      <td>2021-11-08T03:52:05.27Z</td>\n",
       "    </tr>\n",
       "    <tr>\n",
       "      <th>232</th>\n",
       "      <td>5100093863</td>\n",
       "      <td>20180907</td>\n",
       "      <td>US10</td>\n",
       "      <td>NaN</td>\n",
       "      <td>NaN</td>\n",
       "      <td>NaN</td>\n",
       "      <td>10.0</td>\n",
       "      <td>2.100013e+09</td>\n",
       "      <td>Additives, Colorants &amp; Catalysts</td>\n",
       "      <td>1.0</td>\n",
       "      <td>...</td>\n",
       "      <td>ADI-PURE® HP AA FFA HPC</td>\n",
       "      <td>4014.0</td>\n",
       "      <td>NaN</td>\n",
       "      <td>20181015.0</td>\n",
       "      <td>20180928.0</td>\n",
       "      <td>20180928.0</td>\n",
       "      <td>183557087.0</td>\n",
       "      <td>10.0</td>\n",
       "      <td>15.0</td>\n",
       "      <td>2023-05-30T23:07:43.64Z</td>\n",
       "    </tr>\n",
       "    <tr>\n",
       "      <th>241</th>\n",
       "      <td>5100093877</td>\n",
       "      <td>20180907</td>\n",
       "      <td>US10</td>\n",
       "      <td>NaN</td>\n",
       "      <td>NaN</td>\n",
       "      <td>NaN</td>\n",
       "      <td>10.0</td>\n",
       "      <td>2.100013e+09</td>\n",
       "      <td>Additives, Colorants &amp; Catalysts</td>\n",
       "      <td>1.0</td>\n",
       "      <td>...</td>\n",
       "      <td>DYTEK® HMD TKR 98%</td>\n",
       "      <td>4014.0</td>\n",
       "      <td>NaN</td>\n",
       "      <td>20181015.0</td>\n",
       "      <td>20180926.0</td>\n",
       "      <td>20180926.0</td>\n",
       "      <td>183556721.0</td>\n",
       "      <td>10.0</td>\n",
       "      <td>14.0</td>\n",
       "      <td>2023-05-30T23:07:43.64Z</td>\n",
       "    </tr>\n",
       "  </tbody>\n",
       "</table>\n",
       "<p>5 rows × 21 columns</p>\n",
       "</div>"
      ],
      "text/plain": [
       "     PURCHASE_DOCUMENT_ID  CREATE_DATE COMPANY_CODE_ID VENDOR_ID POSTAL_CD  \\\n",
       "145            5100093848     20180907            GB10       NaN       NaN   \n",
       "185            5100093850     20180907            GB10       NaN       NaN   \n",
       "231            5100093872     20180907            US10       NaN       NaN   \n",
       "232            5100093863     20180907            US10       NaN       NaN   \n",
       "241            5100093877     20180907            US10       NaN       NaN   \n",
       "\n",
       "     RELEASE_DATE  PURCHASE_DOCUMENT_ITEM_ID   MATERIAL_ID  \\\n",
       "145           NaN                       10.0  2.100018e+09   \n",
       "185           NaN                       10.0  2.100015e+09   \n",
       "231           NaN                       10.0  2.100009e+09   \n",
       "232           NaN                       10.0  2.100013e+09   \n",
       "241           NaN                       10.0  2.100013e+09   \n",
       "\n",
       "                   SUB_COMMODITY_DESC  MRP_TYPE_ID  ...  \\\n",
       "145                 Resins & Polymers          2.0  ...   \n",
       "185                 Resins & Polymers          2.0  ...   \n",
       "231              Custom Manufacturing          1.0  ...   \n",
       "232  Additives, Colorants & Catalysts          1.0  ...   \n",
       "241  Additives, Colorants & Catalysts          1.0  ...   \n",
       "\n",
       "                                 SHORT_TEXT PLANT_ID  POR_DELIVERY_DATE  \\\n",
       "145                 NYLON 6,6 FLAKE MY02 BT   3024.0                NaN   \n",
       "185                      PA66 U5101 NC01 BT   3024.0                NaN   \n",
       "231  1385 64 C635A TU E 4.99-8.62 3X4X 4014   4016.0         20180911.0   \n",
       "232                 ADI-PURE® HP AA FFA HPC   4014.0                NaN   \n",
       "241                      DYTEK® HMD TKR 98%   4014.0                NaN   \n",
       "\n",
       "     FIRST_GR_POSTING_DATE  DELIVERY_DATE  REQUESTED_DELIVERY_DATE  \\\n",
       "145             20180907.0     20180907.0               20180907.0   \n",
       "185             20180907.0     20180907.0               20180907.0   \n",
       "231             20180911.0     20180911.0               20180911.0   \n",
       "232             20181015.0     20180928.0               20180928.0   \n",
       "241             20181015.0     20180926.0               20180926.0   \n",
       "\n",
       "     INBOUND_DELIVERY_ID  INBOUND_DELIVERY_ITEM_ID  PLANNED_DELIVERY_DAYS  \\\n",
       "145          183544954.0                      10.0                    0.0   \n",
       "185          183545166.0                      10.0                    0.0   \n",
       "231          183555544.0                  900001.0                    3.0   \n",
       "232          183557087.0                      10.0                   15.0   \n",
       "241          183556721.0                      10.0                   14.0   \n",
       "\n",
       "     BI_LAST_UPDATED_PURCHASE_DOCUMENT_ITEM  \n",
       "145                 2021-11-08T03:52:05.27Z  \n",
       "185                 2021-11-08T03:52:05.27Z  \n",
       "231                 2021-11-08T03:52:05.27Z  \n",
       "232                 2023-05-30T23:07:43.64Z  \n",
       "241                 2023-05-30T23:07:43.64Z  \n",
       "\n",
       "[5 rows x 21 columns]"
      ]
     },
     "execution_count": 36,
     "metadata": {},
     "output_type": "execute_result"
    }
   ],
   "source": [
    "# the duplicated rows\n",
    "duplicated_rows = df[df.duplicated()]\n",
    "duplicated_rows.head(5)"
   ]
  },
  {
   "cell_type": "code",
   "execution_count": null,
   "id": "7c1c3384",
   "metadata": {},
   "outputs": [],
   "source": []
  },
  {
   "cell_type": "markdown",
   "id": "22368618",
   "metadata": {},
   "source": [
    "Our client want us not to delete all duplicated rows. They want us to keep the duplicates if the duplicates **PURCHASE_DOCUMENT_ID** start with **\"51\"** and **\"76\"**."
   ]
  },
  {
   "cell_type": "code",
   "execution_count": 37,
   "id": "73cda790",
   "metadata": {},
   "outputs": [],
   "source": [
    "# making the PURCHASE_DOCUMENT_ID column as string\n",
    "df['PURCHASE_DOCUMENT_ID'] = df['PURCHASE_DOCUMENT_ID'].astype('str')"
   ]
  },
  {
   "cell_type": "code",
   "execution_count": 38,
   "id": "77ba47b2",
   "metadata": {},
   "outputs": [],
   "source": [
    "# Making a new column for the first two digit of PURCHASE_DOCUMENT_ID\n",
    "df['1st_two_digit'] = df['PURCHASE_DOCUMENT_ID'].str[:2]"
   ]
  },
  {
   "cell_type": "code",
   "execution_count": 39,
   "id": "e68aa813",
   "metadata": {},
   "outputs": [
    {
     "name": "stdout",
     "output_type": "stream",
     "text": [
      "55    680722\n",
      "20    204505\n",
      "51    198792\n",
      "60     45631\n",
      "76      9727\n",
      "45        23\n",
      "69         4\n",
      "86         3\n",
      "Name: 1st_two_digit, dtype: int64\n"
     ]
    }
   ],
   "source": [
    "#counting the occurances with first two digit of combination\n",
    "count_1st_two_digit = df['1st_two_digit'].value_counts()\n",
    "print(count_1st_two_digit)"
   ]
  },
  {
   "cell_type": "code",
   "execution_count": 40,
   "id": "bdbe967c",
   "metadata": {},
   "outputs": [],
   "source": [
    "# deleting duplicated raws\n",
    "df = df.loc[(df['1st_two_digit'].str.contains('55')) | (df['1st_two_digit'].str.contains('76')) | ~df.duplicated()]"
   ]
  },
  {
   "cell_type": "code",
   "execution_count": 41,
   "id": "c49dd322",
   "metadata": {},
   "outputs": [
    {
     "data": {
      "text/plain": [
       "26940"
      ]
     },
     "execution_count": 41,
     "metadata": {},
     "output_type": "execute_result"
    }
   ],
   "source": [
    "#remaining duplicated raws in dataset\n",
    "df.duplicated().sum()"
   ]
  },
  {
   "cell_type": "markdown",
   "id": "03cef3c5",
   "metadata": {},
   "source": [
    "# Deleting Unnecessary Column"
   ]
  },
  {
   "cell_type": "code",
   "execution_count": 42,
   "id": "0c821e0c",
   "metadata": {},
   "outputs": [
    {
     "name": "stdout",
     "output_type": "stream",
     "text": [
      "Index(['PURCHASE_DOCUMENT_ID', 'CREATE_DATE', 'COMPANY_CODE_ID', 'VENDOR_ID',\n",
      "       'POSTAL_CD', 'RELEASE_DATE', 'PURCHASE_DOCUMENT_ITEM_ID', 'MATERIAL_ID',\n",
      "       'SUB_COMMODITY_DESC', 'MRP_TYPE_ID', 'MRP_TYPE_DESC_E', 'SHORT_TEXT',\n",
      "       'PLANT_ID', 'POR_DELIVERY_DATE', 'FIRST_GR_POSTING_DATE',\n",
      "       'DELIVERY_DATE', 'REQUESTED_DELIVERY_DATE', 'INBOUND_DELIVERY_ID',\n",
      "       'INBOUND_DELIVERY_ITEM_ID', 'PLANNED_DELIVERY_DAYS',\n",
      "       'BI_LAST_UPDATED_PURCHASE_DOCUMENT_ITEM', '1st_two_digit'],\n",
      "      dtype='object')\n"
     ]
    }
   ],
   "source": [
    "# printing the columns name\n",
    "print(df.columns)"
   ]
  },
  {
   "cell_type": "code",
   "execution_count": 43,
   "id": "84d567ac",
   "metadata": {},
   "outputs": [],
   "source": [
    "#droping the columns\n",
    "columns_to_drop = ['PURCHASE_DOCUMENT_ID', 'PURCHASE_DOCUMENT_ITEM_ID', 'SHORT_TEXT', 'INBOUND_DELIVERY_ID',\n",
    "                   'INBOUND_DELIVERY_ITEM_ID', '1st_two_digit']\n",
    "df = df.drop(columns = columns_to_drop).copy()"
   ]
  },
  {
   "cell_type": "code",
   "execution_count": 44,
   "id": "eaaf555d",
   "metadata": {},
   "outputs": [
    {
     "data": {
      "text/html": [
       "<div>\n",
       "<style scoped>\n",
       "    .dataframe tbody tr th:only-of-type {\n",
       "        vertical-align: middle;\n",
       "    }\n",
       "\n",
       "    .dataframe tbody tr th {\n",
       "        vertical-align: top;\n",
       "    }\n",
       "\n",
       "    .dataframe thead th {\n",
       "        text-align: right;\n",
       "    }\n",
       "</style>\n",
       "<table border=\"1\" class=\"dataframe\">\n",
       "  <thead>\n",
       "    <tr style=\"text-align: right;\">\n",
       "      <th></th>\n",
       "      <th>CREATE_DATE</th>\n",
       "      <th>COMPANY_CODE_ID</th>\n",
       "      <th>VENDOR_ID</th>\n",
       "      <th>POSTAL_CD</th>\n",
       "      <th>RELEASE_DATE</th>\n",
       "      <th>MATERIAL_ID</th>\n",
       "      <th>SUB_COMMODITY_DESC</th>\n",
       "      <th>MRP_TYPE_ID</th>\n",
       "      <th>MRP_TYPE_DESC_E</th>\n",
       "      <th>PLANT_ID</th>\n",
       "      <th>POR_DELIVERY_DATE</th>\n",
       "      <th>FIRST_GR_POSTING_DATE</th>\n",
       "      <th>DELIVERY_DATE</th>\n",
       "      <th>REQUESTED_DELIVERY_DATE</th>\n",
       "      <th>PLANNED_DELIVERY_DAYS</th>\n",
       "      <th>BI_LAST_UPDATED_PURCHASE_DOCUMENT_ITEM</th>\n",
       "    </tr>\n",
       "  </thead>\n",
       "  <tbody>\n",
       "    <tr>\n",
       "      <th>0</th>\n",
       "      <td>20180907</td>\n",
       "      <td>CN15</td>\n",
       "      <td>V4014</td>\n",
       "      <td>29078</td>\n",
       "      <td>NaN</td>\n",
       "      <td>2.100008e+09</td>\n",
       "      <td>Custom Manufacturing</td>\n",
       "      <td>1.0</td>\n",
       "      <td>1.0</td>\n",
       "      <td>1016.0</td>\n",
       "      <td>20181128.0</td>\n",
       "      <td>20181122.0</td>\n",
       "      <td>20181116.0</td>\n",
       "      <td>20181116.0</td>\n",
       "      <td>52.0</td>\n",
       "      <td>2023-05-30T23:07:43.64Z</td>\n",
       "    </tr>\n",
       "    <tr>\n",
       "      <th>1</th>\n",
       "      <td>20180907</td>\n",
       "      <td>CN20</td>\n",
       "      <td>8010095928</td>\n",
       "      <td>201206</td>\n",
       "      <td>NaN</td>\n",
       "      <td>NaN</td>\n",
       "      <td>Tanks and Process Equipment</td>\n",
       "      <td>NaN</td>\n",
       "      <td>NaN</td>\n",
       "      <td>1032.0</td>\n",
       "      <td>NaN</td>\n",
       "      <td>0.0</td>\n",
       "      <td>20180928.0</td>\n",
       "      <td>20180928.0</td>\n",
       "      <td>0.0</td>\n",
       "      <td>2023-05-30T23:07:43.64Z</td>\n",
       "    </tr>\n",
       "    <tr>\n",
       "      <th>2</th>\n",
       "      <td>20180907</td>\n",
       "      <td>CA10</td>\n",
       "      <td>8010003146</td>\n",
       "      <td>L6L 6R2</td>\n",
       "      <td>NaN</td>\n",
       "      <td>1.100126e+09</td>\n",
       "      <td>Piping &amp; Tubing</td>\n",
       "      <td>1.0</td>\n",
       "      <td>1.0</td>\n",
       "      <td>4036.0</td>\n",
       "      <td>NaN</td>\n",
       "      <td>20181205.0</td>\n",
       "      <td>20181112.0</td>\n",
       "      <td>20181001.0</td>\n",
       "      <td>24.0</td>\n",
       "      <td>2023-05-30T23:07:43.64Z</td>\n",
       "    </tr>\n",
       "    <tr>\n",
       "      <th>3</th>\n",
       "      <td>20180907</td>\n",
       "      <td>CA10</td>\n",
       "      <td>8010005836</td>\n",
       "      <td>N2C 0B7</td>\n",
       "      <td>NaN</td>\n",
       "      <td>NaN</td>\n",
       "      <td>Material Handling</td>\n",
       "      <td>NaN</td>\n",
       "      <td>NaN</td>\n",
       "      <td>4036.0</td>\n",
       "      <td>20180907.0</td>\n",
       "      <td>20180918.0</td>\n",
       "      <td>20180908.0</td>\n",
       "      <td>20180908.0</td>\n",
       "      <td>0.0</td>\n",
       "      <td>2023-05-30T23:07:43.64Z</td>\n",
       "    </tr>\n",
       "    <tr>\n",
       "      <th>4</th>\n",
       "      <td>20180907</td>\n",
       "      <td>CA10</td>\n",
       "      <td>8010005836</td>\n",
       "      <td>N2C 0B7</td>\n",
       "      <td>NaN</td>\n",
       "      <td>NaN</td>\n",
       "      <td>Material Handling</td>\n",
       "      <td>NaN</td>\n",
       "      <td>NaN</td>\n",
       "      <td>4036.0</td>\n",
       "      <td>20180907.0</td>\n",
       "      <td>20180918.0</td>\n",
       "      <td>20180908.0</td>\n",
       "      <td>20180908.0</td>\n",
       "      <td>0.0</td>\n",
       "      <td>2023-05-30T23:07:43.64Z</td>\n",
       "    </tr>\n",
       "  </tbody>\n",
       "</table>\n",
       "</div>"
      ],
      "text/plain": [
       "   CREATE_DATE COMPANY_CODE_ID   VENDOR_ID POSTAL_CD  RELEASE_DATE  \\\n",
       "0     20180907            CN15       V4014     29078           NaN   \n",
       "1     20180907            CN20  8010095928    201206           NaN   \n",
       "2     20180907            CA10  8010003146   L6L 6R2           NaN   \n",
       "3     20180907            CA10  8010005836   N2C 0B7           NaN   \n",
       "4     20180907            CA10  8010005836   N2C 0B7           NaN   \n",
       "\n",
       "    MATERIAL_ID           SUB_COMMODITY_DESC  MRP_TYPE_ID  MRP_TYPE_DESC_E  \\\n",
       "0  2.100008e+09         Custom Manufacturing          1.0              1.0   \n",
       "1           NaN  Tanks and Process Equipment          NaN              NaN   \n",
       "2  1.100126e+09              Piping & Tubing          1.0              1.0   \n",
       "3           NaN            Material Handling          NaN              NaN   \n",
       "4           NaN            Material Handling          NaN              NaN   \n",
       "\n",
       "   PLANT_ID  POR_DELIVERY_DATE  FIRST_GR_POSTING_DATE  DELIVERY_DATE  \\\n",
       "0    1016.0         20181128.0             20181122.0     20181116.0   \n",
       "1    1032.0                NaN                    0.0     20180928.0   \n",
       "2    4036.0                NaN             20181205.0     20181112.0   \n",
       "3    4036.0         20180907.0             20180918.0     20180908.0   \n",
       "4    4036.0         20180907.0             20180918.0     20180908.0   \n",
       "\n",
       "   REQUESTED_DELIVERY_DATE  PLANNED_DELIVERY_DAYS  \\\n",
       "0               20181116.0                   52.0   \n",
       "1               20180928.0                    0.0   \n",
       "2               20181001.0                   24.0   \n",
       "3               20180908.0                    0.0   \n",
       "4               20180908.0                    0.0   \n",
       "\n",
       "  BI_LAST_UPDATED_PURCHASE_DOCUMENT_ITEM  \n",
       "0                2023-05-30T23:07:43.64Z  \n",
       "1                2023-05-30T23:07:43.64Z  \n",
       "2                2023-05-30T23:07:43.64Z  \n",
       "3                2023-05-30T23:07:43.64Z  \n",
       "4                2023-05-30T23:07:43.64Z  "
      ]
     },
     "execution_count": 44,
     "metadata": {},
     "output_type": "execute_result"
    }
   ],
   "source": [
    "#printing new dataset\n",
    "df.head(5)"
   ]
  },
  {
   "cell_type": "code",
   "execution_count": null,
   "id": "fcf04768",
   "metadata": {},
   "outputs": [],
   "source": []
  },
  {
   "cell_type": "markdown",
   "id": "538bf7f3",
   "metadata": {},
   "source": [
    "# Changing Datatype"
   ]
  },
  {
   "cell_type": "code",
   "execution_count": 45,
   "id": "80c9f479",
   "metadata": {},
   "outputs": [],
   "source": [
    "#splitting BI_LAST_UPDATED_PURCHASE_DOCUMENT_ITEM column to extract date column\n",
    "df['BI_LAST_UPDATED_PURCHASE_DOCUMENT_ITEM'] = df['BI_LAST_UPDATED_PURCHASE_DOCUMENT_ITEM'].str.split('T').str[0]"
   ]
  },
  {
   "cell_type": "code",
   "execution_count": 46,
   "id": "b802d198",
   "metadata": {},
   "outputs": [
    {
     "name": "stdout",
     "output_type": "stream",
     "text": [
      "CREATE_DATE                                 int64\n",
      "COMPANY_CODE_ID                            object\n",
      "VENDOR_ID                                  object\n",
      "POSTAL_CD                                  object\n",
      "RELEASE_DATE                              float64\n",
      "MATERIAL_ID                               float64\n",
      "SUB_COMMODITY_DESC                         object\n",
      "MRP_TYPE_ID                               float64\n",
      "MRP_TYPE_DESC_E                           float64\n",
      "PLANT_ID                                  float64\n",
      "POR_DELIVERY_DATE                         float64\n",
      "FIRST_GR_POSTING_DATE                     float64\n",
      "DELIVERY_DATE                             float64\n",
      "REQUESTED_DELIVERY_DATE                   float64\n",
      "PLANNED_DELIVERY_DAYS                     float64\n",
      "BI_LAST_UPDATED_PURCHASE_DOCUMENT_ITEM     object\n",
      "dtype: object\n"
     ]
    }
   ],
   "source": [
    "#printing data types\n",
    "print(df.dtypes)"
   ]
  },
  {
   "cell_type": "code",
   "execution_count": 47,
   "id": "01b79238",
   "metadata": {},
   "outputs": [],
   "source": [
    "#changing data types\n",
    "df['CREATE_DATE'] = pd.to_datetime(df['CREATE_DATE'], format = '%Y%m%d')\n",
    "df['COMPANY_CODE_ID'] = df['COMPANY_CODE_ID'].astype('str')\n",
    "df['VENDOR_ID'] = df['VENDOR_ID'].astype('str')\n",
    "df['POSTAL_CD'] = df['POSTAL_CD'].astype('str')\n",
    "df['RELEASE_DATE'] = pd.to_datetime(df['RELEASE_DATE'], format = '%Y%m%d')\n",
    "df['MATERIAL_ID'] = df['MATERIAL_ID'].astype('str')\n",
    "df['SUB_COMMODITY_DESC'] = df['SUB_COMMODITY_DESC'].astype('str')\n",
    "df['MRP_TYPE_ID'] = df['MRP_TYPE_ID'].astype('str')\n",
    "df['MRP_TYPE_DESC_E'] = df['MRP_TYPE_DESC_E'].astype('str')\n",
    "df['PLANT_ID'] = df['PLANT_ID'].astype('str')\n",
    "df['POR_DELIVERY_DATE'] = pd.to_datetime(df['POR_DELIVERY_DATE'], format = '%Y%m%d')\n",
    "df['FIRST_GR_POSTING_DATE'] = pd.to_datetime(df['FIRST_GR_POSTING_DATE'], format = '%Y%m%d', errors = 'coerce')\n",
    "df['REQUESTED_DELIVERY_DATE'] = pd.to_datetime(df['REQUESTED_DELIVERY_DATE'], format='%Y%m%d', errors='coerce')\n",
    "df['DELIVERY_DATE'] = pd.to_datetime(df['DELIVERY_DATE'], format = '%Y%m%d')\n",
    "df['PLANNED_DELIVERY_DAYS'] = df['PLANNED_DELIVERY_DAYS'].astype(pd.Int64Dtype())\n",
    "df['BI_LAST_UPDATED_PURCHASE_DOCUMENT_ITEM'] = pd.to_datetime(df['BI_LAST_UPDATED_PURCHASE_DOCUMENT_ITEM'], format = '%Y-%m-%d')"
   ]
  },
  {
   "cell_type": "code",
   "execution_count": 48,
   "id": "c87c6593",
   "metadata": {},
   "outputs": [
    {
     "name": "stdout",
     "output_type": "stream",
     "text": [
      "CREATE_DATE                               datetime64[ns]\n",
      "COMPANY_CODE_ID                                   object\n",
      "VENDOR_ID                                         object\n",
      "POSTAL_CD                                         object\n",
      "RELEASE_DATE                              datetime64[ns]\n",
      "MATERIAL_ID                                       object\n",
      "SUB_COMMODITY_DESC                                object\n",
      "MRP_TYPE_ID                                       object\n",
      "MRP_TYPE_DESC_E                                   object\n",
      "PLANT_ID                                          object\n",
      "POR_DELIVERY_DATE                         datetime64[ns]\n",
      "FIRST_GR_POSTING_DATE                     datetime64[ns]\n",
      "DELIVERY_DATE                             datetime64[ns]\n",
      "REQUESTED_DELIVERY_DATE                   datetime64[ns]\n",
      "PLANNED_DELIVERY_DAYS                              Int64\n",
      "BI_LAST_UPDATED_PURCHASE_DOCUMENT_ITEM    datetime64[ns]\n",
      "dtype: object\n"
     ]
    }
   ],
   "source": [
    "# printing changed datatype\n",
    "print(df.dtypes)"
   ]
  },
  {
   "cell_type": "code",
   "execution_count": 49,
   "id": "e08b0d52",
   "metadata": {},
   "outputs": [
    {
     "data": {
      "text/html": [
       "<div>\n",
       "<style scoped>\n",
       "    .dataframe tbody tr th:only-of-type {\n",
       "        vertical-align: middle;\n",
       "    }\n",
       "\n",
       "    .dataframe tbody tr th {\n",
       "        vertical-align: top;\n",
       "    }\n",
       "\n",
       "    .dataframe thead th {\n",
       "        text-align: right;\n",
       "    }\n",
       "</style>\n",
       "<table border=\"1\" class=\"dataframe\">\n",
       "  <thead>\n",
       "    <tr style=\"text-align: right;\">\n",
       "      <th></th>\n",
       "      <th>CREATE_DATE</th>\n",
       "      <th>COMPANY_CODE_ID</th>\n",
       "      <th>VENDOR_ID</th>\n",
       "      <th>POSTAL_CD</th>\n",
       "      <th>RELEASE_DATE</th>\n",
       "      <th>MATERIAL_ID</th>\n",
       "      <th>SUB_COMMODITY_DESC</th>\n",
       "      <th>MRP_TYPE_ID</th>\n",
       "      <th>MRP_TYPE_DESC_E</th>\n",
       "      <th>PLANT_ID</th>\n",
       "      <th>POR_DELIVERY_DATE</th>\n",
       "      <th>FIRST_GR_POSTING_DATE</th>\n",
       "      <th>DELIVERY_DATE</th>\n",
       "      <th>REQUESTED_DELIVERY_DATE</th>\n",
       "      <th>PLANNED_DELIVERY_DAYS</th>\n",
       "      <th>BI_LAST_UPDATED_PURCHASE_DOCUMENT_ITEM</th>\n",
       "    </tr>\n",
       "  </thead>\n",
       "  <tbody>\n",
       "    <tr>\n",
       "      <th>0</th>\n",
       "      <td>2018-09-07</td>\n",
       "      <td>CN15</td>\n",
       "      <td>V4014</td>\n",
       "      <td>29078</td>\n",
       "      <td>NaT</td>\n",
       "      <td>2100007708.0</td>\n",
       "      <td>Custom Manufacturing</td>\n",
       "      <td>1.0</td>\n",
       "      <td>1.0</td>\n",
       "      <td>1016.0</td>\n",
       "      <td>2018-11-28</td>\n",
       "      <td>2018-11-22</td>\n",
       "      <td>2018-11-16</td>\n",
       "      <td>2018-11-16</td>\n",
       "      <td>52</td>\n",
       "      <td>2023-05-30</td>\n",
       "    </tr>\n",
       "    <tr>\n",
       "      <th>1</th>\n",
       "      <td>2018-09-07</td>\n",
       "      <td>CN20</td>\n",
       "      <td>8010095928</td>\n",
       "      <td>201206</td>\n",
       "      <td>NaT</td>\n",
       "      <td>nan</td>\n",
       "      <td>Tanks and Process Equipment</td>\n",
       "      <td>nan</td>\n",
       "      <td>nan</td>\n",
       "      <td>1032.0</td>\n",
       "      <td>NaT</td>\n",
       "      <td>NaT</td>\n",
       "      <td>2018-09-28</td>\n",
       "      <td>2018-09-28</td>\n",
       "      <td>0</td>\n",
       "      <td>2023-05-30</td>\n",
       "    </tr>\n",
       "    <tr>\n",
       "      <th>2</th>\n",
       "      <td>2018-09-07</td>\n",
       "      <td>CA10</td>\n",
       "      <td>8010003146</td>\n",
       "      <td>L6L 6R2</td>\n",
       "      <td>NaT</td>\n",
       "      <td>1100125572.0</td>\n",
       "      <td>Piping &amp; Tubing</td>\n",
       "      <td>1.0</td>\n",
       "      <td>1.0</td>\n",
       "      <td>4036.0</td>\n",
       "      <td>NaT</td>\n",
       "      <td>2018-12-05</td>\n",
       "      <td>2018-11-12</td>\n",
       "      <td>2018-10-01</td>\n",
       "      <td>24</td>\n",
       "      <td>2023-05-30</td>\n",
       "    </tr>\n",
       "    <tr>\n",
       "      <th>3</th>\n",
       "      <td>2018-09-07</td>\n",
       "      <td>CA10</td>\n",
       "      <td>8010005836</td>\n",
       "      <td>N2C 0B7</td>\n",
       "      <td>NaT</td>\n",
       "      <td>nan</td>\n",
       "      <td>Material Handling</td>\n",
       "      <td>nan</td>\n",
       "      <td>nan</td>\n",
       "      <td>4036.0</td>\n",
       "      <td>2018-09-07</td>\n",
       "      <td>2018-09-18</td>\n",
       "      <td>2018-09-08</td>\n",
       "      <td>2018-09-08</td>\n",
       "      <td>0</td>\n",
       "      <td>2023-05-30</td>\n",
       "    </tr>\n",
       "    <tr>\n",
       "      <th>4</th>\n",
       "      <td>2018-09-07</td>\n",
       "      <td>CA10</td>\n",
       "      <td>8010005836</td>\n",
       "      <td>N2C 0B7</td>\n",
       "      <td>NaT</td>\n",
       "      <td>nan</td>\n",
       "      <td>Material Handling</td>\n",
       "      <td>nan</td>\n",
       "      <td>nan</td>\n",
       "      <td>4036.0</td>\n",
       "      <td>2018-09-07</td>\n",
       "      <td>2018-09-18</td>\n",
       "      <td>2018-09-08</td>\n",
       "      <td>2018-09-08</td>\n",
       "      <td>0</td>\n",
       "      <td>2023-05-30</td>\n",
       "    </tr>\n",
       "    <tr>\n",
       "      <th>5</th>\n",
       "      <td>2018-09-07</td>\n",
       "      <td>CA10</td>\n",
       "      <td>8010003152</td>\n",
       "      <td>L5W 0A1</td>\n",
       "      <td>NaT</td>\n",
       "      <td>1100181639.0</td>\n",
       "      <td>Safety Supplies</td>\n",
       "      <td>1.0</td>\n",
       "      <td>1.0</td>\n",
       "      <td>4036.0</td>\n",
       "      <td>NaT</td>\n",
       "      <td>2018-09-13</td>\n",
       "      <td>2018-09-21</td>\n",
       "      <td>2018-09-21</td>\n",
       "      <td>11</td>\n",
       "      <td>2023-05-30</td>\n",
       "    </tr>\n",
       "    <tr>\n",
       "      <th>6</th>\n",
       "      <td>2018-09-07</td>\n",
       "      <td>US10</td>\n",
       "      <td>8010098170</td>\n",
       "      <td>06457</td>\n",
       "      <td>NaT</td>\n",
       "      <td>nan</td>\n",
       "      <td>Consulting Services</td>\n",
       "      <td>nan</td>\n",
       "      <td>nan</td>\n",
       "      <td>4032.0</td>\n",
       "      <td>NaT</td>\n",
       "      <td>NaT</td>\n",
       "      <td>2018-09-17</td>\n",
       "      <td>2018-09-17</td>\n",
       "      <td>0</td>\n",
       "      <td>2023-09-07</td>\n",
       "    </tr>\n",
       "    <tr>\n",
       "      <th>7</th>\n",
       "      <td>2018-09-07</td>\n",
       "      <td>CA10</td>\n",
       "      <td>V4058</td>\n",
       "      <td>19973</td>\n",
       "      <td>NaT</td>\n",
       "      <td>2100003822.0</td>\n",
       "      <td>Custom Manufacturing</td>\n",
       "      <td>1.0</td>\n",
       "      <td>1.0</td>\n",
       "      <td>4036.0</td>\n",
       "      <td>2018-11-01</td>\n",
       "      <td>2018-12-03</td>\n",
       "      <td>2018-11-01</td>\n",
       "      <td>2018-11-01</td>\n",
       "      <td>1</td>\n",
       "      <td>2021-11-08</td>\n",
       "    </tr>\n",
       "    <tr>\n",
       "      <th>8</th>\n",
       "      <td>2018-09-07</td>\n",
       "      <td>US10</td>\n",
       "      <td>8010005920</td>\n",
       "      <td>29033-3526</td>\n",
       "      <td>NaT</td>\n",
       "      <td>1100084508.0</td>\n",
       "      <td>Valves</td>\n",
       "      <td>1.0</td>\n",
       "      <td>1.0</td>\n",
       "      <td>4014.0</td>\n",
       "      <td>NaT</td>\n",
       "      <td>2018-11-08</td>\n",
       "      <td>2018-09-27</td>\n",
       "      <td>2018-09-27</td>\n",
       "      <td>36</td>\n",
       "      <td>2023-05-30</td>\n",
       "    </tr>\n",
       "    <tr>\n",
       "      <th>9</th>\n",
       "      <td>2018-09-07</td>\n",
       "      <td>US10</td>\n",
       "      <td>8010005411</td>\n",
       "      <td>29170-3182</td>\n",
       "      <td>NaT</td>\n",
       "      <td>nan</td>\n",
       "      <td>Electric &amp; Electronics</td>\n",
       "      <td>nan</td>\n",
       "      <td>nan</td>\n",
       "      <td>4014.0</td>\n",
       "      <td>NaT</td>\n",
       "      <td>2018-10-05</td>\n",
       "      <td>2018-10-05</td>\n",
       "      <td>2018-09-28</td>\n",
       "      <td>0</td>\n",
       "      <td>2023-05-30</td>\n",
       "    </tr>\n",
       "  </tbody>\n",
       "</table>\n",
       "</div>"
      ],
      "text/plain": [
       "  CREATE_DATE COMPANY_CODE_ID   VENDOR_ID   POSTAL_CD RELEASE_DATE  \\\n",
       "0  2018-09-07            CN15       V4014       29078          NaT   \n",
       "1  2018-09-07            CN20  8010095928      201206          NaT   \n",
       "2  2018-09-07            CA10  8010003146     L6L 6R2          NaT   \n",
       "3  2018-09-07            CA10  8010005836     N2C 0B7          NaT   \n",
       "4  2018-09-07            CA10  8010005836     N2C 0B7          NaT   \n",
       "5  2018-09-07            CA10  8010003152     L5W 0A1          NaT   \n",
       "6  2018-09-07            US10  8010098170       06457          NaT   \n",
       "7  2018-09-07            CA10       V4058       19973          NaT   \n",
       "8  2018-09-07            US10  8010005920  29033-3526          NaT   \n",
       "9  2018-09-07            US10  8010005411  29170-3182          NaT   \n",
       "\n",
       "    MATERIAL_ID           SUB_COMMODITY_DESC MRP_TYPE_ID MRP_TYPE_DESC_E  \\\n",
       "0  2100007708.0         Custom Manufacturing         1.0             1.0   \n",
       "1           nan  Tanks and Process Equipment         nan             nan   \n",
       "2  1100125572.0              Piping & Tubing         1.0             1.0   \n",
       "3           nan            Material Handling         nan             nan   \n",
       "4           nan            Material Handling         nan             nan   \n",
       "5  1100181639.0              Safety Supplies         1.0             1.0   \n",
       "6           nan          Consulting Services         nan             nan   \n",
       "7  2100003822.0         Custom Manufacturing         1.0             1.0   \n",
       "8  1100084508.0                       Valves         1.0             1.0   \n",
       "9           nan       Electric & Electronics         nan             nan   \n",
       "\n",
       "  PLANT_ID POR_DELIVERY_DATE FIRST_GR_POSTING_DATE DELIVERY_DATE  \\\n",
       "0   1016.0        2018-11-28            2018-11-22    2018-11-16   \n",
       "1   1032.0               NaT                   NaT    2018-09-28   \n",
       "2   4036.0               NaT            2018-12-05    2018-11-12   \n",
       "3   4036.0        2018-09-07            2018-09-18    2018-09-08   \n",
       "4   4036.0        2018-09-07            2018-09-18    2018-09-08   \n",
       "5   4036.0               NaT            2018-09-13    2018-09-21   \n",
       "6   4032.0               NaT                   NaT    2018-09-17   \n",
       "7   4036.0        2018-11-01            2018-12-03    2018-11-01   \n",
       "8   4014.0               NaT            2018-11-08    2018-09-27   \n",
       "9   4014.0               NaT            2018-10-05    2018-10-05   \n",
       "\n",
       "  REQUESTED_DELIVERY_DATE  PLANNED_DELIVERY_DAYS  \\\n",
       "0              2018-11-16                     52   \n",
       "1              2018-09-28                      0   \n",
       "2              2018-10-01                     24   \n",
       "3              2018-09-08                      0   \n",
       "4              2018-09-08                      0   \n",
       "5              2018-09-21                     11   \n",
       "6              2018-09-17                      0   \n",
       "7              2018-11-01                      1   \n",
       "8              2018-09-27                     36   \n",
       "9              2018-09-28                      0   \n",
       "\n",
       "  BI_LAST_UPDATED_PURCHASE_DOCUMENT_ITEM  \n",
       "0                             2023-05-30  \n",
       "1                             2023-05-30  \n",
       "2                             2023-05-30  \n",
       "3                             2023-05-30  \n",
       "4                             2023-05-30  \n",
       "5                             2023-05-30  \n",
       "6                             2023-09-07  \n",
       "7                             2021-11-08  \n",
       "8                             2023-05-30  \n",
       "9                             2023-05-30  "
      ]
     },
     "execution_count": 49,
     "metadata": {},
     "output_type": "execute_result"
    }
   ],
   "source": [
    "df.head(10)"
   ]
  },
  {
   "cell_type": "markdown",
   "id": "0e0b50a5",
   "metadata": {},
   "source": [
    "# EDA"
   ]
  },
  {
   "cell_type": "markdown",
   "id": "cfed57ee",
   "metadata": {},
   "source": [
    "## Univariate Analysis"
   ]
  },
  {
   "cell_type": "markdown",
   "id": "16921f87",
   "metadata": {},
   "source": [
    "### CREATE_DATE"
   ]
  },
  {
   "cell_type": "code",
   "execution_count": 50,
   "id": "0d879bf2",
   "metadata": {},
   "outputs": [
    {
     "data": {
      "text/plain": [
       "1826"
      ]
     },
     "execution_count": 50,
     "metadata": {},
     "output_type": "execute_result"
    }
   ],
   "source": [
    "#Checking unique values in the column CREATE_DATE\n",
    "df['CREATE_DATE'].nunique()"
   ]
  },
  {
   "cell_type": "code",
   "execution_count": 51,
   "id": "d75c91de",
   "metadata": {},
   "outputs": [
    {
     "name": "stdout",
     "output_type": "stream",
     "text": [
      "Minimum Date: 2018-09-07 00:00:00\n",
      "Maximum Date: 2023-09-07 00:00:00\n"
     ]
    }
   ],
   "source": [
    "#checking the range of date\n",
    "min_date = df['CREATE_DATE'].min()\n",
    "max_date = df['CREATE_DATE'].max()\n",
    "\n",
    "# Print the range of dates\n",
    "print(f\"Minimum Date: {min_date}\")\n",
    "print(f\"Maximum Date: {max_date}\")"
   ]
  },
  {
   "cell_type": "code",
   "execution_count": 52,
   "id": "f55f22e5",
   "metadata": {},
   "outputs": [
    {
     "data": {
      "text/plain": [
       "Timedelta('1826 days 00:00:00')"
      ]
     },
     "execution_count": 52,
     "metadata": {},
     "output_type": "execute_result"
    }
   ],
   "source": [
    "# checking number of days between date range\n",
    "day = max_date - min_date\n",
    "day"
   ]
  },
  {
   "cell_type": "markdown",
   "id": "754fb0ae",
   "metadata": {},
   "source": [
    "Total unique value of CREATE_DATE column is 1826. The number of days between highest and lowest date is 1826. That means our dataset has value for every date. This is little bit unusual because Holiday should not be included."
   ]
  },
  {
   "cell_type": "code",
   "execution_count": 53,
   "id": "8e191b24",
   "metadata": {},
   "outputs": [],
   "source": [
    "#checking is their any null value or value with '0' in our dataset\n",
    "empty_column = (df['CREATE_DATE'] == '0').any()\n",
    "NaT_value = df['CREATE_DATE'].isna().any()\n",
    "nan_Value = (df['CREATE_DATE'] == 'nan').any()\n",
    "null_day = (df['CREATE_DATE'].dt.day == 0).any()\n",
    "null_month = (df['CREATE_DATE'].dt.month == 0).any()\n",
    "null_year = (df['CREATE_DATE'].dt.year == 0).any()"
   ]
  },
  {
   "cell_type": "code",
   "execution_count": 54,
   "id": "461def13",
   "metadata": {},
   "outputs": [
    {
     "name": "stdout",
     "output_type": "stream",
     "text": [
      "          Check  result\n",
      "0  empty_column   False\n",
      "1     NaT_value   False\n",
      "2     nan_Value   False\n",
      "3      null_day   False\n",
      "4    null_month   False\n",
      "5     null_year   False\n"
     ]
    }
   ],
   "source": [
    "result = pd.DataFrame({'Check': ['empty_column', 'NaT_value', 'nan_Value', 'null_day', 'null_month', 'null_year'],\n",
    "                     'result': [empty_column, NaT_value, nan_Value, null_day, null_month, null_year]})\n",
    "print(result.to_string())"
   ]
  },
  {
   "cell_type": "markdown",
   "id": "98c85622",
   "metadata": {},
   "source": [
    "***Range of dataset***"
   ]
  },
  {
   "cell_type": "code",
   "execution_count": 56,
   "id": "d035ad02",
   "metadata": {},
   "outputs": [
    {
     "data": {
      "image/png": "[encoded data removed]",
      "text/plain": [
       "<Figure size 720x432 with 1 Axes>"
      ]
     },
     "metadata": {
      "needs_background": "light"
     },
     "output_type": "display_data"
    }
   ],
   "source": [
    "import matplotlib.pyplot as plt\n",
    "\n",
    "#plotting the CREATE_DATE column as a bar chart\n",
    "# Calculate yearly counts\n",
    "yearly_counts = df['CREATE_DATE'].dt.year.value_counts().sort_index()\n",
    "\n",
    "# Convert counts to thousands\n",
    "yearly_counts_in_thousands = yearly_counts / 1000\n",
    "\n",
    "# Define the color\n",
    "bar_color = sn.color_palette(\"Set2\")\n",
    "\n",
    "# Create the bar chart\n",
    "plt.figure(figsize=(10, 6))\n",
    "ax = yearly_counts_in_thousands.plot(kind='bar', color=bar_color,)\n",
    "plt.xlabel('Year', fontsize=16, fontweight='bold')\n",
    "plt.title('Yearly Distribution of transactions for the column Create Date', fontsize=18, fontweight='bold')\n",
    "plt.xticks(rotation=0, fontsize = 14, fontweight = 'bold')\n",
    "\n",
    "# Remove border lines\n",
    "for spine in ['top', 'right', 'left']:\n",
    "    ax.spines[spine].set_visible(False)\n",
    "\n",
    "# Remove tick marks\n",
    "ax.tick_params(axis='both', which='both', length=0)\n",
    "ax.set_yticklabels([])\n",
    "# Remove grid lines\n",
    "ax.grid(False)\n",
    "# Display count values on top of the bars\n",
    "for i, v in enumerate(yearly_counts_in_thousands):\n",
    "    ax.text(i, v, f'{v:.1f}k', ha='center', va='bottom', fontsize = 14, fontweight = 'bold')\n",
    "\n",
    "plt.tight_layout()\n",
    "plt.show()"
   ]
  },
  {
   "cell_type": "markdown",
   "id": "c4d168d8",
   "metadata": {},
   "source": [
    "### COMPANY_CODE_ID"
   ]
  },
  {
   "cell_type": "code",
   "execution_count": 57,
   "id": "b488e5a1",
   "metadata": {
    "scrolled": true
   },
   "outputs": [
    {
     "data": {
      "text/plain": [
       "40"
      ]
     },
     "execution_count": 57,
     "metadata": {},
     "output_type": "execute_result"
    }
   ],
   "source": [
    "# checking unique value\n",
    "df['COMPANY_CODE_ID'].nunique()"
   ]
  },
  {
   "cell_type": "code",
   "execution_count": 58,
   "id": "73bf526d",
   "metadata": {},
   "outputs": [
    {
     "data": {
      "image/png": "[encoded data removed]",
      "text/plain": [
       "<Figure size 1440x720 with 1 Axes>"
      ]
     },
     "metadata": {
      "needs_background": "light"
     },
     "output_type": "display_data"
    }
   ],
   "source": [
    "# Transaction Distribution of Company Code\n",
    "COMPANY_CODE_ID_count = df['COMPANY_CODE_ID'].value_counts()\n",
    "colors = sn.color_palette(\"hls\", 8)\n",
    "plt.figure(figsize=(20, 10))\n",
    "COMPANY_CODE_ID_count.plot(kind='bar', color= colors)\n",
    "plt.xlabel('Company Code')\n",
    "plt.ylabel('Count')\n",
    "plt.title('Distribution of data according to company code')\n",
    "plt.xticks(rotation=45)\n",
    "plt.tight_layout()\n",
    "plt.show()"
   ]
  },
  {
   "cell_type": "code",
   "execution_count": 59,
   "id": "4c182ab4",
   "metadata": {},
   "outputs": [
    {
     "data": {
      "text/plain": [
       "CA10    280787\n",
       "US39    198517\n",
       "US10    197644\n",
       "GB10    132235\n",
       "CN20     77704\n",
       "JP10     42840\n",
       "US40     33205\n",
       "CN16     30916\n",
       "US47     26029\n",
       "NL10     17274\n",
       "NL24     11125\n",
       "KR11      7862\n",
       "GB14      7704\n",
       "CN17      4661\n",
       "CN12      3929\n",
       "US50      3525\n",
       "SG15      3514\n",
       "US49      1897\n",
       "US41      1888\n",
       "CN13      1684\n",
       "CN15      1677\n",
       "DE12      1469\n",
       "DE11       502\n",
       "CN21       297\n",
       "FR10        95\n",
       "CN18        63\n",
       "LU10        27\n",
       "nan         15\n",
       "LU12        15\n",
       "LU15        11\n",
       "LU14        10\n",
       "LU11        10\n",
       "DE13         8\n",
       "CN19         8\n",
       "LU13         6\n",
       "GB11         6\n",
       "NL15         6\n",
       "CH12         4\n",
       "CH13         3\n",
       "LU18         1\n",
       "Name: COMPANY_CODE_ID, dtype: int64"
      ]
     },
     "execution_count": 59,
     "metadata": {},
     "output_type": "execute_result"
    }
   ],
   "source": [
    "#value counts of company code\n",
    "df['COMPANY_CODE_ID'].value_counts()"
   ]
  },
  {
   "cell_type": "markdown",
   "id": "7f2e2d25",
   "metadata": {},
   "source": [
    "### VENDOR_ID"
   ]
  },
  {
   "cell_type": "code",
   "execution_count": 60,
   "id": "92df2b65",
   "metadata": {},
   "outputs": [
    {
     "data": {
      "text/plain": [
       "6554"
      ]
     },
     "execution_count": 60,
     "metadata": {},
     "output_type": "execute_result"
    }
   ],
   "source": [
    "#Checking Unique value\n",
    "df['VENDOR_ID'].nunique()"
   ]
  },
  {
   "cell_type": "code",
   "execution_count": 61,
   "id": "9e00a02e",
   "metadata": {},
   "outputs": [
    {
     "name": "stdout",
     "output_type": "stream",
     "text": [
      "The Vendor_id column has 0 value with space\n",
      "The Vendor_id column has 0 value with two word\n",
      "The Vendor_id column has 0 value with forward slash\n",
      "The Vendor_id column has 0 value with backward slash\n",
      "The Vendor_id column has 0 value with coma\n"
     ]
    }
   ],
   "source": [
    "#Check for values with space, two words, coma,\\ and /\n",
    "contains_space = df['VENDOR_ID'].str.contains(' ')\n",
    "contains_two_words = df['VENDOR_ID'].str.split().str.len() == 2\n",
    "contains_forward_slash = df['VENDOR_ID'].str.contains('/')\n",
    "contains_backward_slash = df['VENDOR_ID'].str.contains(r'\\b\\\\b')\n",
    "contains_coma = df['VENDOR_ID'].str.contains(',')\n",
    "print(f'The Vendor_id column has {contains_space.sum()} value with space')\n",
    "print(f'The Vendor_id column has {contains_two_words.sum()} value with two word')\n",
    "print(f'The Vendor_id column has {contains_forward_slash.sum()} value with forward slash')\n",
    "print(f'The Vendor_id column has {contains_backward_slash.sum()} value with backward slash')\n",
    "print(f'The Vendor_id column has {contains_coma.sum()} value with coma')"
   ]
  },
  {
   "cell_type": "code",
   "execution_count": 62,
   "id": "23e0d93f",
   "metadata": {},
   "outputs": [
    {
     "data": {
      "text/plain": [
       "801    797895\n",
       "nan    148578\n",
       "V40     79733\n",
       "V41     33559\n",
       "V10     22662\n",
       "KKC      3362\n",
       "V30      1646\n",
       "VUS       943\n",
       "KEA       528\n",
       "VKC       126\n",
       "KKA        80\n",
       "VCN        26\n",
       "VCA        17\n",
       "VGB        16\n",
       "VYY         1\n",
       "VDE         1\n",
       "Name: VENDOR_ID, dtype: int64"
      ]
     },
     "execution_count": 62,
     "metadata": {},
     "output_type": "execute_result"
    }
   ],
   "source": [
    "# Count the number of unique vendors with vendor IDs starting with any of the vendor ID prefixes\n",
    "First_Three_Digits = df['VENDOR_ID'].str[:3].value_counts()\n",
    "First_Three_Digits"
   ]
  },
  {
   "cell_type": "code",
   "execution_count": 63,
   "id": "31ab697b",
   "metadata": {},
   "outputs": [
    {
     "data": {
      "image/png": "[encoded data removed]",
      "text/plain": [
       "<Figure size 1080x576 with 1 Axes>"
      ]
     },
     "metadata": {
      "needs_background": "light"
     },
     "output_type": "display_data"
    }
   ],
   "source": [
    "#Plotting with vendor ID code\n",
    "plt.figure(figsize=(15, 8))\n",
    "colors = sn.color_palette('hls', 8)\n",
    "First_Three_Digits.plot(kind='bar', color= colors)\n",
    "plt.xlabel('Vendor ID code')\n",
    "plt.ylabel('Count')\n",
    "plt.title('Distribution of data according to Vendor Id code')\n",
    "plt.xticks(rotation=45)\n",
    "plt.tight_layout()\n",
    "plt.show()"
   ]
  },
  {
   "cell_type": "markdown",
   "id": "93c31f32",
   "metadata": {},
   "source": [
    "### POSTAL_CD"
   ]
  },
  {
   "cell_type": "code",
   "execution_count": 64,
   "id": "322319db",
   "metadata": {},
   "outputs": [
    {
     "data": {
      "text/plain": [
       "5101"
      ]
     },
     "execution_count": 64,
     "metadata": {},
     "output_type": "execute_result"
    }
   ],
   "source": [
    "#Checking Unique value\n",
    "df['POSTAL_CD'].nunique()"
   ]
  },
  {
   "cell_type": "code",
   "execution_count": 65,
   "id": "64a6d634",
   "metadata": {},
   "outputs": [
    {
     "name": "stdout",
     "output_type": "stream",
     "text": [
      "The POSTAL_CD column has 297527 value with space\n",
      "The POSTAL_CD column has 297523 value with two word\n",
      "The POSTAL_CD column has 0 value with forward slash\n",
      "The POSTAL_CD column has 0 value with backward slash\n",
      "The POSTAL_CD column has 0 value with coma\n",
      "The POSTAL_CD column has 256767 value with hyphen\n"
     ]
    }
   ],
   "source": [
    "#Check for values with space, two words, coma,\\ and /\n",
    "contains_space = df['POSTAL_CD'].str.contains(' ')\n",
    "contains_two_words = df['POSTAL_CD'].str.split().str.len() == 2\n",
    "contains_forward_slash = df['POSTAL_CD'].str.contains('/')\n",
    "contains_backward_slash = df['POSTAL_CD'].str.contains(r'\\b\\\\b')\n",
    "contains_coma = df['POSTAL_CD'].str.contains(',')\n",
    "contains_hyphen = df['POSTAL_CD'].str.contains('-')\n",
    "print(f'The POSTAL_CD column has {contains_space.sum()} value with space')\n",
    "print(f'The POSTAL_CD column has {contains_two_words.sum()} value with two word')\n",
    "print(f'The POSTAL_CD column has {contains_forward_slash.sum()} value with forward slash')\n",
    "print(f'The POSTAL_CD column has {contains_backward_slash.sum()} value with backward slash')\n",
    "print(f'The POSTAL_CD column has {contains_coma.sum()} value with coma')\n",
    "print(f'The POSTAL_CD column has {contains_hyphen.sum()} value with hyphen')"
   ]
  },
  {
   "cell_type": "code",
   "execution_count": 66,
   "id": "6792479a",
   "metadata": {},
   "outputs": [
    {
     "data": {
      "image/png": "[encoded data removed]",
      "text/plain": [
       "<Figure size 720x432 with 1 Axes>"
      ]
     },
     "metadata": {
      "needs_background": "light"
     },
     "output_type": "display_data"
    }
   ],
   "source": [
    "# ploting in bar chart\n",
    "categories = ['Space', 'Two Words', 'Forward Slash', 'Backward Slash', 'Comma', 'Hyphen']\n",
    "counts = [contains_space.sum(), contains_two_words.sum(), contains_forward_slash.sum(), contains_backward_slash.sum(), contains_coma.sum(), contains_hyphen.sum()]\n",
    "plt.figure(figsize=(10, 6))\n",
    "plt.bar(categories, counts, color = colors)\n",
    "plt.xlabel('Category')\n",
    "plt.ylabel('Count')\n",
    "plt.title('POSTAL_CD column values')\n",
    "plt.xticks(rotation=45)\n",
    "plt.show()"
   ]
  },
  {
   "cell_type": "markdown",
   "id": "87f672b0",
   "metadata": {},
   "source": [
    "### RELEASE_DATE"
   ]
  },
  {
   "cell_type": "code",
   "execution_count": 67,
   "id": "3cccec04",
   "metadata": {},
   "outputs": [
    {
     "data": {
      "text/plain": [
       "1275"
      ]
     },
     "execution_count": 67,
     "metadata": {},
     "output_type": "execute_result"
    }
   ],
   "source": [
    "#Checking unique values in the column RELEASE_DATE\n",
    "df['RELEASE_DATE'].nunique()"
   ]
  },
  {
   "cell_type": "code",
   "execution_count": 68,
   "id": "3b493938",
   "metadata": {},
   "outputs": [
    {
     "name": "stdout",
     "output_type": "stream",
     "text": [
      "Minimum Date: 2018-09-07 00:00:00\n",
      "Maximum Date: 2023-09-07 00:00:00\n"
     ]
    }
   ],
   "source": [
    "#checking the range of date\n",
    "min_date = df['RELEASE_DATE'].min()\n",
    "max_date = df['RELEASE_DATE'].max()\n",
    "\n",
    "# Print the range of dates\n",
    "print(f\"Minimum Date: {min_date}\")\n",
    "print(f\"Maximum Date: {max_date}\")"
   ]
  },
  {
   "cell_type": "code",
   "execution_count": 69,
   "id": "a8f239c1",
   "metadata": {},
   "outputs": [
    {
     "data": {
      "text/plain": [
       "Timedelta('1826 days 00:00:00')"
      ]
     },
     "execution_count": 69,
     "metadata": {},
     "output_type": "execute_result"
    }
   ],
   "source": [
    "# checking number of days between date range\n",
    "day = max_date - min_date\n",
    "day"
   ]
  },
  {
   "cell_type": "code",
   "execution_count": 70,
   "id": "5248cdaf",
   "metadata": {},
   "outputs": [],
   "source": [
    "#checking is their any null value or value with '0' in our dataset\n",
    "empty_column = (df['RELEASE_DATE'] == '0').any()\n",
    "NaT_value = df['RELEASE_DATE'].isna().any()\n",
    "nan_Value = (df['RELEASE_DATE'] == 'nan').any()\n",
    "null_day = (df['RELEASE_DATE'].dt.day == 0).any()\n",
    "null_month = (df['RELEASE_DATE'].dt.month == 0).any()\n",
    "null_year = (df['RELEASE_DATE'].dt.year == 0).any()"
   ]
  },
  {
   "cell_type": "code",
   "execution_count": 71,
   "id": "f92fbf67",
   "metadata": {},
   "outputs": [
    {
     "name": "stdout",
     "output_type": "stream",
     "text": [
      "          Check  result\n",
      "0  empty_column   False\n",
      "1     NaT_value    True\n",
      "2     nan_Value   False\n",
      "3      null_day   False\n",
      "4    null_month   False\n",
      "5     null_year   False\n"
     ]
    }
   ],
   "source": [
    "result = pd.DataFrame({'Check': ['empty_column', 'NaT_value', 'nan_Value', 'null_day', 'null_month', 'null_year'],\n",
    "                     'result': [empty_column, NaT_value, nan_Value, null_day, null_month, null_year]})\n",
    "print(result.to_string())"
   ]
  },
  {
   "cell_type": "code",
   "execution_count": 72,
   "id": "219d4fde",
   "metadata": {},
   "outputs": [
    {
     "data": {
      "image/png": "[encoded data removed]",
      "text/plain": [
       "<Figure size 720x432 with 1 Axes>"
      ]
     },
     "metadata": {
      "needs_background": "light"
     },
     "output_type": "display_data"
    }
   ],
   "source": [
    "#plotting the RELEASE_DATE column as a bar chart\n",
    "yearly_counts = df['RELEASE_DATE'].dt.year.value_counts().sort_index()\n",
    "plt.figure(figsize=(10, 6))\n",
    "yearly_counts.plot(kind='bar', color= colors)\n",
    "plt.xlabel('Year')\n",
    "plt.ylabel('Count')\n",
    "plt.title('Yearly Distribution of Data')\n",
    "plt.xticks(rotation=45)\n",
    "plt.tight_layout()\n",
    "plt.show()"
   ]
  },
  {
   "cell_type": "markdown",
   "id": "69907c4f",
   "metadata": {},
   "source": [
    "# Material ID"
   ]
  },
  {
   "cell_type": "code",
   "execution_count": 74,
   "id": "e5941d5d",
   "metadata": {},
   "outputs": [
    {
     "data": {
      "text/plain": [
       "41720"
      ]
     },
     "execution_count": 74,
     "metadata": {},
     "output_type": "execute_result"
    }
   ],
   "source": [
    "#unique material ID\n",
    "df['MATERIAL_ID'].nunique()"
   ]
  },
  {
   "cell_type": "code",
   "execution_count": 75,
   "id": "754ce9d3",
   "metadata": {},
   "outputs": [
    {
     "data": {
      "text/plain": [
       "520519"
      ]
     },
     "execution_count": 75,
     "metadata": {},
     "output_type": "execute_result"
    }
   ],
   "source": [
    "#null values in Material Id\n",
    "df['MATERIAL_ID'].str.contains('nan').sum()"
   ]
  },
  {
   "cell_type": "code",
   "execution_count": 76,
   "id": "3143ada9",
   "metadata": {},
   "outputs": [
    {
     "name": "stdout",
     "output_type": "stream",
     "text": [
      "The MATERIAL_ID column has 0 value with space\n",
      "The MATERIAL_ID column has 0 value with two word\n",
      "The MATERIAL_ID column has 0 value with forward slash\n",
      "The MATERIAL_ID column has 0 value with backward slash\n",
      "The MATERIAL_ID column has 0 value with coma\n",
      "The MATERIAL_ID column has 0 value with hyphen\n",
      "The MATERIAL_ID column has 0 value with and\n",
      "The MATERIAL_ID column has 0 value with &\n"
     ]
    }
   ],
   "source": [
    "#Check for values with space, two words, coma,\\ and /\n",
    "contains_space = df['MATERIAL_ID'].str.contains(' ')\n",
    "contains_two_words = df['MATERIAL_ID'].str.split().str.len() == 2\n",
    "contains_forward_slash = df['MATERIAL_ID'].str.contains('/')\n",
    "contains_backward_slash = df['MATERIAL_ID'].str.contains(r'\\b\\\\b')\n",
    "contains_coma = df['MATERIAL_ID'].str.contains(',')\n",
    "contains_hyphen = df['MATERIAL_ID'].str.contains('-')\n",
    "contains_and = df['MATERIAL_ID'].str.contains('and')\n",
    "contains_ampersand = df['MATERIAL_ID'].str.contains('&')\n",
    "print(f'The MATERIAL_ID column has {contains_space.sum()} value with space')\n",
    "print(f'The MATERIAL_ID column has {contains_two_words.sum()} value with two word')\n",
    "print(f'The MATERIAL_ID column has {contains_forward_slash.sum()} value with forward slash')\n",
    "print(f'The MATERIAL_ID column has {contains_backward_slash.sum()} value with backward slash')\n",
    "print(f'The MATERIAL_ID column has {contains_coma.sum()} value with coma')\n",
    "print(f'The MATERIAL_ID column has {contains_hyphen.sum()} value with hyphen')\n",
    "print(f'The MATERIAL_ID column has {contains_and.sum()} value with and')\n",
    "print(f'The MATERIAL_ID column has {contains_ampersand.sum()} value with &')"
   ]
  },
  {
   "cell_type": "markdown",
   "id": "27d9cf06",
   "metadata": {},
   "source": [
    "### SUB_COMMODITY_DESC"
   ]
  },
  {
   "cell_type": "code",
   "execution_count": 77,
   "id": "f84d0903",
   "metadata": {},
   "outputs": [
    {
     "data": {
      "text/plain": [
       "73"
      ]
     },
     "execution_count": 77,
     "metadata": {},
     "output_type": "execute_result"
    }
   ],
   "source": [
    "#Checking Unique value\n",
    "df['SUB_COMMODITY_DESC'].nunique()"
   ]
  },
  {
   "cell_type": "code",
   "execution_count": 78,
   "id": "4b3af123",
   "metadata": {},
   "outputs": [
    {
     "name": "stdout",
     "output_type": "stream",
     "text": [
      "The SUB_COMMODITY_DESC column has 862176 value with space\n",
      "The SUB_COMMODITY_DESC column has 407002 value with two word\n",
      "The SUB_COMMODITY_DESC column has 0 value with forward slash\n",
      "The SUB_COMMODITY_DESC column has 0 value with backward slash\n",
      "The SUB_COMMODITY_DESC column has 124028 value with coma\n",
      "The SUB_COMMODITY_DESC column has 0 value with hyphen\n",
      "The SUB_COMMODITY_DESC column has 65988 value with and\n",
      "The SUB_COMMODITY_DESC column has 392073 value with &\n"
     ]
    }
   ],
   "source": [
    "#Check for values with space, two words, coma,\\ and /\n",
    "contains_space = df['SUB_COMMODITY_DESC'].str.contains(' ')\n",
    "contains_two_words = df['SUB_COMMODITY_DESC'].str.split().str.len() == 2\n",
    "contains_forward_slash = df['SUB_COMMODITY_DESC'].str.contains('/')\n",
    "contains_backward_slash = df['SUB_COMMODITY_DESC'].str.contains(r'\\b\\\\b')\n",
    "contains_coma = df['SUB_COMMODITY_DESC'].str.contains(',')\n",
    "contains_hyphen = df['SUB_COMMODITY_DESC'].str.contains('-')\n",
    "contains_and = df['SUB_COMMODITY_DESC'].str.contains('and')\n",
    "contains_ampersand = df['SUB_COMMODITY_DESC'].str.contains('&')\n",
    "print(f'The SUB_COMMODITY_DESC column has {contains_space.sum()} value with space')\n",
    "print(f'The SUB_COMMODITY_DESC column has {contains_two_words.sum()} value with two word')\n",
    "print(f'The SUB_COMMODITY_DESC column has {contains_forward_slash.sum()} value with forward slash')\n",
    "print(f'The SUB_COMMODITY_DESC column has {contains_backward_slash.sum()} value with backward slash')\n",
    "print(f'The SUB_COMMODITY_DESC column has {contains_coma.sum()} value with coma')\n",
    "print(f'The SUB_COMMODITY_DESC column has {contains_hyphen.sum()} value with hyphen')\n",
    "print(f'The SUB_COMMODITY_DESC column has {contains_and.sum()} value with and')\n",
    "print(f'The SUB_COMMODITY_DESC column has {contains_ampersand.sum()} value with &')"
   ]
  },
  {
   "cell_type": "code",
   "execution_count": 79,
   "id": "2f2682ac",
   "metadata": {},
   "outputs": [
    {
     "data": {
      "image/png": "[encoded data removed]",
      "text/plain": [
       "<Figure size 720x432 with 1 Axes>"
      ]
     },
     "metadata": {
      "needs_background": "light"
     },
     "output_type": "display_data"
    }
   ],
   "source": [
    "# ploting in bar chart\n",
    "categories = ['Space', 'Two Words', 'Forward Slash', 'Backward Slash', 'Comma', 'Hyphen', 'and', '&']\n",
    "counts = [contains_space.sum(), contains_two_words.sum(), contains_forward_slash.sum(), contains_backward_slash.sum(), contains_coma.sum(), contains_hyphen.sum(), contains_and.sum(), contains_ampersand.sum()]\n",
    "plt.figure(figsize=(10, 6))\n",
    "plt.bar(categories, counts, color = colors)\n",
    "plt.xlabel('Category')\n",
    "plt.ylabel('Count')\n",
    "plt.title('SUB_COMMODITY_DESC column values')\n",
    "plt.xticks(rotation=45)\n",
    "plt.show()"
   ]
  },
  {
   "cell_type": "markdown",
   "id": "191b7534",
   "metadata": {},
   "source": [
    "### POR_DELIVERY_DATE"
   ]
  },
  {
   "cell_type": "code",
   "execution_count": 80,
   "id": "460c8c67",
   "metadata": {},
   "outputs": [
    {
     "data": {
      "text/plain": [
       "1984"
      ]
     },
     "execution_count": 80,
     "metadata": {},
     "output_type": "execute_result"
    }
   ],
   "source": [
    "#Checking unique values in the column POR_DELIVERY_DATE\n",
    "df['POR_DELIVERY_DATE'].nunique()"
   ]
  },
  {
   "cell_type": "code",
   "execution_count": 81,
   "id": "e6277794",
   "metadata": {},
   "outputs": [
    {
     "name": "stdout",
     "output_type": "stream",
     "text": [
      "Minimum Date: 2018-01-07 00:00:00\n",
      "Maximum Date: 2033-04-25 00:00:00\n"
     ]
    }
   ],
   "source": [
    "#checking the range of date\n",
    "min_date = df['POR_DELIVERY_DATE'].min()\n",
    "max_date = df['POR_DELIVERY_DATE'].max()\n",
    "\n",
    "# Print the range of dates\n",
    "print(f\"Minimum Date: {min_date}\")\n",
    "print(f\"Maximum Date: {max_date}\")"
   ]
  },
  {
   "cell_type": "code",
   "execution_count": 82,
   "id": "3118a424",
   "metadata": {},
   "outputs": [
    {
     "data": {
      "text/plain": [
       "Timedelta('5587 days 00:00:00')"
      ]
     },
     "execution_count": 82,
     "metadata": {},
     "output_type": "execute_result"
    }
   ],
   "source": [
    "# checking number of days between date range\n",
    "day = max_date - min_date\n",
    "day"
   ]
  },
  {
   "cell_type": "code",
   "execution_count": 83,
   "id": "9e493d0e",
   "metadata": {},
   "outputs": [],
   "source": [
    "#checking is their any null value or value with '0' in our dataset\n",
    "empty_column = (df['POR_DELIVERY_DATE'] == '0').any()\n",
    "NaT_value = df['POR_DELIVERY_DATE'].isna().any()\n",
    "nan_Value = (df['POR_DELIVERY_DATE'] == 'nan').any()\n",
    "null_day = (df['POR_DELIVERY_DATE'].dt.day == 0).any()\n",
    "null_month = (df['POR_DELIVERY_DATE'].dt.month == 0).any()\n",
    "null_year = (df['POR_DELIVERY_DATE'].dt.year == 0).any()"
   ]
  },
  {
   "cell_type": "code",
   "execution_count": 84,
   "id": "c684d8a4",
   "metadata": {},
   "outputs": [
    {
     "name": "stdout",
     "output_type": "stream",
     "text": [
      "          Check  result\n",
      "0  empty_column   False\n",
      "1     NaT_value    True\n",
      "2     nan_Value   False\n",
      "3      null_day   False\n",
      "4    null_month   False\n",
      "5     null_year   False\n"
     ]
    }
   ],
   "source": [
    "result = pd.DataFrame({'Check': ['empty_column', 'NaT_value', 'nan_Value', 'null_day', 'null_month', 'null_year'],\n",
    "                     'result': [empty_column, NaT_value, nan_Value, null_day, null_month, null_year]})\n",
    "print(result.to_string())"
   ]
  },
  {
   "cell_type": "code",
   "execution_count": 85,
   "id": "a6dbcf93",
   "metadata": {},
   "outputs": [
    {
     "data": {
      "image/png": "[encoded data removed]",
      "text/plain": [
       "<Figure size 720x432 with 1 Axes>"
      ]
     },
     "metadata": {
      "needs_background": "light"
     },
     "output_type": "display_data"
    }
   ],
   "source": [
    "yearly_counts = df['POR_DELIVERY_DATE'].dt.year.value_counts().sort_index()\n",
    "plt.figure(figsize=(10, 6))\n",
    "yearly_counts.plot(kind='bar', color= colors)\n",
    "plt.xlabel('Year')\n",
    "plt.ylabel('Count')\n",
    "plt.title('Yearly Distribution of Data')\n",
    "plt.xticks(rotation=45)\n",
    "plt.tight_layout()\n",
    "plt.show()"
   ]
  },
  {
   "cell_type": "code",
   "execution_count": 86,
   "id": "33ce3d42",
   "metadata": {},
   "outputs": [
    {
     "name": "stdout",
     "output_type": "stream",
     "text": [
      "2018.0    22713\n",
      "2019.0    68684\n",
      "2020.0    73536\n",
      "2021.0    53946\n",
      "2022.0    58750\n",
      "2023.0    42627\n",
      "2024.0      101\n",
      "2026.0        1\n",
      "2033.0        1\n",
      "Name: POR_DELIVERY_DATE, dtype: int64\n"
     ]
    }
   ],
   "source": [
    "#printing the values according to year\n",
    "print(yearly_counts)"
   ]
  },
  {
   "cell_type": "code",
   "execution_count": 87,
   "id": "24ef7dca",
   "metadata": {},
   "outputs": [
    {
     "data": {
      "text/html": [
       "<div>\n",
       "<style scoped>\n",
       "    .dataframe tbody tr th:only-of-type {\n",
       "        vertical-align: middle;\n",
       "    }\n",
       "\n",
       "    .dataframe tbody tr th {\n",
       "        vertical-align: top;\n",
       "    }\n",
       "\n",
       "    .dataframe thead th {\n",
       "        text-align: right;\n",
       "    }\n",
       "</style>\n",
       "<table border=\"1\" class=\"dataframe\">\n",
       "  <thead>\n",
       "    <tr style=\"text-align: right;\">\n",
       "      <th></th>\n",
       "      <th>CREATE_DATE</th>\n",
       "      <th>COMPANY_CODE_ID</th>\n",
       "      <th>VENDOR_ID</th>\n",
       "      <th>POSTAL_CD</th>\n",
       "      <th>RELEASE_DATE</th>\n",
       "      <th>MATERIAL_ID</th>\n",
       "      <th>SUB_COMMODITY_DESC</th>\n",
       "      <th>MRP_TYPE_ID</th>\n",
       "      <th>MRP_TYPE_DESC_E</th>\n",
       "      <th>PLANT_ID</th>\n",
       "      <th>POR_DELIVERY_DATE</th>\n",
       "      <th>FIRST_GR_POSTING_DATE</th>\n",
       "      <th>DELIVERY_DATE</th>\n",
       "      <th>REQUESTED_DELIVERY_DATE</th>\n",
       "      <th>PLANNED_DELIVERY_DAYS</th>\n",
       "      <th>BI_LAST_UPDATED_PURCHASE_DOCUMENT_ITEM</th>\n",
       "    </tr>\n",
       "  </thead>\n",
       "  <tbody>\n",
       "    <tr>\n",
       "      <th>1001255</th>\n",
       "      <td>2023-01-18</td>\n",
       "      <td>CA10</td>\n",
       "      <td>8010096209</td>\n",
       "      <td>02835</td>\n",
       "      <td>NaT</td>\n",
       "      <td>2100010934.0</td>\n",
       "      <td>Additives, Colorants &amp; Catalysts</td>\n",
       "      <td>1.0</td>\n",
       "      <td>1.0</td>\n",
       "      <td>4036.0</td>\n",
       "      <td>2033-04-25</td>\n",
       "      <td>2023-05-05</td>\n",
       "      <td>2023-04-25</td>\n",
       "      <td>2023-04-25</td>\n",
       "      <td>14</td>\n",
       "      <td>2023-05-30</td>\n",
       "    </tr>\n",
       "    <tr>\n",
       "      <th>1080551</th>\n",
       "      <td>2023-05-24</td>\n",
       "      <td>US40</td>\n",
       "      <td>8010001749</td>\n",
       "      <td>07054-3713</td>\n",
       "      <td>2023-05-25</td>\n",
       "      <td>nan</td>\n",
       "      <td>Additives, Colorants &amp; Catalysts</td>\n",
       "      <td>nan</td>\n",
       "      <td>nan</td>\n",
       "      <td>4161.0</td>\n",
       "      <td>2026-06-07</td>\n",
       "      <td>2023-06-07</td>\n",
       "      <td>2023-06-07</td>\n",
       "      <td>2023-06-07</td>\n",
       "      <td>14</td>\n",
       "      <td>2023-07-10</td>\n",
       "    </tr>\n",
       "  </tbody>\n",
       "</table>\n",
       "</div>"
      ],
      "text/plain": [
       "        CREATE_DATE COMPANY_CODE_ID   VENDOR_ID   POSTAL_CD RELEASE_DATE  \\\n",
       "1001255  2023-01-18            CA10  8010096209       02835          NaT   \n",
       "1080551  2023-05-24            US40  8010001749  07054-3713   2023-05-25   \n",
       "\n",
       "          MATERIAL_ID                SUB_COMMODITY_DESC MRP_TYPE_ID  \\\n",
       "1001255  2100010934.0  Additives, Colorants & Catalysts         1.0   \n",
       "1080551           nan  Additives, Colorants & Catalysts         nan   \n",
       "\n",
       "        MRP_TYPE_DESC_E PLANT_ID POR_DELIVERY_DATE FIRST_GR_POSTING_DATE  \\\n",
       "1001255             1.0   4036.0        2033-04-25            2023-05-05   \n",
       "1080551             nan   4161.0        2026-06-07            2023-06-07   \n",
       "\n",
       "        DELIVERY_DATE REQUESTED_DELIVERY_DATE  PLANNED_DELIVERY_DAYS  \\\n",
       "1001255    2023-04-25              2023-04-25                     14   \n",
       "1080551    2023-06-07              2023-06-07                     14   \n",
       "\n",
       "        BI_LAST_UPDATED_PURCHASE_DOCUMENT_ITEM  \n",
       "1001255                             2023-05-30  \n",
       "1080551                             2023-07-10  "
      ]
     },
     "execution_count": 87,
     "metadata": {},
     "output_type": "execute_result"
    }
   ],
   "source": [
    "# above data showing we have two rows with for the year 2026 and 2033. this is unusual\n",
    "# printing the rows of 2026 and 2033\n",
    "desired_years = [2026, 2033]\n",
    "filtered_rows = df[df['POR_DELIVERY_DATE'].dt.year.isin(desired_years)]\n",
    "filtered_rows"
   ]
  },
  {
   "cell_type": "markdown",
   "id": "b6b3a9d8",
   "metadata": {},
   "source": [
    "### FIRST_GR_POSTING_DATE"
   ]
  },
  {
   "cell_type": "code",
   "execution_count": 88,
   "id": "fdf267e2",
   "metadata": {},
   "outputs": [
    {
     "data": {
      "text/plain": [
       "1829"
      ]
     },
     "execution_count": 88,
     "metadata": {},
     "output_type": "execute_result"
    }
   ],
   "source": [
    "#Checking unique values in the column FIRST_GR_POSTING_DATE\n",
    "df['FIRST_GR_POSTING_DATE'].nunique()"
   ]
  },
  {
   "cell_type": "code",
   "execution_count": 89,
   "id": "b469a6c0",
   "metadata": {},
   "outputs": [
    {
     "name": "stdout",
     "output_type": "stream",
     "text": [
      "Minimum Date: 2018-09-01 00:00:00\n",
      "Maximum Date: 2023-09-07 00:00:00\n"
     ]
    }
   ],
   "source": [
    "#checking the range of date\n",
    "min_date = df['FIRST_GR_POSTING_DATE'].min()\n",
    "max_date = df['FIRST_GR_POSTING_DATE'].max()\n",
    "\n",
    "# Print the range of dates\n",
    "print(f\"Minimum Date: {min_date}\")\n",
    "print(f\"Maximum Date: {max_date}\")"
   ]
  },
  {
   "cell_type": "code",
   "execution_count": 90,
   "id": "12b62535",
   "metadata": {},
   "outputs": [
    {
     "data": {
      "text/plain": [
       "Timedelta('1832 days 00:00:00')"
      ]
     },
     "execution_count": 90,
     "metadata": {},
     "output_type": "execute_result"
    }
   ],
   "source": [
    "# checking number of days between date range\n",
    "day = max_date - min_date\n",
    "day"
   ]
  },
  {
   "cell_type": "code",
   "execution_count": 91,
   "id": "561d4c3b",
   "metadata": {},
   "outputs": [],
   "source": [
    "#checking is their any null value or value with '0' in our dataset\n",
    "empty_column = (df['FIRST_GR_POSTING_DATE'] == '0').any()\n",
    "NaT_value = df['FIRST_GR_POSTING_DATE'].isna().any()\n",
    "nan_Value = (df['FIRST_GR_POSTING_DATE'] == 'nan').any()\n",
    "null_day = (df['FIRST_GR_POSTING_DATE'].dt.day == 0).any()\n",
    "null_month = (df['FIRST_GR_POSTING_DATE'].dt.month == 0).any()\n",
    "null_year = (df['FIRST_GR_POSTING_DATE'].dt.year == 0).any()"
   ]
  },
  {
   "cell_type": "code",
   "execution_count": 92,
   "id": "28b1edfe",
   "metadata": {},
   "outputs": [
    {
     "name": "stdout",
     "output_type": "stream",
     "text": [
      "          Check  result\n",
      "0  empty_column   False\n",
      "1     NaT_value    True\n",
      "2     nan_Value   False\n",
      "3      null_day   False\n",
      "4    null_month   False\n",
      "5     null_year   False\n"
     ]
    }
   ],
   "source": [
    "result = pd.DataFrame({'Check': ['empty_column', 'NaT_value', 'nan_Value', 'null_day', 'null_month', 'null_year'],\n",
    "                     'result': [empty_column, NaT_value, nan_Value, null_day, null_month, null_year]})\n",
    "print(result.to_string())"
   ]
  },
  {
   "cell_type": "code",
   "execution_count": 94,
   "id": "536bd32a",
   "metadata": {},
   "outputs": [
    {
     "data": {
      "image/png": "[encoded data removed]",
      "text/plain": [
       "<Figure size 720x432 with 1 Axes>"
      ]
     },
     "metadata": {
      "needs_background": "light"
     },
     "output_type": "display_data"
    }
   ],
   "source": [
    "# yearly distribution of column FIRST_GR_POSTING_DATE\n",
    "yearly_counts = df['FIRST_GR_POSTING_DATE'].dt.year.value_counts().sort_index()\n",
    "plt.figure(figsize=(10, 6))\n",
    "yearly_counts.plot(kind='bar', color= colors)\n",
    "plt.xlabel('Year')\n",
    "plt.ylabel('Count')\n",
    "plt.title('Yearly Distribution of Data')\n",
    "plt.xticks(rotation=45)\n",
    "plt.tight_layout()\n",
    "plt.show()"
   ]
  },
  {
   "cell_type": "markdown",
   "id": "8035d2e6",
   "metadata": {},
   "source": [
    "### DELIVERY_DATE"
   ]
  },
  {
   "cell_type": "code",
   "execution_count": 95,
   "id": "43db01e4",
   "metadata": {},
   "outputs": [
    {
     "data": {
      "text/plain": [
       "2331"
      ]
     },
     "execution_count": 95,
     "metadata": {},
     "output_type": "execute_result"
    }
   ],
   "source": [
    "#Checking unique values in the column DELIVERY_DATE\n",
    "df['DELIVERY_DATE'].nunique()"
   ]
  },
  {
   "cell_type": "code",
   "execution_count": 96,
   "id": "3fb75253",
   "metadata": {},
   "outputs": [
    {
     "name": "stdout",
     "output_type": "stream",
     "text": [
      "Minimum Date: 2002-11-24 00:00:00\n",
      "Maximum Date: 2038-01-18 00:00:00\n"
     ]
    }
   ],
   "source": [
    "#checking the range of date\n",
    "min_date = df['DELIVERY_DATE'].min()\n",
    "max_date = df['DELIVERY_DATE'].max()\n",
    "\n",
    "# Print the range of dates\n",
    "print(f\"Minimum Date: {min_date}\")\n",
    "print(f\"Maximum Date: {max_date}\")"
   ]
  },
  {
   "cell_type": "code",
   "execution_count": 97,
   "id": "7c70a58b",
   "metadata": {},
   "outputs": [
    {
     "data": {
      "text/plain": [
       "Timedelta('12839 days 00:00:00')"
      ]
     },
     "execution_count": 97,
     "metadata": {},
     "output_type": "execute_result"
    }
   ],
   "source": [
    "# checking number of days between date range\n",
    "day = max_date - min_date\n",
    "day"
   ]
  },
  {
   "cell_type": "code",
   "execution_count": 98,
   "id": "ca55025a",
   "metadata": {},
   "outputs": [],
   "source": [
    "#checking is their any null value or value with '0' in our dataset\n",
    "empty_column = (df['DELIVERY_DATE'] == '0').any()\n",
    "NaT_value = df['DELIVERY_DATE'].isna().any()\n",
    "nan_Value = (df['DELIVERY_DATE'] == 'nan').any()\n",
    "null_day = (df['DELIVERY_DATE'].dt.day == 0).any()\n",
    "null_month = (df['DELIVERY_DATE'].dt.month == 0).any()\n",
    "null_year = (df['DELIVERY_DATE'].dt.year == 0).any()"
   ]
  },
  {
   "cell_type": "code",
   "execution_count": 99,
   "id": "653ccf5b",
   "metadata": {},
   "outputs": [
    {
     "name": "stdout",
     "output_type": "stream",
     "text": [
      "          Check  result\n",
      "0  empty_column   False\n",
      "1     NaT_value    True\n",
      "2     nan_Value   False\n",
      "3      null_day   False\n",
      "4    null_month   False\n",
      "5     null_year   False\n"
     ]
    }
   ],
   "source": [
    "result = pd.DataFrame({'Check': ['empty_column', 'NaT_value', 'nan_Value', 'null_day', 'null_month', 'null_year'],\n",
    "                     'result': [empty_column, NaT_value, nan_Value, null_day, null_month, null_year]})\n",
    "print(result.to_string())"
   ]
  },
  {
   "cell_type": "code",
   "execution_count": null,
   "id": "3ad35529",
   "metadata": {},
   "outputs": [],
   "source": []
  },
  {
   "cell_type": "code",
   "execution_count": 100,
   "id": "aab68c1e",
   "metadata": {},
   "outputs": [
    {
     "data": {
      "image/png": "[encoded data removed]",
      "text/plain": [
       "<Figure size 720x432 with 1 Axes>"
      ]
     },
     "metadata": {
      "needs_background": "light"
     },
     "output_type": "display_data"
    }
   ],
   "source": [
    "#yearly distribution of delivery date\n",
    "valid_dates = df['DELIVERY_DATE'].dropna()\n",
    "yearly_counts = valid_dates.dt.year.astype(int).value_counts().sort_index()\n",
    "\n",
    "# Convert counts to thousands\n",
    "yearly_counts_in_thousands = yearly_counts / 1000\n",
    "\n",
    "# Define the color\n",
    "bar_color = sn.color_palette(\"Set2\", n_colors=len(yearly_counts_in_thousands))\n",
    "\n",
    "# Create the bar chart\n",
    "plt.figure(figsize=(10, 6))\n",
    "ax = yearly_counts_in_thousands.plot(kind='barh', color=bar_color)\n",
    "\n",
    "plt.ylabel('Year', fontsize=16, fontweight='bold')\n",
    "plt.title('Yearly Distribution of transactions for the Delivery Date', fontsize=18, fontweight='bold')\n",
    "plt.yticks(rotation=0, fontsize = 14, fontweight = 'bold')\n",
    "plt.xticks([])\n",
    "\n",
    "# Remove border lines\n",
    "for spine in ['top', 'right', 'bottom']:\n",
    "    ax.spines[spine].set_visible(False)\n",
    "\n",
    "# Remove tick marks\n",
    "ax.tick_params(axis='both', which='both', length=0)\n",
    "\n",
    "# Remove grid lines\n",
    "ax.grid(False)\n",
    "\n",
    "# Display count values beside the bars\n",
    "#for i, v in enumerate(yearly_counts_in_thousands):\n",
    "    #ax.text(v, i, f'{v:.1f}k', ha='left', va='center', fontsize=14, fontweight='bold', color='black', fontstyle='italic')\n",
    "\n",
    "plt.tight_layout()\n",
    "plt.show()"
   ]
  },
  {
   "cell_type": "code",
   "execution_count": 101,
   "id": "c1657d22",
   "metadata": {},
   "outputs": [
    {
     "name": "stdout",
     "output_type": "stream",
     "text": [
      "2002         1\n",
      "2008         2\n",
      "2010         1\n",
      "2011         1\n",
      "2015         5\n",
      "2016        11\n",
      "2017        20\n",
      "2018     56978\n",
      "2019    203298\n",
      "2020    182319\n",
      "2021    235033\n",
      "2022    215971\n",
      "2023    149076\n",
      "2024       762\n",
      "2025        18\n",
      "2026        18\n",
      "2027         6\n",
      "2030         1\n",
      "2038         1\n",
      "Name: DELIVERY_DATE, dtype: int64\n"
     ]
    }
   ],
   "source": [
    "#printing the values according to year\n",
    "print(yearly_counts)"
   ]
  },
  {
   "cell_type": "markdown",
   "id": "f1f4a433",
   "metadata": {},
   "source": [
    "### REQUESTED_DELIVERY_DATE"
   ]
  },
  {
   "cell_type": "code",
   "execution_count": 102,
   "id": "e800c8fe",
   "metadata": {},
   "outputs": [
    {
     "data": {
      "text/plain": [
       "2243"
      ]
     },
     "execution_count": 102,
     "metadata": {},
     "output_type": "execute_result"
    }
   ],
   "source": [
    "#Checking unique values in the column REQUESTED_DELIVERY_DATE\n",
    "df['REQUESTED_DELIVERY_DATE'].nunique()"
   ]
  },
  {
   "cell_type": "code",
   "execution_count": 103,
   "id": "beea0ade",
   "metadata": {},
   "outputs": [
    {
     "name": "stdout",
     "output_type": "stream",
     "text": [
      "Minimum Date: 2001-12-31 00:00:00\n",
      "Maximum Date: 2038-01-18 00:00:00\n"
     ]
    }
   ],
   "source": [
    "#checking the range of date\n",
    "min_date = df['REQUESTED_DELIVERY_DATE'].min()\n",
    "max_date = df['REQUESTED_DELIVERY_DATE'].max()\n",
    "\n",
    "# Print the range of dates\n",
    "print(f\"Minimum Date: {min_date}\")\n",
    "print(f\"Maximum Date: {max_date}\")"
   ]
  },
  {
   "cell_type": "code",
   "execution_count": 104,
   "id": "875886c5",
   "metadata": {},
   "outputs": [
    {
     "data": {
      "text/plain": [
       "Timedelta('13167 days 00:00:00')"
      ]
     },
     "execution_count": 104,
     "metadata": {},
     "output_type": "execute_result"
    }
   ],
   "source": [
    "# checking number of days between date range\n",
    "day = max_date - min_date\n",
    "day"
   ]
  },
  {
   "cell_type": "code",
   "execution_count": 105,
   "id": "522c1c70",
   "metadata": {},
   "outputs": [],
   "source": [
    "#checking is their any null value or value with '0' in our dataset\n",
    "empty_column = (df['REQUESTED_DELIVERY_DATE'] == '0').any()\n",
    "NaT_value = df['REQUESTED_DELIVERY_DATE'].isna().any()\n",
    "nan_Value = (df['REQUESTED_DELIVERY_DATE'] == 'nan').any()\n",
    "null_day = (df['REQUESTED_DELIVERY_DATE'].dt.day == 0).any()\n",
    "null_month = (df['REQUESTED_DELIVERY_DATE'].dt.month == 0).any()\n",
    "null_year = (df['REQUESTED_DELIVERY_DATE'].dt.year == 0).any()"
   ]
  },
  {
   "cell_type": "code",
   "execution_count": 106,
   "id": "948c0b4e",
   "metadata": {},
   "outputs": [
    {
     "name": "stdout",
     "output_type": "stream",
     "text": [
      "          Check  result\n",
      "0  empty_column   False\n",
      "1     NaT_value    True\n",
      "2     nan_Value   False\n",
      "3      null_day   False\n",
      "4    null_month   False\n",
      "5     null_year   False\n"
     ]
    }
   ],
   "source": [
    "result = pd.DataFrame({'Check': ['empty_column', 'NaT_value', 'nan_Value', 'null_day', 'null_month', 'null_year'],\n",
    "                     'result': [empty_column, NaT_value, nan_Value, null_day, null_month, null_year]})\n",
    "print(result.to_string())"
   ]
  },
  {
   "cell_type": "code",
   "execution_count": 107,
   "id": "c78d345d",
   "metadata": {},
   "outputs": [
    {
     "data": {
      "image/png": "[encoded data removed]",
      "text/plain": [
       "<Figure size 720x432 with 1 Axes>"
      ]
     },
     "metadata": {
      "needs_background": "light"
     },
     "output_type": "display_data"
    }
   ],
   "source": [
    "yearly_counts = df['REQUESTED_DELIVERY_DATE'].dt.year.value_counts().sort_index()\n",
    "plt.figure(figsize=(10, 6))\n",
    "yearly_counts.plot(kind='bar', color= colors)\n",
    "plt.xlabel('Year')\n",
    "plt.ylabel('Count')\n",
    "plt.title('Yearly Distribution of Data')\n",
    "plt.xticks(rotation=45)\n",
    "plt.tight_layout()\n",
    "plt.show()"
   ]
  },
  {
   "cell_type": "code",
   "execution_count": 108,
   "id": "971385d7",
   "metadata": {},
   "outputs": [
    {
     "name": "stdout",
     "output_type": "stream",
     "text": [
      "2001.0        13\n",
      "2002.0         2\n",
      "2008.0         2\n",
      "2009.0         1\n",
      "2010.0         1\n",
      "2011.0         2\n",
      "2015.0         8\n",
      "2016.0        15\n",
      "2017.0        20\n",
      "2018.0     57612\n",
      "2019.0    203094\n",
      "2020.0    182355\n",
      "2021.0    235352\n",
      "2022.0    215898\n",
      "2023.0    148517\n",
      "2024.0       555\n",
      "2025.0        17\n",
      "2026.0        19\n",
      "2027.0         6\n",
      "2030.0         2\n",
      "2038.0         1\n",
      "Name: REQUESTED_DELIVERY_DATE, dtype: int64\n"
     ]
    }
   ],
   "source": [
    "#printing the values according to year\n",
    "print(yearly_counts)"
   ]
  },
  {
   "cell_type": "code",
   "execution_count": 109,
   "id": "920e5b3d",
   "metadata": {},
   "outputs": [
    {
     "data": {
      "text/plain": [
       "(10449, 16)"
      ]
     },
     "execution_count": 109,
     "metadata": {},
     "output_type": "execute_result"
    }
   ],
   "source": [
    "start_date = '2018-09-07'\n",
    "end_date = '2023-09-07'\n",
    "\n",
    "filtered_df = df[(df['REQUESTED_DELIVERY_DATE'] < start_date) | (df['REQUESTED_DELIVERY_DATE'] > end_date)]\n",
    "filtered_df.shape"
   ]
  },
  {
   "cell_type": "markdown",
   "id": "244f1bae",
   "metadata": {},
   "source": [
    "### PLANNED_DELIVERY_DAYS"
   ]
  },
  {
   "cell_type": "code",
   "execution_count": 110,
   "id": "a7b5e575",
   "metadata": {},
   "outputs": [
    {
     "data": {
      "text/plain": [
       "259"
      ]
     },
     "execution_count": 110,
     "metadata": {},
     "output_type": "execute_result"
    }
   ],
   "source": [
    "#Checking unique values in the column PLANNED_DELIVERY_DAYS\n",
    "df['PLANNED_DELIVERY_DAYS'].nunique()"
   ]
  },
  {
   "cell_type": "code",
   "execution_count": 111,
   "id": "beff8958",
   "metadata": {},
   "outputs": [
    {
     "name": "stdout",
     "output_type": "stream",
     "text": [
      "Minimum value: 0\n",
      "Maximum value: 999\n"
     ]
    }
   ],
   "source": [
    "min_value = df['PLANNED_DELIVERY_DAYS'].min()\n",
    "max_value = df['PLANNED_DELIVERY_DAYS'].max()\n",
    "\n",
    "print(f\"Minimum value: {min_value}\")\n",
    "print(f\"Maximum value: {max_value}\")"
   ]
  },
  {
   "cell_type": "code",
   "execution_count": 112,
   "id": "94e22cd1",
   "metadata": {},
   "outputs": [
    {
     "data": {
      "text/plain": [
       "15"
      ]
     },
     "execution_count": 112,
     "metadata": {},
     "output_type": "execute_result"
    }
   ],
   "source": [
    "df['PLANNED_DELIVERY_DAYS'].isna().sum()"
   ]
  },
  {
   "cell_type": "markdown",
   "id": "bdf9bfe0",
   "metadata": {},
   "source": [
    "# BI_LAST_UPDATED_PURCHASE_DOCUMENT_ITEM"
   ]
  },
  {
   "cell_type": "code",
   "execution_count": 114,
   "id": "86c6f52d",
   "metadata": {},
   "outputs": [
    {
     "data": {
      "text/plain": [
       "566"
      ]
     },
     "execution_count": 114,
     "metadata": {},
     "output_type": "execute_result"
    }
   ],
   "source": [
    "#unique values in column BI_LAST_UPDATED_PURCHASE_DOCUMENT_ITEM\n",
    "df['BI_LAST_UPDATED_PURCHASE_DOCUMENT_ITEM'].nunique()"
   ]
  },
  {
   "cell_type": "code",
   "execution_count": 115,
   "id": "e7e9e566",
   "metadata": {},
   "outputs": [
    {
     "name": "stdout",
     "output_type": "stream",
     "text": [
      "Minimum Date: 2021-11-08 00:00:00\n",
      "Maximum Date: 2023-09-07 00:00:00\n"
     ]
    }
   ],
   "source": [
    "#checking the range of date\n",
    "min_date = df['BI_LAST_UPDATED_PURCHASE_DOCUMENT_ITEM'].min()\n",
    "max_date = df['BI_LAST_UPDATED_PURCHASE_DOCUMENT_ITEM'].max()\n",
    "\n",
    "# Print the range of dates\n",
    "print(f\"Minimum Date: {min_date}\")\n",
    "print(f\"Maximum Date: {max_date}\")"
   ]
  },
  {
   "cell_type": "code",
   "execution_count": 116,
   "id": "ffce05b5",
   "metadata": {},
   "outputs": [
    {
     "data": {
      "text/plain": [
       "Timedelta('668 days 00:00:00')"
      ]
     },
     "execution_count": 116,
     "metadata": {},
     "output_type": "execute_result"
    }
   ],
   "source": [
    "# checking number of days between date range\n",
    "day = max_date - min_date\n",
    "day"
   ]
  },
  {
   "cell_type": "code",
   "execution_count": 117,
   "id": "91ed8789",
   "metadata": {},
   "outputs": [],
   "source": [
    "#checking is their any null value or value with '0' in our dataset\n",
    "empty_column = (df['BI_LAST_UPDATED_PURCHASE_DOCUMENT_ITEM'] == '0').any()\n",
    "NaT_value = df['BI_LAST_UPDATED_PURCHASE_DOCUMENT_ITEM'].isna().any()\n",
    "nan_Value = (df['BI_LAST_UPDATED_PURCHASE_DOCUMENT_ITEM'] == 'nan').any()\n",
    "null_day = (df['BI_LAST_UPDATED_PURCHASE_DOCUMENT_ITEM'].dt.day == 0).any()\n",
    "null_month = (df['BI_LAST_UPDATED_PURCHASE_DOCUMENT_ITEM'].dt.month == 0).any()\n",
    "null_year = (df['BI_LAST_UPDATED_PURCHASE_DOCUMENT_ITEM'].dt.year == 0).any()"
   ]
  },
  {
   "cell_type": "code",
   "execution_count": 118,
   "id": "092da37e",
   "metadata": {},
   "outputs": [
    {
     "name": "stdout",
     "output_type": "stream",
     "text": [
      "          Check  result\n",
      "0  empty_column   False\n",
      "1     NaT_value    True\n",
      "2     nan_Value   False\n",
      "3      null_day   False\n",
      "4    null_month   False\n",
      "5     null_year   False\n"
     ]
    }
   ],
   "source": [
    "result = pd.DataFrame({'Check': ['empty_column', 'NaT_value', 'nan_Value', 'null_day', 'null_month', 'null_year'],\n",
    "                     'result': [empty_column, NaT_value, nan_Value, null_day, null_month, null_year]})\n",
    "print(result.to_string())"
   ]
  },
  {
   "cell_type": "code",
   "execution_count": 119,
   "id": "89aca64a",
   "metadata": {},
   "outputs": [
    {
     "data": {
      "image/png": "[encoded data removed]",
      "text/plain": [
       "<Figure size 720x432 with 1 Axes>"
      ]
     },
     "metadata": {
      "needs_background": "light"
     },
     "output_type": "display_data"
    }
   ],
   "source": [
    "yearly_counts = df['BI_LAST_UPDATED_PURCHASE_DOCUMENT_ITEM'].dt.year.value_counts().sort_index()\n",
    "plt.figure(figsize=(10, 6))\n",
    "yearly_counts.plot(kind='bar', color= colors)\n",
    "plt.xlabel('Year')\n",
    "plt.ylabel('Count')\n",
    "plt.title('Yearly Distribution of Data')\n",
    "plt.xticks(rotation=45)\n",
    "plt.tight_layout()\n",
    "plt.show()"
   ]
  },
  {
   "cell_type": "code",
   "execution_count": 121,
   "id": "4a7d917b",
   "metadata": {},
   "outputs": [
    {
     "name": "stdout",
     "output_type": "stream",
     "text": [
      "2021.0    141776\n",
      "2022.0     36886\n",
      "2023.0    910496\n",
      "Name: BI_LAST_UPDATED_PURCHASE_DOCUMENT_ITEM, dtype: int64\n"
     ]
    }
   ],
   "source": [
    "#yearly distribution\n",
    "print(yearly_counts)"
   ]
  },
  {
   "cell_type": "code",
   "execution_count": 122,
   "id": "2da0561f",
   "metadata": {},
   "outputs": [],
   "source": [
    "# Exporting csv file\n",
    "df.to_csv(\"INVISTA_EAD_3.csv\", index = False)"
   ]
  }
 ],
 "metadata": {
  "kernelspec": {
   "display_name": "Python 3 (ipykernel)",
   "language": "python",
   "name": "python3"
  },
  "language_info": {
   "codemirror_mode": {
    "name": "ipython",
    "version": 3
   },
   "file_extension": ".py",
   "mimetype": "text/x-python",
   "name": "python",
   "nbconvert_exporter": "python",
   "pygments_lexer": "ipython3",
   "version": "3.9.7"
  }
 },
 "nbformat": 4,
 "nbformat_minor": 5
}
